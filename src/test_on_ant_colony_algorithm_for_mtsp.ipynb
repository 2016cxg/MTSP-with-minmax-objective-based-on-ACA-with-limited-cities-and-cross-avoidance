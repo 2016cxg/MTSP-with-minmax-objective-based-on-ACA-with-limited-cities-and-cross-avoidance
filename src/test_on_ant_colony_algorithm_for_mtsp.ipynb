{
 "cells": [
  {
   "cell_type": "code",
   "execution_count": 1,
   "metadata": {
    "collapsed": true
   },
   "outputs": [
    {
     "name": "stdout",
     "output_type": "stream",
     "text": [
      "14 1 1 6 7\n"
     ]
    },
    {
     "name": "stdout",
     "output_type": "stream",
     "text": [
      "[[118.13520116738196, 2.1413612365722656], [119.31427507395236, 1.9538664817810059], [119.31427507395236, 2.012698173522949], [119.31427507395236, 2.0159711837768555], [119.31427507395236, 2.0213708877563477], [119.31427507395236, 2.0221352577209473], [119.31427507395236, 2.0423128604888916], [119.31427507395236, 2.046941041946411], [119.31427507395236, 2.050241708755493], [119.31427507395236, 2.1455321311950684]]\n=== values [[118.13520116738196, 119.31427507395236, 119.31427507395236, 119.31427507395236, 119.31427507395236], [], [], []]\n14 1 2 6 7\n"
     ]
    },
    {
     "name": "stdout",
     "output_type": "stream",
     "text": [
      "[[150.53843858459086, 1.973731279373169], [150.53843858459086, 2.0029144287109375], [150.53843858459086, 2.0489213466644287], [150.53843858459086, 2.0850751399993896], [150.53843858459086, 2.114724636077881], [150.53843858459086, 2.2220213413238525], [150.53843858459086, 2.26116943359375], [150.53843858459086, 2.3144145011901855], [150.53843858459086, 2.4221270084381104], [150.53843858459086, 2.4717214107513428]]\n=== values [[118.13520116738196, 119.31427507395236, 119.31427507395236, 119.31427507395236, 119.31427507395236], [150.53843858459086, 150.53843858459086, 150.53843858459086, 150.53843858459086, 150.53843858459086], [], []]\n14 1 3 6 7\n"
     ]
    },
    {
     "name": "stdout",
     "output_type": "stream",
     "text": [
      "[[146.1077780056427, 2.1245779991149902], [146.1077780056427, 2.151059865951538], [146.1077780056427, 2.1638643741607666], [146.1077780056427, 2.1830615997314453], [146.1077780056427, 2.1929831504821777], [146.1077780056427, 2.2402303218841553], [146.1077780056427, 2.3002583980560303], [146.1077780056427, 2.4444398880004883], [146.1077780056427, 2.5436530113220215], [146.1077780056427, 2.6038060188293457]]\n=== values [[118.13520116738196, 119.31427507395236, 119.31427507395236, 119.31427507395236, 119.31427507395236], [150.53843858459086, 150.53843858459086, 150.53843858459086, 150.53843858459086, 150.53843858459086], [146.1077780056427, 146.1077780056427, 146.1077780056427, 146.1077780056427, 146.1077780056427], []]\n14 1 4 6 7\n"
     ]
    },
    {
     "name": "stdout",
     "output_type": "stream",
     "text": [
      "[[133.78475366622672, 2.2344675064086914], [133.78475366622672, 2.4489073753356934], [133.78475366622672, 2.4703543186187744], [133.78475366622672, 2.5135843753814697], [133.78475366622672, 2.5471270084381104], [133.78475366622672, 2.974374532699585], [133.78475366622672, 3.053013324737549], [133.78475366622672, 3.1955199241638184], [140.44342068850557, 2.5519251823425293], [142.52353739310985, 2.639986276626587]]\n=== values [[118.13520116738196, 119.31427507395236, 119.31427507395236, 119.31427507395236, 119.31427507395236], [150.53843858459086, 150.53843858459086, 150.53843858459086, 150.53843858459086, 150.53843858459086], [146.1077780056427, 146.1077780056427, 146.1077780056427, 146.1077780056427, 146.1077780056427], [133.78475366622672, 133.78475366622672, 133.78475366622672, 133.78475366622672, 133.78475366622672]]\n14 2 1 5 8\n"
     ]
    },
    {
     "name": "stdout",
     "output_type": "stream",
     "text": [
      "[[116.96814710400773, 2.1262052059173584], [116.96814710400773, 2.1821892261505127], [119.31427507395236, 2.037355661392212], [119.31427507395236, 2.0496203899383545], [119.31427507395236, 2.1182305812835693], [119.31427507395236, 2.544936180114746], [124.72937843327773, 2.012827157974243], [124.72937843327773, 2.0505030155181885], [124.72937843327773, 2.1393985748291016], [128.04444415823554, 2.063889503479004]]\n=== values [[118.13520116738196, 119.31427507395236, 119.31427507395236, 119.31427507395236, 119.31427507395236, 116.96814710400773, 116.96814710400773, 119.31427507395236, 119.31427507395236, 119.31427507395236], [150.53843858459086, 150.53843858459086, 150.53843858459086, 150.53843858459086, 150.53843858459086], [146.1077780056427, 146.1077780056427, 146.1077780056427, 146.1077780056427, 146.1077780056427], [133.78475366622672, 133.78475366622672, 133.78475366622672, 133.78475366622672, 133.78475366622672]]\n14 2 2 5 8\n"
     ]
    },
    {
     "name": "stdout",
     "output_type": "stream",
     "text": [
      "[[150.54321298607854, 2.142080307006836], [150.54321298607854, 2.1434690952301025], [151.57438704068994, 2.0931968688964844], [151.57438704068994, 2.1037778854370117], [151.57438704068994, 2.1539101600646973], [152.72619479072364, 2.3115248680114746], [154.39389501720157, 2.1543350219726562], [156.31991371983457, 2.1742496490478516], [156.31991371983457, 2.1985883712768555], [156.31991371983457, 2.297405242919922]]\n=== values [[118.13520116738196, 119.31427507395236, 119.31427507395236, 119.31427507395236, 119.31427507395236, 116.96814710400773, 116.96814710400773, 119.31427507395236, 119.31427507395236, 119.31427507395236], [150.53843858459086, 150.53843858459086, 150.53843858459086, 150.53843858459086, 150.53843858459086, 150.54321298607854, 150.54321298607854, 151.57438704068994, 151.57438704068994, 151.57438704068994], [146.1077780056427, 146.1077780056427, 146.1077780056427, 146.1077780056427, 146.1077780056427], [133.78475366622672, 133.78475366622672, 133.78475366622672, 133.78475366622672, 133.78475366622672]]\n14 2 3 5 8\n"
     ]
    },
    {
     "name": "stdout",
     "output_type": "stream",
     "text": [
      "[[146.1077780056427, 2.0661346912384033], [146.1077780056427, 2.0908570289611816], [146.1077780056427, 2.1048359870910645], [146.1077780056427, 2.163370370864868], [146.1077780056427, 2.1891655921936035], [146.1077780056427, 2.1998233795166016], [146.1077780056427, 2.2149946689605713], [146.1077780056427, 2.2261252403259277], [146.1077780056427, 2.2472550868988037], [147.56246706634357, 2.1202101707458496]]\n=== values [[118.13520116738196, 119.31427507395236, 119.31427507395236, 119.31427507395236, 119.31427507395236, 116.96814710400773, 116.96814710400773, 119.31427507395236, 119.31427507395236, 119.31427507395236], [150.53843858459086, 150.53843858459086, 150.53843858459086, 150.53843858459086, 150.53843858459086, 150.54321298607854, 150.54321298607854, 151.57438704068994, 151.57438704068994, 151.57438704068994], [146.1077780056427, 146.1077780056427, 146.1077780056427, 146.1077780056427, 146.1077780056427, 146.1077780056427, 146.1077780056427, 146.1077780056427, 146.1077780056427, 146.1077780056427], [133.78475366622672, 133.78475366622672, 133.78475366622672, 133.78475366622672, 133.78475366622672]]\n14 2 4 5 8\n"
     ]
    },
    {
     "name": "stdout",
     "output_type": "stream",
     "text": [
      "[[133.78475366622672, 2.288748264312744], [133.78475366622672, 2.331981897354126], [133.78475366622672, 2.3916428089141846], [135.86436820967097, 2.2120699882507324], [135.86436820967097, 2.434316873550415], [139.14158523886138, 2.269967794418335], [139.14158523886138, 2.372128963470459], [140.44342068850557, 2.1453757286071777], [140.71830596701608, 2.2351508140563965], [142.52353739310985, 2.1375436782836914]]\n=== values [[118.13520116738196, 119.31427507395236, 119.31427507395236, 119.31427507395236, 119.31427507395236, 116.96814710400773, 116.96814710400773, 119.31427507395236, 119.31427507395236, 119.31427507395236], [150.53843858459086, 150.53843858459086, 150.53843858459086, 150.53843858459086, 150.53843858459086, 150.54321298607854, 150.54321298607854, 151.57438704068994, 151.57438704068994, 151.57438704068994], [146.1077780056427, 146.1077780056427, 146.1077780056427, 146.1077780056427, 146.1077780056427, 146.1077780056427, 146.1077780056427, 146.1077780056427, 146.1077780056427, 146.1077780056427], [133.78475366622672, 133.78475366622672, 133.78475366622672, 133.78475366622672, 133.78475366622672, 133.78475366622672, 133.78475366622672, 133.78475366622672, 135.86436820967097, 135.86436820967097]]\n14 3 1 4 9\n"
     ]
    },
    {
     "name": "stdout",
     "output_type": "stream",
     "text": [
      "[[116.96814710400773, 2.3702383041381836], [119.31427507395236, 2.1278724670410156], [119.31427507395236, 2.1645123958587646], [119.31427507395236, 2.171236515045166], [119.31427507395236, 2.206817150115967], [119.31427507395236, 2.210629463195801], [119.31427507395236, 2.3375604152679443], [120.43590123441487, 2.1124753952026367], [120.43590123441487, 2.2798261642456055], [128.12642583327823, 2.1891331672668457]]\n=== values [[118.13520116738196, 119.31427507395236, 119.31427507395236, 119.31427507395236, 119.31427507395236, 116.96814710400773, 116.96814710400773, 119.31427507395236, 119.31427507395236, 119.31427507395236, 116.96814710400773, 119.31427507395236, 119.31427507395236, 119.31427507395236, 119.31427507395236], [150.53843858459086, 150.53843858459086, 150.53843858459086, 150.53843858459086, 150.53843858459086, 150.54321298607854, 150.54321298607854, 151.57438704068994, 151.57438704068994, 151.57438704068994], [146.1077780056427, 146.1077780056427, 146.1077780056427, 146.1077780056427, 146.1077780056427, 146.1077780056427, 146.1077780056427, 146.1077780056427, 146.1077780056427, 146.1077780056427], [133.78475366622672, 133.78475366622672, 133.78475366622672, 133.78475366622672, 133.78475366622672, 133.78475366622672, 133.78475366622672, 133.78475366622672, 135.86436820967097, 135.86436820967097]]\n14 3 2 4 9\n"
     ]
    },
    {
     "ename": "KeyboardInterrupt",
     "evalue": "",
     "traceback": [
      "\u001b[0;31m---------------------------------------------------------------------------\u001b[0m",
      "\u001b[0;31mKeyboardInterrupt\u001b[0m                         Traceback (most recent call last)",
      "\u001b[0;32m<ipython-input-1-8f1e45ed7b42>\u001b[0m in \u001b[0;36m<module>\u001b[0;34m()\u001b[0m\n\u001b[1;32m     33\u001b[0m                                     \u001b[0mK\u001b[0m \u001b[0;34m=\u001b[0m \u001b[0mlw\u001b[0m\u001b[0;34m,\u001b[0m \u001b[0mL\u001b[0m \u001b[0;34m=\u001b[0m \u001b[0mhg\u001b[0m\u001b[0;34m,\u001b[0m\u001b[0;34m\u001b[0m\u001b[0m\n\u001b[1;32m     34\u001b[0m                                 datasets= \"/home/cheng/PycharmProjects/TSP/datasets/dist%d_%d\" %(n,m))\n\u001b[0;32m---> 35\u001b[0;31m                 \u001b[0mmtsp\u001b[0m\u001b[0;34m.\u001b[0m\u001b[0mexcution\u001b[0m\u001b[0;34m(\u001b[0m\u001b[0;34m)\u001b[0m\u001b[0;34m\u001b[0m\u001b[0m\n\u001b[0m\u001b[1;32m     36\u001b[0m                 \u001b[0mb\u001b[0m \u001b[0;34m=\u001b[0m \u001b[0mtime\u001b[0m\u001b[0;34m.\u001b[0m\u001b[0mtime\u001b[0m\u001b[0;34m(\u001b[0m\u001b[0;34m)\u001b[0m\u001b[0;34m\u001b[0m\u001b[0m\n\u001b[1;32m     37\u001b[0m                 \u001b[0;31m# print( \"time in second\", b - a )\u001b[0m\u001b[0;34m\u001b[0m\u001b[0;34m\u001b[0m\u001b[0m\n",
      "\u001b[0;32m/home/cheng/PycharmProjects/TSP/src/TravelingSalesmanProblem/AntColonyAlgorithmForMTSP.py\u001b[0m in \u001b[0;36mexcution\u001b[0;34m(self)\u001b[0m\n\u001b[1;32m    234\u001b[0m         \u001b[0;32mfor\u001b[0m \u001b[0mi\u001b[0m \u001b[0;32min\u001b[0m \u001b[0mrange\u001b[0m\u001b[0;34m(\u001b[0m \u001b[0mself\u001b[0m\u001b[0;34m.\u001b[0m\u001b[0miter_max\u001b[0m \u001b[0;34m)\u001b[0m\u001b[0;34m:\u001b[0m\u001b[0;34m\u001b[0m\u001b[0m\n\u001b[1;32m    235\u001b[0m             \u001b[0;31m# print( \"in iteration %d\" % i )\u001b[0m\u001b[0;34m\u001b[0m\u001b[0;34m\u001b[0m\u001b[0m\n\u001b[0;32m--> 236\u001b[0;31m             \u001b[0mself\u001b[0m\u001b[0;34m.\u001b[0m\u001b[0m_in_a_generations\u001b[0m\u001b[0;34m(\u001b[0m \u001b[0mi\u001b[0m \u001b[0;34m)\u001b[0m\u001b[0;34m\u001b[0m\u001b[0m\n\u001b[0m\u001b[1;32m    237\u001b[0m         \u001b[0;31m# print(\"in eliminate cross\")\u001b[0m\u001b[0;34m\u001b[0m\u001b[0;34m\u001b[0m\u001b[0m\n\u001b[1;32m    238\u001b[0m         \u001b[0mself\u001b[0m\u001b[0;34m.\u001b[0m\u001b[0mTable\u001b[0m\u001b[0;34m[\u001b[0m\u001b[0;36m0\u001b[0m\u001b[0;34m]\u001b[0m \u001b[0;34m=\u001b[0m \u001b[0mself\u001b[0m\u001b[0;34m.\u001b[0m\u001b[0mRoute_best\u001b[0m\u001b[0;34m[\u001b[0m\u001b[0mself\u001b[0m\u001b[0;34m.\u001b[0m\u001b[0mLimit_iter\u001b[0m\u001b[0;34m]\u001b[0m\u001b[0;34m\u001b[0m\u001b[0m\n",
      "\u001b[0;32m/home/cheng/PycharmProjects/TSP/src/TravelingSalesmanProblem/AntColonyAlgorithmForMTSP.py\u001b[0m in \u001b[0;36m_in_a_generations\u001b[0;34m(self, iteration)\u001b[0m\n\u001b[1;32m    220\u001b[0m                                                             \u001b[0mleft_vehicle\u001b[0m\u001b[0;34m,\u001b[0m        \u001b[0;31m# left vehicles\u001b[0m\u001b[0;34m\u001b[0m\u001b[0m\n\u001b[1;32m    221\u001b[0m                                                             \u001b[0mj\u001b[0m\u001b[0;34m,\u001b[0m\u001b[0;34m\u001b[0m\u001b[0m\n\u001b[0;32m--> 222\u001b[0;31m                                                             visitied_cities)\n\u001b[0m\u001b[1;32m    223\u001b[0m                 \u001b[0mvisitied_cities\u001b[0m \u001b[0;34m=\u001b[0m \u001b[0mvisitied_cities\u001b[0m \u001b[0;34m+\u001b[0m \u001b[0;36m1\u001b[0m\u001b[0;34m\u001b[0m\u001b[0m\n\u001b[1;32m    224\u001b[0m                 \u001b[0;32mif\u001b[0m \u001b[0mnext_city\u001b[0m \u001b[0;34m==\u001b[0m \u001b[0mself\u001b[0m\u001b[0;34m.\u001b[0m\u001b[0mdepot\u001b[0m\u001b[0;34m:\u001b[0m\u001b[0;34m\u001b[0m\u001b[0m\n",
      "\u001b[0;32m/home/cheng/PycharmProjects/TSP/src/TravelingSalesmanProblem/AntColonyAlgorithmForMTSP.py\u001b[0m in \u001b[0;36m_choose_next_city\u001b[0;34m(self, forbiddenCities, n, A, pheromoneTable, heuristicTable, alpha, beta, left_vehicle, pos, visitied_cities)\u001b[0m\n\u001b[1;32m     92\u001b[0m         \u001b[0;32mif\u001b[0m \u001b[0mpos\u001b[0m \u001b[0;34m==\u001b[0m \u001b[0;36m0\u001b[0m \u001b[0;34m:\u001b[0m\u001b[0;34m\u001b[0m\u001b[0m\n\u001b[1;32m     93\u001b[0m             \u001b[0;32mreturn\u001b[0m \u001b[0mself\u001b[0m\u001b[0;34m.\u001b[0m\u001b[0mdepot\u001b[0m\u001b[0;34m\u001b[0m\u001b[0m\n\u001b[0;32m---> 94\u001b[0;31m         \u001b[0mcomplementaryCity\u001b[0m \u001b[0;34m=\u001b[0m \u001b[0mcomplementary_cities\u001b[0m\u001b[0;34m(\u001b[0m\u001b[0mforbiddenCities\u001b[0m\u001b[0;34m,\u001b[0m \u001b[0mn\u001b[0m\u001b[0;34m)\u001b[0m\u001b[0;34m\u001b[0m\u001b[0m\n\u001b[0m\u001b[1;32m     95\u001b[0m         \u001b[0;31m# print( type( complementaryCity ))\u001b[0m\u001b[0;34m\u001b[0m\u001b[0;34m\u001b[0m\u001b[0m\n\u001b[1;32m     96\u001b[0m         \u001b[0mcomplementaryCity\u001b[0m \u001b[0;34m=\u001b[0m \u001b[0mcomplementaryCity\u001b[0m\u001b[0;34m.\u001b[0m\u001b[0mtolist\u001b[0m\u001b[0;34m(\u001b[0m\u001b[0;34m)\u001b[0m\u001b[0;34m\u001b[0m\u001b[0m\n",
      "\u001b[0;32m/home/cheng/PycharmProjects/TSP/src/TravelingSalesmanProblem/AntColonyAlgorithmForMTSP.py\u001b[0m in \u001b[0;36mcomplementary_cities\u001b[0;34m(forbiddenCities, n)\u001b[0m\n\u001b[1;32m     79\u001b[0m         \u001b[0;32mdef\u001b[0m \u001b[0mcomplementary_cities\u001b[0m\u001b[0;34m(\u001b[0m\u001b[0mforbiddenCities\u001b[0m\u001b[0;34m,\u001b[0m \u001b[0mn\u001b[0m\u001b[0;34m)\u001b[0m\u001b[0;34m:\u001b[0m\u001b[0;34m\u001b[0m\u001b[0m\n\u001b[1;32m     80\u001b[0m             \u001b[0mcities\u001b[0m \u001b[0;34m=\u001b[0m \u001b[0mnp\u001b[0m\u001b[0;34m.\u001b[0m\u001b[0marray\u001b[0m\u001b[0;34m(\u001b[0m\u001b[0;34m[\u001b[0m\u001b[0mi\u001b[0m \u001b[0;32mfor\u001b[0m \u001b[0mi\u001b[0m \u001b[0;32min\u001b[0m \u001b[0mrange\u001b[0m\u001b[0;34m(\u001b[0m\u001b[0mn\u001b[0m\u001b[0;34m)\u001b[0m\u001b[0;34m]\u001b[0m\u001b[0;34m)\u001b[0m\u001b[0;34m\u001b[0m\u001b[0m\n\u001b[0;32m---> 81\u001b[0;31m             \u001b[0;32mreturn\u001b[0m \u001b[0mnp\u001b[0m\u001b[0;34m.\u001b[0m\u001b[0msetxor1d\u001b[0m\u001b[0;34m(\u001b[0m\u001b[0mcities\u001b[0m\u001b[0;34m,\u001b[0m \u001b[0mforbiddenCities\u001b[0m\u001b[0;34m)\u001b[0m\u001b[0;34m\u001b[0m\u001b[0m\n\u001b[0m\u001b[1;32m     82\u001b[0m \u001b[0;34m\u001b[0m\u001b[0m\n\u001b[1;32m     83\u001b[0m         \u001b[0;32mdef\u001b[0m \u001b[0mprobabilityOfACity\u001b[0m\u001b[0;34m(\u001b[0m\u001b[0mA\u001b[0m\u001b[0;34m,\u001b[0m \u001b[0mB\u001b[0m\u001b[0;34m,\u001b[0m \u001b[0mpheromoneTable\u001b[0m\u001b[0;34m,\u001b[0m \u001b[0mheuristicTable\u001b[0m\u001b[0;34m,\u001b[0m \u001b[0malpha\u001b[0m\u001b[0;34m,\u001b[0m \u001b[0mbeta\u001b[0m\u001b[0;34m)\u001b[0m\u001b[0;34m:\u001b[0m\u001b[0;34m\u001b[0m\u001b[0m\n",
      "\u001b[0;32m/home/cheng/anaconda3/lib/python3.6/site-packages/numpy/lib/arraysetops.py\u001b[0m in \u001b[0;36msetxor1d\u001b[0;34m(ar1, ar2, assume_unique)\u001b[0m\n\u001b[1;32m    290\u001b[0m     \u001b[0;32mif\u001b[0m \u001b[0;32mnot\u001b[0m \u001b[0massume_unique\u001b[0m\u001b[0;34m:\u001b[0m\u001b[0;34m\u001b[0m\u001b[0m\n\u001b[1;32m    291\u001b[0m         \u001b[0mar1\u001b[0m \u001b[0;34m=\u001b[0m \u001b[0munique\u001b[0m\u001b[0;34m(\u001b[0m\u001b[0mar1\u001b[0m\u001b[0;34m)\u001b[0m\u001b[0;34m\u001b[0m\u001b[0m\n\u001b[0;32m--> 292\u001b[0;31m         \u001b[0mar2\u001b[0m \u001b[0;34m=\u001b[0m \u001b[0munique\u001b[0m\u001b[0;34m(\u001b[0m\u001b[0mar2\u001b[0m\u001b[0;34m)\u001b[0m\u001b[0;34m\u001b[0m\u001b[0m\n\u001b[0m\u001b[1;32m    293\u001b[0m \u001b[0;34m\u001b[0m\u001b[0m\n\u001b[1;32m    294\u001b[0m     \u001b[0maux\u001b[0m \u001b[0;34m=\u001b[0m \u001b[0mnp\u001b[0m\u001b[0;34m.\u001b[0m\u001b[0mconcatenate\u001b[0m\u001b[0;34m(\u001b[0m\u001b[0;34m(\u001b[0m\u001b[0mar1\u001b[0m\u001b[0;34m,\u001b[0m \u001b[0mar2\u001b[0m\u001b[0;34m)\u001b[0m\u001b[0;34m)\u001b[0m\u001b[0;34m\u001b[0m\u001b[0m\n",
      "\u001b[0;32m/home/cheng/anaconda3/lib/python3.6/site-packages/numpy/lib/arraysetops.py\u001b[0m in \u001b[0;36munique\u001b[0;34m(ar, return_index, return_inverse, return_counts)\u001b[0m\n\u001b[1;32m    201\u001b[0m \u001b[0;34m\u001b[0m\u001b[0m\n\u001b[1;32m    202\u001b[0m     \u001b[0;32mif\u001b[0m \u001b[0;32mnot\u001b[0m \u001b[0moptional_returns\u001b[0m\u001b[0;34m:\u001b[0m\u001b[0;34m\u001b[0m\u001b[0m\n\u001b[0;32m--> 203\u001b[0;31m         \u001b[0mret\u001b[0m \u001b[0;34m=\u001b[0m \u001b[0maux\u001b[0m\u001b[0;34m[\u001b[0m\u001b[0mflag\u001b[0m\u001b[0;34m]\u001b[0m\u001b[0;34m\u001b[0m\u001b[0m\n\u001b[0m\u001b[1;32m    204\u001b[0m     \u001b[0;32melse\u001b[0m\u001b[0;34m:\u001b[0m\u001b[0;34m\u001b[0m\u001b[0m\n\u001b[1;32m    205\u001b[0m         \u001b[0mret\u001b[0m \u001b[0;34m=\u001b[0m \u001b[0;34m(\u001b[0m\u001b[0maux\u001b[0m\u001b[0;34m[\u001b[0m\u001b[0mflag\u001b[0m\u001b[0;34m]\u001b[0m\u001b[0;34m,\u001b[0m\u001b[0;34m)\u001b[0m\u001b[0;34m\u001b[0m\u001b[0m\n",
      "\u001b[0;31mKeyboardInterrupt\u001b[0m: "
     ],
     "output_type": "error"
    }
   ],
   "source": [
    "# A2 interval \n",
    "\n",
    "# Find best interval for every n ={12,14,16,18}\n",
    "import sys\n",
    "sys.path.append(\"/home/cheng/PycharmProjects/TSP/src/\")\n",
    "sys.path.append(\"/home/cheng/PycharmProjects/TSP/src/TravelingSalesmanProblem/\")\n",
    "sys.path.append(\"/home/cheng/PycharmProjects/TSP/\")\n",
    "import time\n",
    "import pandas as pd\n",
    "\n",
    "project_path = \"/home/cheng/PycharmProjects/TSP/\"\n",
    "\n",
    "from TravelingSalesmanProblem.AntColonyAlgorithmForMTSP import *\n",
    "\n",
    "for n in [14,16,18]: # n\n",
    "    col = 4\n",
    "    valuelst = [[] for i in range(col)]\n",
    "    timelst = [[] for i in range(col)]\n",
    "    interval = []\n",
    "    row = 5\n",
    "    k_value = [1,2,3]\n",
    "    m_value = [i for i in range(1, col + 1)]\n",
    "    for k in k_value: # interval\n",
    "        lw = int((n-1)/2) - (k-1)\n",
    "        hg = int( (n-1)/2 ) + k\n",
    "        interval.extend( [(lw, hg) for i in range(row)])\n",
    "        for m in m_value:  # the mth datasets of n\n",
    "            print( n, k,m, lw, hg)\n",
    "            lst = []\n",
    "            for i in range( 10 ):\n",
    "                a = time.time()\n",
    "                mtsp = AntColonyAlgorithmForMTSP(iter_max= 20,alpha=1,beta=5, vol= 0.9, num= 2, \n",
    "                                    K = lw, L = hg,\n",
    "                                datasets= \"/home/cheng/PycharmProjects/TSP/datasets/dist%d_%d\" %(n,m))\n",
    "                mtsp.excution()\n",
    "                b = time.time()\n",
    "                # print( \"time in second\", b - a )\n",
    "                lst.append( [ mtsp.return_best()[0], b-a])\n",
    "                # mtsp.print_information()\n",
    "                # mtsp.plot()\n",
    "            def custom_key(x ):\n",
    "                return x[0],x[1]\n",
    "            lst = sorted( lst, key= custom_key )\n",
    "            print( lst )\n",
    "            \n",
    "            valuelst[m-1].extend( [lst[i][0] for i in range( row )] )\n",
    "            timelst[m-1].extend( [lst[i][1] for i in range( row )] )\n",
    "            print(\"=== values\", valuelst)\n",
    "    data = []\n",
    "    data.append(interval)\n",
    "    data.extend(valuelst)\n",
    "    data.extend(timelst)\n",
    "    print( data )\n",
    "    \n",
    "    label =[]\n",
    "    label.extend([\"interval\"])\n",
    "    label.extend([\"p%d_value\"%i for i in range(1,col+1)])\n",
    "    label.extend([\"p%d_time\"%i  for i in range(1,col+1)])\n",
    "    \n",
    "    path = \"/home/cheng/桌面/data/A2_n%d.csv\" %n\n",
    "    # pd.read_csv(path)\n",
    "    dataframe = pd.DataFrame()\n",
    "    print( label )\n",
    "    print( data )\n",
    "    for i in range( len( label)):\n",
    "        dataframe[ label[i] ] = data[i]\n",
    "    dataframe.to_csv(path)\n",
    "\n",
    "\n",
    "# 2 mean result for every n\n",
    "import pandas as pd\n",
    "optional = pd.read_csv(\"/home/cheng/桌面/data/A1_optional.csv\")\n",
    "n12 = pd.read_csv(\"/home/cheng/桌面/data/A2_n12.csv\")\n",
    "n14 = pd.read_csv(\"/home/cheng/桌面/data/A2_n14.csv\")\n",
    "n16 = pd.read_csv(\"/home/cheng/桌面/data/A2_n16.csv\")\n",
    "n18 = pd.read_csv(\"/home/cheng/桌面/data/A2_n18.csv\")\n",
    "\n",
    "ngroup =[]\n",
    "ngroup.extend([n12,n14,n16,n18])\n",
    "group = [12,14,16,18]\n",
    "for k in range(0,4): # group n={12,14,16,18]\n",
    "    tmp = []\n",
    "    for i in [0,5,10]: # interval starts at {0,5,10}\n",
    "        inter = ngroup[k].iloc[i:i+5,2:6]\n",
    "        tmp.append( ( optional.iloc[k,1:5] /inter).mean( axis = 0 ).values )\n",
    "    tmp_ = np.array( tmp )\n",
    "    tmp_ = np.around( tmp_, decimals=3)\n",
    "    df = pd.DataFrame( data=tmp_, columns=[\"p1_value\",\"p2_value\",\"p3_value\",\"p4_value\"])\n",
    "    df['interval']=[ngroup[k].iloc[x,1] for x in [0,5,10]]\n",
    "    df.to_csv(\"/home/cheng/桌面/data/A2_n%d_result.csv\" % group[k])\n",
    "\n",
    "# \n",
    "# # 3, average proportion and time\n",
    "# groupn = [12,14,16,18]\n",
    "# mp = []\n",
    "# for i in groupn:\n",
    "#     tmp = pd.read_csv('/home/cheng/桌面/data/A2_n%d_result.csv' % i)\n",
    "#     mp.append( tmp )\n",
    "#     \n",
    "# bottom = np.zeros((1,inittrailnum))\n",
    "# df = pd.DataFrame()\n",
    "# groupn = [12,14,16,18]\n",
    "# inittrail = [0.1*i for i in range(inittrailnum)]\n",
    "# for i in range( len( groupn ) ):\n",
    "#     df['n%d'% groupn[i] ] = mp[i].iloc[:,1:5].mean( axis= 1).values\n",
    "#     bottom = bottom + mp[i].iloc[:,1:5].mean( axis= 1).values\n",
    "#     print( bottom)\n",
    "# print( df )\n",
    "# df['average'] = df.mean(axis = 1).values\n",
    "# print(df['average'])\n",
    "# df['pho']= inittrail\n",
    "# df.to_csv(\"/home/cheng/桌面/data/A5_propotion_result.csv\")\n",
    "# proportionA4 = bottom/len( groupn)\n",
    "# \n",
    "# bottom = np.zeros((1,inittrailnum))\n",
    "# df = pd.DataFrame()\n",
    "# for i in range(len( groupn )):\n",
    "#     df['n%d'% groupn[i] ] = mp[i].iloc[:,5:9].mean( axis= 1).values\n",
    "#     bottom = bottom + mp[i].iloc[:,5:9].mean( axis= 1).values\n",
    "# df['average'] = df.mean(axis = 1).values\n",
    "# df['pho']= inittrail\n",
    "# df.to_csv(\"/home/cheng/桌面/data/A5_time_result.csv\")\n",
    "# timeA4 = bottom /len( groupn )\n",
    "\n",
    "# import matplotlib.pyplot as plt\n",
    "# pro = proportionA4[0].tolist()\n",
    "# tim = timeA4[0].tolist()\n",
    "# print( pro)\n",
    "# print( tim)\n",
    "# \n",
    "# index = [i for i in range( 1, len(pro) +1 )]\n",
    "# # plt.figure( figsize=(10,10))\n",
    "# plt.plot(index, pro, 'o-', label=\"Propotion\",  linewidth = 1)\n",
    "# plt.plot(index, tim, \"*-\", label=\"Time\", linewidth=1)\n",
    "# plt.legend(loc=\"center right\")\n",
    "# plt.savefig(\"/home/cheng/桌面/data/A5_result.jpg\")\n",
    "# plt.show()\n",
    "  \n",
    "# solution = [0, 7, 6, 5, 11, 3, 0, 10, 4, 9, 8, 1, 2]\n",
    "# mtsp = AntColonyAlgorithmForMTSP(iter_max= 20,alpha=1,beta=4, vol= 0.9, num= 2, \n",
    "#                                       K = 5, L = 6,datasets= \"/home/cheng/PycharmProjects/TSP/datasets/dist12_1\")\n",
    "# mtsp.test_eliminate_cross_in_MTSP( solution )"
   ]
  },
  {
   "cell_type": "code",
   "execution_count": 6,
   "metadata": {
    "collapsed": true
   },
   "outputs": [
    {
     "name": "stdout",
     "output_type": "stream",
     "text": [
      "12 1 1\n"
     ]
    },
    {
     "name": "stdout",
     "output_type": "stream",
     "text": [
      "12 1 2\n"
     ]
    },
    {
     "name": "stdout",
     "output_type": "stream",
     "text": [
      "12 1 3\n"
     ]
    },
    {
     "name": "stdout",
     "output_type": "stream",
     "text": [
      "12 1 4\n"
     ]
    },
    {
     "name": "stdout",
     "output_type": "stream",
     "text": [
      "12 2 1\n"
     ]
    },
    {
     "name": "stdout",
     "output_type": "stream",
     "text": [
      "12 2 2\n"
     ]
    },
    {
     "name": "stdout",
     "output_type": "stream",
     "text": [
      "12 2 3\n"
     ]
    },
    {
     "name": "stdout",
     "output_type": "stream",
     "text": [
      "12 2 4\n"
     ]
    },
    {
     "name": "stdout",
     "output_type": "stream",
     "text": [
      "12 3 1\n"
     ]
    },
    {
     "name": "stdout",
     "output_type": "stream",
     "text": [
      "12 3 2\n"
     ]
    },
    {
     "name": "stdout",
     "output_type": "stream",
     "text": [
      "12 3 3\n"
     ]
    },
    {
     "name": "stdout",
     "output_type": "stream",
     "text": [
      "12 3 4\n"
     ]
    },
    {
     "name": "stdout",
     "output_type": "stream",
     "text": [
      "12 4 1\n"
     ]
    },
    {
     "name": "stdout",
     "output_type": "stream",
     "text": [
      "12 4 2\n"
     ]
    },
    {
     "name": "stdout",
     "output_type": "stream",
     "text": [
      "12 4 3\n"
     ]
    },
    {
     "name": "stdout",
     "output_type": "stream",
     "text": [
      "12 4 4\n"
     ]
    },
    {
     "name": "stdout",
     "output_type": "stream",
     "text": [
      "12 5 1\n"
     ]
    },
    {
     "name": "stdout",
     "output_type": "stream",
     "text": [
      "12 5 2\n"
     ]
    },
    {
     "name": "stdout",
     "output_type": "stream",
     "text": [
      "12 5 3\n"
     ]
    },
    {
     "name": "stdout",
     "output_type": "stream",
     "text": [
      "12 5 4\n"
     ]
    },
    {
     "name": "stdout",
     "output_type": "stream",
     "text": [
      "12 6 1\n"
     ]
    },
    {
     "name": "stdout",
     "output_type": "stream",
     "text": [
      "12 6 2\n"
     ]
    },
    {
     "name": "stdout",
     "output_type": "stream",
     "text": [
      "12 6 3\n"
     ]
    },
    {
     "name": "stdout",
     "output_type": "stream",
     "text": [
      "12 6 4\n"
     ]
    },
    {
     "name": "stdout",
     "output_type": "stream",
     "text": [
      "12 7 1\n"
     ]
    },
    {
     "name": "stdout",
     "output_type": "stream",
     "text": [
      "12 7 2\n"
     ]
    },
    {
     "name": "stdout",
     "output_type": "stream",
     "text": [
      "12 7 3\n"
     ]
    },
    {
     "name": "stdout",
     "output_type": "stream",
     "text": [
      "12 7 4\n"
     ]
    },
    {
     "name": "stdout",
     "output_type": "stream",
     "text": [
      "12 8 1\n"
     ]
    },
    {
     "name": "stdout",
     "output_type": "stream",
     "text": [
      "12 8 2\n"
     ]
    },
    {
     "name": "stdout",
     "output_type": "stream",
     "text": [
      "12 8 3\n"
     ]
    },
    {
     "name": "stdout",
     "output_type": "stream",
     "text": [
      "12 8 4\n"
     ]
    },
    {
     "name": "stdout",
     "output_type": "stream",
     "text": [
      "12 9 1\n"
     ]
    },
    {
     "name": "stdout",
     "output_type": "stream",
     "text": [
      "12 9 2\n"
     ]
    },
    {
     "name": "stdout",
     "output_type": "stream",
     "text": [
      "12 9 3\n"
     ]
    },
    {
     "name": "stdout",
     "output_type": "stream",
     "text": [
      "12 9 4\n"
     ]
    },
    {
     "name": "stdout",
     "output_type": "stream",
     "text": [
      "12 10 1\n"
     ]
    },
    {
     "name": "stdout",
     "output_type": "stream",
     "text": [
      "12 10 2\n"
     ]
    },
    {
     "name": "stdout",
     "output_type": "stream",
     "text": [
      "12 10 3\n"
     ]
    },
    {
     "name": "stdout",
     "output_type": "stream",
     "text": [
      "12 10 4\n"
     ]
    },
    {
     "name": "stdout",
     "output_type": "stream",
     "text": [
      "12 11 1\n"
     ]
    },
    {
     "name": "stdout",
     "output_type": "stream",
     "text": [
      "12 11 2\n"
     ]
    },
    {
     "name": "stdout",
     "output_type": "stream",
     "text": [
      "12 11 3\n"
     ]
    },
    {
     "name": "stdout",
     "output_type": "stream",
     "text": [
      "12 11 4\n"
     ]
    },
    {
     "name": "stdout",
     "output_type": "stream",
     "text": [
      "12 12 1\n"
     ]
    },
    {
     "name": "stdout",
     "output_type": "stream",
     "text": [
      "12 12 2\n"
     ]
    },
    {
     "name": "stdout",
     "output_type": "stream",
     "text": [
      "12 12 3\n"
     ]
    },
    {
     "name": "stdout",
     "output_type": "stream",
     "text": [
      "12 12 4\n"
     ]
    },
    {
     "name": "stdout",
     "output_type": "stream",
     "text": [
      "12 13 1\n"
     ]
    },
    {
     "name": "stdout",
     "output_type": "stream",
     "text": [
      "12 13 2\n"
     ]
    },
    {
     "name": "stdout",
     "output_type": "stream",
     "text": [
      "12 13 3\n"
     ]
    },
    {
     "name": "stdout",
     "output_type": "stream",
     "text": [
      "12 13 4\n"
     ]
    },
    {
     "name": "stdout",
     "output_type": "stream",
     "text": [
      "12 14 1\n"
     ]
    },
    {
     "name": "stdout",
     "output_type": "stream",
     "text": [
      "12 14 2\n"
     ]
    },
    {
     "name": "stdout",
     "output_type": "stream",
     "text": [
      "12 14 3\n"
     ]
    },
    {
     "name": "stdout",
     "output_type": "stream",
     "text": [
      "12 14 4\n"
     ]
    },
    {
     "name": "stdout",
     "output_type": "stream",
     "text": [
      "12 15 1\n"
     ]
    },
    {
     "name": "stdout",
     "output_type": "stream",
     "text": [
      "12 15 2\n"
     ]
    },
    {
     "name": "stdout",
     "output_type": "stream",
     "text": [
      "12 15 3\n"
     ]
    },
    {
     "name": "stdout",
     "output_type": "stream",
     "text": [
      "12 15 4\n"
     ]
    },
    {
     "name": "stdout",
     "output_type": "stream",
     "text": [
      "12 16 1\n"
     ]
    },
    {
     "name": "stdout",
     "output_type": "stream",
     "text": [
      "12 16 2\n"
     ]
    },
    {
     "name": "stdout",
     "output_type": "stream",
     "text": [
      "12 16 3\n"
     ]
    },
    {
     "name": "stdout",
     "output_type": "stream",
     "text": [
      "12 16 4\n"
     ]
    },
    {
     "name": "stdout",
     "output_type": "stream",
     "text": [
      "12 17 1\n"
     ]
    },
    {
     "name": "stdout",
     "output_type": "stream",
     "text": [
      "12 17 2\n"
     ]
    },
    {
     "name": "stdout",
     "output_type": "stream",
     "text": [
      "12 17 3\n"
     ]
    },
    {
     "name": "stdout",
     "output_type": "stream",
     "text": [
      "12 17 4\n"
     ]
    },
    {
     "name": "stdout",
     "output_type": "stream",
     "text": [
      "12 18 1\n"
     ]
    },
    {
     "name": "stdout",
     "output_type": "stream",
     "text": [
      "12 18 2\n"
     ]
    },
    {
     "name": "stdout",
     "output_type": "stream",
     "text": [
      "12 18 3\n"
     ]
    },
    {
     "name": "stdout",
     "output_type": "stream",
     "text": [
      "12 18 4\n"
     ]
    },
    {
     "name": "stdout",
     "output_type": "stream",
     "text": [
      "12 19 1\n"
     ]
    },
    {
     "name": "stdout",
     "output_type": "stream",
     "text": [
      "12 19 2\n"
     ]
    },
    {
     "name": "stdout",
     "output_type": "stream",
     "text": [
      "12 19 3\n"
     ]
    },
    {
     "name": "stdout",
     "output_type": "stream",
     "text": [
      "12 19 4\n"
     ]
    },
    {
     "name": "stdout",
     "output_type": "stream",
     "text": [
      "12 20 1\n"
     ]
    },
    {
     "name": "stdout",
     "output_type": "stream",
     "text": [
      "12 20 2\n"
     ]
    },
    {
     "name": "stdout",
     "output_type": "stream",
     "text": [
      "12 20 3\n"
     ]
    },
    {
     "name": "stdout",
     "output_type": "stream",
     "text": [
      "12 20 4\n"
     ]
    },
    {
     "name": "stdout",
     "output_type": "stream",
     "text": [
      "12 21 1\n"
     ]
    },
    {
     "name": "stdout",
     "output_type": "stream",
     "text": [
      "12 21 2\n"
     ]
    },
    {
     "name": "stdout",
     "output_type": "stream",
     "text": [
      "12 21 3\n"
     ]
    },
    {
     "name": "stdout",
     "output_type": "stream",
     "text": [
      "12 21 4\n"
     ]
    },
    {
     "name": "stdout",
     "output_type": "stream",
     "text": [
      "12 22 1\n"
     ]
    },
    {
     "name": "stdout",
     "output_type": "stream",
     "text": [
      "12 22 2\n"
     ]
    },
    {
     "name": "stdout",
     "output_type": "stream",
     "text": [
      "12 22 3\n"
     ]
    },
    {
     "name": "stdout",
     "output_type": "stream",
     "text": [
      "12 22 4\n"
     ]
    },
    {
     "name": "stdout",
     "output_type": "stream",
     "text": [
      "12 23 1\n"
     ]
    },
    {
     "name": "stdout",
     "output_type": "stream",
     "text": [
      "12 23 2\n"
     ]
    },
    {
     "name": "stdout",
     "output_type": "stream",
     "text": [
      "12 23 3\n"
     ]
    },
    {
     "name": "stdout",
     "output_type": "stream",
     "text": [
      "12 23 4\n"
     ]
    },
    {
     "name": "stdout",
     "output_type": "stream",
     "text": [
      "12 24 1\n"
     ]
    },
    {
     "name": "stdout",
     "output_type": "stream",
     "text": [
      "12 24 2\n"
     ]
    },
    {
     "name": "stdout",
     "output_type": "stream",
     "text": [
      "12 24 3\n"
     ]
    },
    {
     "name": "stdout",
     "output_type": "stream",
     "text": [
      "12 24 4\n"
     ]
    },
    {
     "name": "stdout",
     "output_type": "stream",
     "text": [
      "12 25 1\n"
     ]
    },
    {
     "name": "stdout",
     "output_type": "stream",
     "text": [
      "12 25 2\n"
     ]
    },
    {
     "name": "stdout",
     "output_type": "stream",
     "text": [
      "12 25 3\n"
     ]
    },
    {
     "name": "stdout",
     "output_type": "stream",
     "text": [
      "12 25 4\n"
     ]
    },
    {
     "name": "stdout",
     "output_type": "stream",
     "text": [
      "14 1 1\n"
     ]
    },
    {
     "name": "stdout",
     "output_type": "stream",
     "text": [
      "14 1 2\n"
     ]
    },
    {
     "name": "stdout",
     "output_type": "stream",
     "text": [
      "14 1 3\n"
     ]
    },
    {
     "name": "stdout",
     "output_type": "stream",
     "text": [
      "14 1 4\n"
     ]
    },
    {
     "name": "stdout",
     "output_type": "stream",
     "text": [
      "14 2 1\n"
     ]
    },
    {
     "name": "stdout",
     "output_type": "stream",
     "text": [
      "14 2 2\n"
     ]
    },
    {
     "name": "stdout",
     "output_type": "stream",
     "text": [
      "14 2 3\n"
     ]
    },
    {
     "name": "stdout",
     "output_type": "stream",
     "text": [
      "14 2 4\n"
     ]
    },
    {
     "name": "stdout",
     "output_type": "stream",
     "text": [
      "14 3 1\n"
     ]
    },
    {
     "name": "stdout",
     "output_type": "stream",
     "text": [
      "14 3 2\n"
     ]
    },
    {
     "name": "stdout",
     "output_type": "stream",
     "text": [
      "14 3 3\n"
     ]
    },
    {
     "name": "stdout",
     "output_type": "stream",
     "text": [
      "14 3 4\n"
     ]
    },
    {
     "name": "stdout",
     "output_type": "stream",
     "text": [
      "14 4 1\n"
     ]
    },
    {
     "name": "stdout",
     "output_type": "stream",
     "text": [
      "14 4 2\n"
     ]
    },
    {
     "name": "stdout",
     "output_type": "stream",
     "text": [
      "14 4 3\n"
     ]
    },
    {
     "name": "stdout",
     "output_type": "stream",
     "text": [
      "14 4 4\n"
     ]
    },
    {
     "name": "stdout",
     "output_type": "stream",
     "text": [
      "14 5 1\n"
     ]
    },
    {
     "name": "stdout",
     "output_type": "stream",
     "text": [
      "14 5 2\n"
     ]
    },
    {
     "name": "stdout",
     "output_type": "stream",
     "text": [
      "14 5 3\n"
     ]
    },
    {
     "name": "stdout",
     "output_type": "stream",
     "text": [
      "14 5 4\n"
     ]
    },
    {
     "name": "stdout",
     "output_type": "stream",
     "text": [
      "14 6 1\n"
     ]
    },
    {
     "name": "stdout",
     "output_type": "stream",
     "text": [
      "14 6 2\n"
     ]
    },
    {
     "name": "stdout",
     "output_type": "stream",
     "text": [
      "14 6 3\n"
     ]
    },
    {
     "name": "stdout",
     "output_type": "stream",
     "text": [
      "14 6 4\n"
     ]
    },
    {
     "name": "stdout",
     "output_type": "stream",
     "text": [
      "14 7 1\n"
     ]
    },
    {
     "name": "stdout",
     "output_type": "stream",
     "text": [
      "14 7 2\n"
     ]
    },
    {
     "name": "stdout",
     "output_type": "stream",
     "text": [
      "14 7 3\n"
     ]
    },
    {
     "name": "stdout",
     "output_type": "stream",
     "text": [
      "14 7 4\n"
     ]
    },
    {
     "name": "stdout",
     "output_type": "stream",
     "text": [
      "14 8 1\n"
     ]
    },
    {
     "name": "stdout",
     "output_type": "stream",
     "text": [
      "14 8 2\n"
     ]
    },
    {
     "name": "stdout",
     "output_type": "stream",
     "text": [
      "14 8 3\n"
     ]
    },
    {
     "name": "stdout",
     "output_type": "stream",
     "text": [
      "14 8 4\n"
     ]
    },
    {
     "name": "stdout",
     "output_type": "stream",
     "text": [
      "14 9 1\n"
     ]
    },
    {
     "name": "stdout",
     "output_type": "stream",
     "text": [
      "14 9 2\n"
     ]
    },
    {
     "name": "stdout",
     "output_type": "stream",
     "text": [
      "14 9 3\n"
     ]
    },
    {
     "name": "stdout",
     "output_type": "stream",
     "text": [
      "14 9 4\n"
     ]
    },
    {
     "name": "stdout",
     "output_type": "stream",
     "text": [
      "14 10 1\n"
     ]
    },
    {
     "name": "stdout",
     "output_type": "stream",
     "text": [
      "14 10 2\n"
     ]
    },
    {
     "name": "stdout",
     "output_type": "stream",
     "text": [
      "14 10 3\n"
     ]
    },
    {
     "name": "stdout",
     "output_type": "stream",
     "text": [
      "14 10 4\n"
     ]
    },
    {
     "name": "stdout",
     "output_type": "stream",
     "text": [
      "14 11 1\n"
     ]
    },
    {
     "name": "stdout",
     "output_type": "stream",
     "text": [
      "14 11 2\n"
     ]
    },
    {
     "name": "stdout",
     "output_type": "stream",
     "text": [
      "14 11 3\n"
     ]
    },
    {
     "name": "stdout",
     "output_type": "stream",
     "text": [
      "14 11 4\n"
     ]
    },
    {
     "name": "stdout",
     "output_type": "stream",
     "text": [
      "14 12 1\n"
     ]
    },
    {
     "name": "stdout",
     "output_type": "stream",
     "text": [
      "14 12 2\n"
     ]
    },
    {
     "name": "stdout",
     "output_type": "stream",
     "text": [
      "14 12 3\n"
     ]
    },
    {
     "name": "stdout",
     "output_type": "stream",
     "text": [
      "14 12 4\n"
     ]
    },
    {
     "name": "stdout",
     "output_type": "stream",
     "text": [
      "14 13 1\n"
     ]
    },
    {
     "name": "stdout",
     "output_type": "stream",
     "text": [
      "14 13 2\n"
     ]
    },
    {
     "name": "stdout",
     "output_type": "stream",
     "text": [
      "14 13 3\n"
     ]
    },
    {
     "name": "stdout",
     "output_type": "stream",
     "text": [
      "14 13 4\n"
     ]
    },
    {
     "name": "stdout",
     "output_type": "stream",
     "text": [
      "14 14 1\n"
     ]
    },
    {
     "ename": "KeyboardInterrupt",
     "evalue": "",
     "traceback": [
      "\u001b[0;31m---------------------------------------------------------------------------\u001b[0m",
      "\u001b[0;31mKeyboardInterrupt\u001b[0m                         Traceback (most recent call last)",
      "\u001b[0;32m<ipython-input-6-09828bd4d23f>\u001b[0m in \u001b[0;36m<module>\u001b[0;34m()\u001b[0m\n\u001b[1;32m     35\u001b[0m                     \u001b[0mdatasets\u001b[0m\u001b[0;34m=\u001b[0m \u001b[0;34m\"/home/cheng/PycharmProjects/TSP/datasets/dist%d_%d\"\u001b[0m\u001b[0;34m\u001b[0m\u001b[0m\n\u001b[1;32m     36\u001b[0m                               %(groupnum[n],m))\n\u001b[0;32m---> 37\u001b[0;31m                 \u001b[0mmtsp\u001b[0m\u001b[0;34m.\u001b[0m\u001b[0mexcution\u001b[0m\u001b[0;34m(\u001b[0m\u001b[0;34m)\u001b[0m\u001b[0;34m\u001b[0m\u001b[0m\n\u001b[0m\u001b[1;32m     38\u001b[0m                 \u001b[0mb\u001b[0m \u001b[0;34m=\u001b[0m \u001b[0mtime\u001b[0m\u001b[0;34m.\u001b[0m\u001b[0mtime\u001b[0m\u001b[0;34m(\u001b[0m\u001b[0;34m)\u001b[0m\u001b[0;34m\u001b[0m\u001b[0m\n\u001b[1;32m     39\u001b[0m                 \u001b[0;31m# print( \"time in second\", b - a )\u001b[0m\u001b[0;34m\u001b[0m\u001b[0;34m\u001b[0m\u001b[0m\n",
      "\u001b[0;32m/home/cheng/PycharmProjects/TSP/src/TravelingSalesmanProblem/AntColonyAlgorithmForMTSP.py\u001b[0m in \u001b[0;36mexcution\u001b[0;34m(self)\u001b[0m\n\u001b[1;32m    234\u001b[0m         \u001b[0;32mfor\u001b[0m \u001b[0mi\u001b[0m \u001b[0;32min\u001b[0m \u001b[0mrange\u001b[0m\u001b[0;34m(\u001b[0m \u001b[0mself\u001b[0m\u001b[0;34m.\u001b[0m\u001b[0miter_max\u001b[0m \u001b[0;34m)\u001b[0m\u001b[0;34m:\u001b[0m\u001b[0;34m\u001b[0m\u001b[0m\n\u001b[1;32m    235\u001b[0m             \u001b[0;31m# print( \"in iteration %d\" % i )\u001b[0m\u001b[0;34m\u001b[0m\u001b[0;34m\u001b[0m\u001b[0m\n\u001b[0;32m--> 236\u001b[0;31m             \u001b[0mself\u001b[0m\u001b[0;34m.\u001b[0m\u001b[0m_in_a_generations\u001b[0m\u001b[0;34m(\u001b[0m \u001b[0mi\u001b[0m \u001b[0;34m)\u001b[0m\u001b[0;34m\u001b[0m\u001b[0m\n\u001b[0m\u001b[1;32m    237\u001b[0m         \u001b[0;31m# print(\"in eliminate cross\")\u001b[0m\u001b[0;34m\u001b[0m\u001b[0;34m\u001b[0m\u001b[0m\n\u001b[1;32m    238\u001b[0m         \u001b[0mself\u001b[0m\u001b[0;34m.\u001b[0m\u001b[0mTable\u001b[0m\u001b[0;34m[\u001b[0m\u001b[0;36m0\u001b[0m\u001b[0;34m]\u001b[0m \u001b[0;34m=\u001b[0m \u001b[0mself\u001b[0m\u001b[0;34m.\u001b[0m\u001b[0mRoute_best\u001b[0m\u001b[0;34m[\u001b[0m\u001b[0mself\u001b[0m\u001b[0;34m.\u001b[0m\u001b[0mLimit_iter\u001b[0m\u001b[0;34m]\u001b[0m\u001b[0;34m\u001b[0m\u001b[0m\n",
      "\u001b[0;32m/home/cheng/PycharmProjects/TSP/src/TravelingSalesmanProblem/AntColonyAlgorithmForMTSP.py\u001b[0m in \u001b[0;36m_in_a_generations\u001b[0;34m(self, iteration)\u001b[0m\n\u001b[1;32m    220\u001b[0m                                                             \u001b[0mleft_vehicle\u001b[0m\u001b[0;34m,\u001b[0m        \u001b[0;31m# left vehicles\u001b[0m\u001b[0;34m\u001b[0m\u001b[0m\n\u001b[1;32m    221\u001b[0m                                                             \u001b[0mj\u001b[0m\u001b[0;34m,\u001b[0m\u001b[0;34m\u001b[0m\u001b[0m\n\u001b[0;32m--> 222\u001b[0;31m                                                             visitied_cities)\n\u001b[0m\u001b[1;32m    223\u001b[0m                 \u001b[0mvisitied_cities\u001b[0m \u001b[0;34m=\u001b[0m \u001b[0mvisitied_cities\u001b[0m \u001b[0;34m+\u001b[0m \u001b[0;36m1\u001b[0m\u001b[0;34m\u001b[0m\u001b[0m\n\u001b[1;32m    224\u001b[0m                 \u001b[0;32mif\u001b[0m \u001b[0mnext_city\u001b[0m \u001b[0;34m==\u001b[0m \u001b[0mself\u001b[0m\u001b[0;34m.\u001b[0m\u001b[0mdepot\u001b[0m\u001b[0;34m:\u001b[0m\u001b[0;34m\u001b[0m\u001b[0m\n",
      "\u001b[0;32m/home/cheng/PycharmProjects/TSP/src/TravelingSalesmanProblem/AntColonyAlgorithmForMTSP.py\u001b[0m in \u001b[0;36m_choose_next_city\u001b[0;34m(self, forbiddenCities, n, A, pheromoneTable, heuristicTable, alpha, beta, left_vehicle, pos, visitied_cities)\u001b[0m\n\u001b[1;32m     92\u001b[0m         \u001b[0;32mif\u001b[0m \u001b[0mpos\u001b[0m \u001b[0;34m==\u001b[0m \u001b[0;36m0\u001b[0m \u001b[0;34m:\u001b[0m\u001b[0;34m\u001b[0m\u001b[0m\n\u001b[1;32m     93\u001b[0m             \u001b[0;32mreturn\u001b[0m \u001b[0mself\u001b[0m\u001b[0;34m.\u001b[0m\u001b[0mdepot\u001b[0m\u001b[0;34m\u001b[0m\u001b[0m\n\u001b[0;32m---> 94\u001b[0;31m         \u001b[0mcomplementaryCity\u001b[0m \u001b[0;34m=\u001b[0m \u001b[0mcomplementary_cities\u001b[0m\u001b[0;34m(\u001b[0m\u001b[0mforbiddenCities\u001b[0m\u001b[0;34m,\u001b[0m \u001b[0mn\u001b[0m\u001b[0;34m)\u001b[0m\u001b[0;34m\u001b[0m\u001b[0m\n\u001b[0m\u001b[1;32m     95\u001b[0m         \u001b[0;31m# print( type( complementaryCity ))\u001b[0m\u001b[0;34m\u001b[0m\u001b[0;34m\u001b[0m\u001b[0m\n\u001b[1;32m     96\u001b[0m         \u001b[0mcomplementaryCity\u001b[0m \u001b[0;34m=\u001b[0m \u001b[0mcomplementaryCity\u001b[0m\u001b[0;34m.\u001b[0m\u001b[0mtolist\u001b[0m\u001b[0;34m(\u001b[0m\u001b[0;34m)\u001b[0m\u001b[0;34m\u001b[0m\u001b[0m\n",
      "\u001b[0;32m/home/cheng/PycharmProjects/TSP/src/TravelingSalesmanProblem/AntColonyAlgorithmForMTSP.py\u001b[0m in \u001b[0;36mcomplementary_cities\u001b[0;34m(forbiddenCities, n)\u001b[0m\n\u001b[1;32m     79\u001b[0m         \u001b[0;32mdef\u001b[0m \u001b[0mcomplementary_cities\u001b[0m\u001b[0;34m(\u001b[0m\u001b[0mforbiddenCities\u001b[0m\u001b[0;34m,\u001b[0m \u001b[0mn\u001b[0m\u001b[0;34m)\u001b[0m\u001b[0;34m:\u001b[0m\u001b[0;34m\u001b[0m\u001b[0m\n\u001b[1;32m     80\u001b[0m             \u001b[0mcities\u001b[0m \u001b[0;34m=\u001b[0m \u001b[0mnp\u001b[0m\u001b[0;34m.\u001b[0m\u001b[0marray\u001b[0m\u001b[0;34m(\u001b[0m\u001b[0;34m[\u001b[0m\u001b[0mi\u001b[0m \u001b[0;32mfor\u001b[0m \u001b[0mi\u001b[0m \u001b[0;32min\u001b[0m \u001b[0mrange\u001b[0m\u001b[0;34m(\u001b[0m\u001b[0mn\u001b[0m\u001b[0;34m)\u001b[0m\u001b[0;34m]\u001b[0m\u001b[0;34m)\u001b[0m\u001b[0;34m\u001b[0m\u001b[0m\n\u001b[0;32m---> 81\u001b[0;31m             \u001b[0;32mreturn\u001b[0m \u001b[0mnp\u001b[0m\u001b[0;34m.\u001b[0m\u001b[0msetxor1d\u001b[0m\u001b[0;34m(\u001b[0m\u001b[0mcities\u001b[0m\u001b[0;34m,\u001b[0m \u001b[0mforbiddenCities\u001b[0m\u001b[0;34m)\u001b[0m\u001b[0;34m\u001b[0m\u001b[0m\n\u001b[0m\u001b[1;32m     82\u001b[0m \u001b[0;34m\u001b[0m\u001b[0m\n\u001b[1;32m     83\u001b[0m         \u001b[0;32mdef\u001b[0m \u001b[0mprobabilityOfACity\u001b[0m\u001b[0;34m(\u001b[0m\u001b[0mA\u001b[0m\u001b[0;34m,\u001b[0m \u001b[0mB\u001b[0m\u001b[0;34m,\u001b[0m \u001b[0mpheromoneTable\u001b[0m\u001b[0;34m,\u001b[0m \u001b[0mheuristicTable\u001b[0m\u001b[0;34m,\u001b[0m \u001b[0malpha\u001b[0m\u001b[0;34m,\u001b[0m \u001b[0mbeta\u001b[0m\u001b[0;34m)\u001b[0m\u001b[0;34m:\u001b[0m\u001b[0;34m\u001b[0m\u001b[0m\n",
      "\u001b[0;32m/home/cheng/anaconda3/lib/python3.6/site-packages/numpy/lib/arraysetops.py\u001b[0m in \u001b[0;36msetxor1d\u001b[0;34m(ar1, ar2, assume_unique)\u001b[0m\n\u001b[1;32m    289\u001b[0m     \"\"\"\n\u001b[1;32m    290\u001b[0m     \u001b[0;32mif\u001b[0m \u001b[0;32mnot\u001b[0m \u001b[0massume_unique\u001b[0m\u001b[0;34m:\u001b[0m\u001b[0;34m\u001b[0m\u001b[0m\n\u001b[0;32m--> 291\u001b[0;31m         \u001b[0mar1\u001b[0m \u001b[0;34m=\u001b[0m \u001b[0munique\u001b[0m\u001b[0;34m(\u001b[0m\u001b[0mar1\u001b[0m\u001b[0;34m)\u001b[0m\u001b[0;34m\u001b[0m\u001b[0m\n\u001b[0m\u001b[1;32m    292\u001b[0m         \u001b[0mar2\u001b[0m \u001b[0;34m=\u001b[0m \u001b[0munique\u001b[0m\u001b[0;34m(\u001b[0m\u001b[0mar2\u001b[0m\u001b[0;34m)\u001b[0m\u001b[0;34m\u001b[0m\u001b[0m\n\u001b[1;32m    293\u001b[0m \u001b[0;34m\u001b[0m\u001b[0m\n",
      "\u001b[0;32m/home/cheng/anaconda3/lib/python3.6/site-packages/numpy/lib/arraysetops.py\u001b[0m in \u001b[0;36munique\u001b[0;34m(ar, return_index, return_inverse, return_counts)\u001b[0m\n\u001b[1;32m    198\u001b[0m         \u001b[0mar\u001b[0m\u001b[0;34m.\u001b[0m\u001b[0msort\u001b[0m\u001b[0;34m(\u001b[0m\u001b[0;34m)\u001b[0m\u001b[0;34m\u001b[0m\u001b[0m\n\u001b[1;32m    199\u001b[0m         \u001b[0maux\u001b[0m \u001b[0;34m=\u001b[0m \u001b[0mar\u001b[0m\u001b[0;34m\u001b[0m\u001b[0m\n\u001b[0;32m--> 200\u001b[0;31m     \u001b[0mflag\u001b[0m \u001b[0;34m=\u001b[0m \u001b[0mnp\u001b[0m\u001b[0;34m.\u001b[0m\u001b[0mconcatenate\u001b[0m\u001b[0;34m(\u001b[0m\u001b[0;34m(\u001b[0m\u001b[0;34m[\u001b[0m\u001b[0;32mTrue\u001b[0m\u001b[0;34m]\u001b[0m\u001b[0;34m,\u001b[0m \u001b[0maux\u001b[0m\u001b[0;34m[\u001b[0m\u001b[0;36m1\u001b[0m\u001b[0;34m:\u001b[0m\u001b[0;34m]\u001b[0m \u001b[0;34m!=\u001b[0m \u001b[0maux\u001b[0m\u001b[0;34m[\u001b[0m\u001b[0;34m:\u001b[0m\u001b[0;34m-\u001b[0m\u001b[0;36m1\u001b[0m\u001b[0;34m]\u001b[0m\u001b[0;34m)\u001b[0m\u001b[0;34m)\u001b[0m\u001b[0;34m\u001b[0m\u001b[0m\n\u001b[0m\u001b[1;32m    201\u001b[0m \u001b[0;34m\u001b[0m\u001b[0m\n\u001b[1;32m    202\u001b[0m     \u001b[0;32mif\u001b[0m \u001b[0;32mnot\u001b[0m \u001b[0moptional_returns\u001b[0m\u001b[0;34m:\u001b[0m\u001b[0;34m\u001b[0m\u001b[0m\n",
      "\u001b[0;31mKeyboardInterrupt\u001b[0m: "
     ],
     "output_type": "error"
    }
   ],
   "source": [
    "# A3 Find best antnum\n",
    "import sys\n",
    "sys.path.append(\"/home/cheng/PycharmProjects/TSP/src/\")\n",
    "sys.path.append(\"/home/cheng/PycharmProjects/TSP/src/TravelingSalesmanProblem/\")\n",
    "sys.path.append(\"/home/cheng/PycharmProjects/TSP/\")\n",
    "import time\n",
    "import pandas as pd\n",
    "\n",
    "project_path = \"/home/cheng/PycharmProjects/TSP/\"\n",
    "\n",
    "from TravelingSalesmanProblem.AntColonyAlgorithmForMTSP import *\n",
    "\n",
    "best_interval = [(4,7),(6,7),(6,9),(8,9)]\n",
    "groupnum = [12, 14,16,18]\n",
    "antnum = 25\n",
    "for n in range(4): # n\n",
    "    col = 4\n",
    "    valuelst = [[] for i in range(col)]\n",
    "    timelst = [[] for i in range(col)]\n",
    "    interval = [] \n",
    "    row = 5\n",
    "    k_value = [i for i in range(1, antnum +1 )]\n",
    "    m_value = [i for i in range(1, col + 1)]\n",
    "    for k in k_value: # antnum\n",
    "        lw = best_interval[n][0]\n",
    "        hg = best_interval[n][1]\n",
    "        interval.extend( [k for i in range(row)]) # 5 times for each problem\n",
    "        for m in m_value:  # the mth datasets of n\n",
    "            print( groupnum[n], k,m )\n",
    "            lst = []\n",
    "            for i in range( 10 ):\n",
    "                a = time.time()\n",
    "                mtsp = AntColonyAlgorithmForMTSP(iter_max= 20,alpha=1,beta=5, vol= 0.9, num= 2, \n",
    "                                    K = lw, L = hg, m = k,\n",
    "                    datasets= \"/home/cheng/PycharmProjects/TSP/datasets/dist%d_%d\" \n",
    "                              %(groupnum[n],m))\n",
    "                mtsp.excution()\n",
    "                b = time.time()\n",
    "                # print( \"time in second\", b - a )\n",
    "                lst.append( [ mtsp.return_best()[0], b-a])\n",
    "                # mtsp.print_information()\n",
    "                # mtsp.plot()\n",
    "            def custom_key(x ):\n",
    "                return x[0],x[1]\n",
    "            lst = sorted( lst, key= custom_key )\n",
    "            # print( lst )\n",
    "            \n",
    "            valuelst[m-1].extend( [lst[i][0] for i in range( row )] )\n",
    "            timelst[m-1].extend( [lst[i][1] for i in range( row )] )\n",
    "            # print(\"=== values\", valuelst)\n",
    "    data = []\n",
    "    data.append(interval)\n",
    "    data.extend(valuelst)\n",
    "    data.extend(timelst)\n",
    "    # print( data )\n",
    "    \n",
    "    label =[]\n",
    "    label.extend([\"antnum\"])\n",
    "    label.extend([\"p%d_value\"%i for i in range(1,col+1)])\n",
    "    label.extend([\"p%d_time\"%i  for i in range(1,col+1)])\n",
    "    \n",
    "    path = \"/home/cheng/桌面/data/A3_n%d.csv\" % groupnum[n]\n",
    "    # pd.read_csv(path)\n",
    "    dataframe = pd.DataFrame()\n",
    "    # print( label )\n",
    "    # print( data )\n",
    "    for i in range( len( label)):\n",
    "        dataframe[ label[i] ] = data[i]\n",
    "    dataframe.to_csv(path)\n",
    "\n",
    "\n",
    "# 2 mean result for every n\n",
    "import pandas as pd\n",
    "optional = pd.read_csv(\"/home/cheng/桌面/data/A1_optional.csv\")\n",
    "n12 = pd.read_csv(\"/home/cheng/桌面/data/A3_n12.csv\")\n",
    "n14 = pd.read_csv(\"/home/cheng/桌面/data/A3_n14.csv\")\n",
    "n16 = pd.read_csv(\"/home/cheng/桌面/data/A3_n16.csv\")\n",
    "n18 = pd.read_csv(\"/home/cheng/桌面/data/A3_n18.csv\")\n",
    "\n",
    "ngroup =[]\n",
    "ngroup.extend([n12,n14,n16,n18])\n",
    "group = [12,14,16,18]\n",
    "for k in range(0,4): # group n={12,14,16,18]\n",
    "    tmp = []\n",
    "    for i in [start*5 for start in range( antnum )]: # interval starts at {0,5,10}\n",
    "        inter = ngroup[k].iloc[i:i+5,2:6]\n",
    "        proportion = ( optional.iloc[k,1:5] /inter).mean( axis = 0 ).values\n",
    "        timevalue = (ngroup[k].iloc[i:i+5, 6:10]).mean(axis= 0).values\n",
    "        tmp_lst = proportion.tolist()\n",
    "        tmp_lst.extend( timevalue.tolist() )\n",
    "        tmp.append(tmp_lst)\n",
    "    tmp_ = np.array( tmp )\n",
    "    tmp_ = np.around( tmp_, decimals=3)\n",
    "    df = pd.DataFrame( data=tmp_, columns=[\"p1_value\",\"p2_value\",\"p3_value\",\"p4_value\",\n",
    "                                           \"p1_time\",\"p2_tim\",\"p3_time\",\"p4_time\"])\n",
    "    df['antnum']=[ngroup[k].iloc[x,1] for x in [start*5 for start in range(antnum)] ]\n",
    "    df.to_csv(\"/home/cheng/桌面/data/A3_n%d_result.csv\" % group[k])\n",
    "print(\"done\")\n",
    "\n",
    "# 3. average propotion and time\n",
    "import pandas as pd\n",
    "proportion = pd.read_excel(\"/home/cheng/桌面/data/A3_result.xlsx\",\"Sheet1\")\n",
    "timelst = pd.read_excel(\"/home/cheng/桌面/data/A3_result.xlsx\",\"Sheet2\")\n",
    "\n",
    "import matplotlib.pyplot as plt\n",
    "pro = proportion['average'].values.tolist()\n",
    "tim = timelst['average'].values.tolist()\n",
    "print( pro)\n",
    "print( tim)\n",
    "\n",
    "index = [i for i in range( 1, len(pro) +1 )]\n",
    "# plt.figure( figsize=(10,10))\n",
    "plt.plot(index, pro, 'o-', label=\"Propotion\",  linewidth = 1)\n",
    "plt.plot(index, tim, \"*-\", label=\"Time\", linewidth=1)\n",
    "plt.legend(loc=\"lower right\")\n",
    "plt.savefig(\"/home/cheng/桌面/data/A3_result.jpg\")\n",
    "plt.show()"
   ]
  },
  {
   "cell_type": "code",
   "execution_count": 3,
   "metadata": {
    "collapsed": false
   },
   "outputs": [
    {
     "name": "stdout",
     "output_type": "stream",
     "text": [
      "12 1 1\n"
     ]
    },
    {
     "ename": "KeyboardInterrupt",
     "evalue": "",
     "traceback": [
      "\u001b[0;31m---------------------------------------------------------------------------\u001b[0m",
      "\u001b[0;31mKeyboardInterrupt\u001b[0m                         Traceback (most recent call last)",
      "\u001b[0;32m<ipython-input-3-effeaab6e312>\u001b[0m in \u001b[0;36m<module>\u001b[0;34m()\u001b[0m\n\u001b[1;32m     37\u001b[0m                     \u001b[0mdatasets\u001b[0m\u001b[0;34m=\u001b[0m \u001b[0;34m\"/home/cheng/PycharmProjects/TSP/datasets/dist%d_%d\"\u001b[0m\u001b[0;34m\u001b[0m\u001b[0m\n\u001b[1;32m     38\u001b[0m                               %(groupnum[n],m))\n\u001b[0;32m---> 39\u001b[0;31m                 \u001b[0mmtsp\u001b[0m\u001b[0;34m.\u001b[0m\u001b[0mexcution\u001b[0m\u001b[0;34m(\u001b[0m\u001b[0;34m)\u001b[0m\u001b[0;34m\u001b[0m\u001b[0m\n\u001b[0m\u001b[1;32m     40\u001b[0m                 \u001b[0mb\u001b[0m \u001b[0;34m=\u001b[0m \u001b[0mtime\u001b[0m\u001b[0;34m.\u001b[0m\u001b[0mtime\u001b[0m\u001b[0;34m(\u001b[0m\u001b[0;34m)\u001b[0m\u001b[0;34m\u001b[0m\u001b[0m\n\u001b[1;32m     41\u001b[0m                 \u001b[0;31m# print( \"time in second\", b - a )\u001b[0m\u001b[0;34m\u001b[0m\u001b[0;34m\u001b[0m\u001b[0m\n",
      "\u001b[0;32m/home/cheng/PycharmProjects/TSP/src/TravelingSalesmanProblem/AntColonyAlgorithmForMTSP.py\u001b[0m in \u001b[0;36mexcution\u001b[0;34m(self)\u001b[0m\n\u001b[1;32m    234\u001b[0m         \u001b[0;32mfor\u001b[0m \u001b[0mi\u001b[0m \u001b[0;32min\u001b[0m \u001b[0mrange\u001b[0m\u001b[0;34m(\u001b[0m \u001b[0mself\u001b[0m\u001b[0;34m.\u001b[0m\u001b[0miter_max\u001b[0m \u001b[0;34m)\u001b[0m\u001b[0;34m:\u001b[0m\u001b[0;34m\u001b[0m\u001b[0m\n\u001b[1;32m    235\u001b[0m             \u001b[0;31m# print( \"in iteration %d\" % i )\u001b[0m\u001b[0;34m\u001b[0m\u001b[0;34m\u001b[0m\u001b[0m\n\u001b[0;32m--> 236\u001b[0;31m             \u001b[0mself\u001b[0m\u001b[0;34m.\u001b[0m\u001b[0m_in_a_generations\u001b[0m\u001b[0;34m(\u001b[0m \u001b[0mi\u001b[0m \u001b[0;34m)\u001b[0m\u001b[0;34m\u001b[0m\u001b[0m\n\u001b[0m\u001b[1;32m    237\u001b[0m         \u001b[0;31m# print(\"in eliminate cross\")\u001b[0m\u001b[0;34m\u001b[0m\u001b[0;34m\u001b[0m\u001b[0m\n\u001b[1;32m    238\u001b[0m         \u001b[0mself\u001b[0m\u001b[0;34m.\u001b[0m\u001b[0mTable\u001b[0m\u001b[0;34m[\u001b[0m\u001b[0;36m0\u001b[0m\u001b[0;34m]\u001b[0m \u001b[0;34m=\u001b[0m \u001b[0mself\u001b[0m\u001b[0;34m.\u001b[0m\u001b[0mRoute_best\u001b[0m\u001b[0;34m[\u001b[0m\u001b[0mself\u001b[0m\u001b[0;34m.\u001b[0m\u001b[0mLimit_iter\u001b[0m\u001b[0;34m]\u001b[0m\u001b[0;34m\u001b[0m\u001b[0m\n",
      "\u001b[0;32m/home/cheng/PycharmProjects/TSP/src/TravelingSalesmanProblem/AntColonyAlgorithmForMTSP.py\u001b[0m in \u001b[0;36m_in_a_generations\u001b[0;34m(self, iteration)\u001b[0m\n\u001b[1;32m    220\u001b[0m                                                             \u001b[0mleft_vehicle\u001b[0m\u001b[0;34m,\u001b[0m        \u001b[0;31m# left vehicles\u001b[0m\u001b[0;34m\u001b[0m\u001b[0m\n\u001b[1;32m    221\u001b[0m                                                             \u001b[0mj\u001b[0m\u001b[0;34m,\u001b[0m\u001b[0;34m\u001b[0m\u001b[0m\n\u001b[0;32m--> 222\u001b[0;31m                                                             visitied_cities)\n\u001b[0m\u001b[1;32m    223\u001b[0m                 \u001b[0mvisitied_cities\u001b[0m \u001b[0;34m=\u001b[0m \u001b[0mvisitied_cities\u001b[0m \u001b[0;34m+\u001b[0m \u001b[0;36m1\u001b[0m\u001b[0;34m\u001b[0m\u001b[0m\n\u001b[1;32m    224\u001b[0m                 \u001b[0;32mif\u001b[0m \u001b[0mnext_city\u001b[0m \u001b[0;34m==\u001b[0m \u001b[0mself\u001b[0m\u001b[0;34m.\u001b[0m\u001b[0mdepot\u001b[0m\u001b[0;34m:\u001b[0m\u001b[0;34m\u001b[0m\u001b[0m\n",
      "\u001b[0;32m/home/cheng/PycharmProjects/TSP/src/TravelingSalesmanProblem/AntColonyAlgorithmForMTSP.py\u001b[0m in \u001b[0;36m_choose_next_city\u001b[0;34m(self, forbiddenCities, n, A, pheromoneTable, heuristicTable, alpha, beta, left_vehicle, pos, visitied_cities)\u001b[0m\n\u001b[1;32m     92\u001b[0m         \u001b[0;32mif\u001b[0m \u001b[0mpos\u001b[0m \u001b[0;34m==\u001b[0m \u001b[0;36m0\u001b[0m \u001b[0;34m:\u001b[0m\u001b[0;34m\u001b[0m\u001b[0m\n\u001b[1;32m     93\u001b[0m             \u001b[0;32mreturn\u001b[0m \u001b[0mself\u001b[0m\u001b[0;34m.\u001b[0m\u001b[0mdepot\u001b[0m\u001b[0;34m\u001b[0m\u001b[0m\n\u001b[0;32m---> 94\u001b[0;31m         \u001b[0mcomplementaryCity\u001b[0m \u001b[0;34m=\u001b[0m \u001b[0mcomplementary_cities\u001b[0m\u001b[0;34m(\u001b[0m\u001b[0mforbiddenCities\u001b[0m\u001b[0;34m,\u001b[0m \u001b[0mn\u001b[0m\u001b[0;34m)\u001b[0m\u001b[0;34m\u001b[0m\u001b[0m\n\u001b[0m\u001b[1;32m     95\u001b[0m         \u001b[0;31m# print( type( complementaryCity ))\u001b[0m\u001b[0;34m\u001b[0m\u001b[0;34m\u001b[0m\u001b[0m\n\u001b[1;32m     96\u001b[0m         \u001b[0mcomplementaryCity\u001b[0m \u001b[0;34m=\u001b[0m \u001b[0mcomplementaryCity\u001b[0m\u001b[0;34m.\u001b[0m\u001b[0mtolist\u001b[0m\u001b[0;34m(\u001b[0m\u001b[0;34m)\u001b[0m\u001b[0;34m\u001b[0m\u001b[0m\n",
      "\u001b[0;32m/home/cheng/PycharmProjects/TSP/src/TravelingSalesmanProblem/AntColonyAlgorithmForMTSP.py\u001b[0m in \u001b[0;36mcomplementary_cities\u001b[0;34m(forbiddenCities, n)\u001b[0m\n\u001b[1;32m     79\u001b[0m         \u001b[0;32mdef\u001b[0m \u001b[0mcomplementary_cities\u001b[0m\u001b[0;34m(\u001b[0m\u001b[0mforbiddenCities\u001b[0m\u001b[0;34m,\u001b[0m \u001b[0mn\u001b[0m\u001b[0;34m)\u001b[0m\u001b[0;34m:\u001b[0m\u001b[0;34m\u001b[0m\u001b[0m\n\u001b[1;32m     80\u001b[0m             \u001b[0mcities\u001b[0m \u001b[0;34m=\u001b[0m \u001b[0mnp\u001b[0m\u001b[0;34m.\u001b[0m\u001b[0marray\u001b[0m\u001b[0;34m(\u001b[0m\u001b[0;34m[\u001b[0m\u001b[0mi\u001b[0m \u001b[0;32mfor\u001b[0m \u001b[0mi\u001b[0m \u001b[0;32min\u001b[0m \u001b[0mrange\u001b[0m\u001b[0;34m(\u001b[0m\u001b[0mn\u001b[0m\u001b[0;34m)\u001b[0m\u001b[0;34m]\u001b[0m\u001b[0;34m)\u001b[0m\u001b[0;34m\u001b[0m\u001b[0m\n\u001b[0;32m---> 81\u001b[0;31m             \u001b[0;32mreturn\u001b[0m \u001b[0mnp\u001b[0m\u001b[0;34m.\u001b[0m\u001b[0msetxor1d\u001b[0m\u001b[0;34m(\u001b[0m\u001b[0mcities\u001b[0m\u001b[0;34m,\u001b[0m \u001b[0mforbiddenCities\u001b[0m\u001b[0;34m)\u001b[0m\u001b[0;34m\u001b[0m\u001b[0m\n\u001b[0m\u001b[1;32m     82\u001b[0m \u001b[0;34m\u001b[0m\u001b[0m\n\u001b[1;32m     83\u001b[0m         \u001b[0;32mdef\u001b[0m \u001b[0mprobabilityOfACity\u001b[0m\u001b[0;34m(\u001b[0m\u001b[0mA\u001b[0m\u001b[0;34m,\u001b[0m \u001b[0mB\u001b[0m\u001b[0;34m,\u001b[0m \u001b[0mpheromoneTable\u001b[0m\u001b[0;34m,\u001b[0m \u001b[0mheuristicTable\u001b[0m\u001b[0;34m,\u001b[0m \u001b[0malpha\u001b[0m\u001b[0;34m,\u001b[0m \u001b[0mbeta\u001b[0m\u001b[0;34m)\u001b[0m\u001b[0;34m:\u001b[0m\u001b[0;34m\u001b[0m\u001b[0m\n",
      "\u001b[0;31mKeyboardInterrupt\u001b[0m: "
     ],
     "output_type": "error"
    }
   ],
   "source": [
    "# A4 \n",
    "\n",
    "# 1, ensure initial amount of trial\n",
    "import sys\n",
    "sys.path.append(\"/home/cheng/PycharmProjects/TSP/src/\")\n",
    "sys.path.append(\"/home/cheng/PycharmProjects/TSP/src/TravelingSalesmanProblem/\")\n",
    "sys.path.append(\"/home/cheng/PycharmProjects/TSP/\")\n",
    "import time\n",
    "import pandas as pd\n",
    "\n",
    "project_path = \"/home/cheng/PycharmProjects/TSP/\"\n",
    "\n",
    "from TravelingSalesmanProblem.AntColonyAlgorithmForMTSP import *\n",
    "\n",
    "best_interval = [(4,7),(6,7),(6,9),(8,9)]\n",
    "groupnum = [12, 14,16,18]\n",
    "antnum = 7\n",
    "for n in range(4): # n\n",
    "    col = 4\n",
    "    valuelst = [[] for i in range(col)]\n",
    "    timelst = [[] for i in range(col)]\n",
    "    interval = [] \n",
    "    row = 5\n",
    "    k_value = [1,10,100,1000]\n",
    "    m_value = [i for i in range(1, col + 1)]\n",
    "    for k in k_value: # antnum\n",
    "        lw = best_interval[n][0]\n",
    "        hg = best_interval[n][1]\n",
    "        interval.extend( [k for i in range(row)]) # 5 times for each problem\n",
    "        for m in m_value:  # the mth datasets of n\n",
    "            print( groupnum[n], k,m )\n",
    "            lst = []\n",
    "            for i in range( 10 ):\n",
    "                a = time.time()\n",
    "                mtsp = AntColonyAlgorithmForMTSP(iter_max= 20,alpha=1,beta=5, vol= 0.9, num= 2, \n",
    "                                    K = lw, L = hg, m = antnum, inittrail=k,\n",
    "                    datasets= \"/home/cheng/PycharmProjects/TSP/datasets/dist%d_%d\" \n",
    "                              %(groupnum[n],m))\n",
    "                mtsp.excution()\n",
    "                b = time.time()\n",
    "                # print( \"time in second\", b - a )\n",
    "                lst.append( [ mtsp.return_best()[0], b-a])\n",
    "                # mtsp.print_information()\n",
    "                # mtsp.plot()\n",
    "            def custom_key(x ):\n",
    "                return x[0],x[1]\n",
    "            lst = sorted( lst, key= custom_key )\n",
    "            # print( lst )\n",
    "            \n",
    "            valuelst[m-1].extend( [lst[i][0] for i in range( row )] )\n",
    "            timelst[m-1].extend( [lst[i][1] for i in range( row )] )\n",
    "            # print(\"=== values\", valuelst)\n",
    "    data = []\n",
    "    data.append(interval)\n",
    "    data.extend(valuelst)\n",
    "    data.extend(timelst)\n",
    "    # print( data )\n",
    "    \n",
    "    label =[]\n",
    "    label.extend([\"inittrail\"])\n",
    "    label.extend([\"p%d_value\"%i for i in range(1,col+1)])\n",
    "    label.extend([\"p%d_time\"%i  for i in range(1,col+1)])\n",
    "    \n",
    "    path = \"/home/cheng/桌面/data/A4_n%d.csv\" % groupnum[n]\n",
    "    # pd.read_csv(path)\n",
    "    dataframe = pd.DataFrame()\n",
    "    # print( label )\n",
    "    # print( data )\n",
    "    for i in range( len( label)):\n",
    "        dataframe[ label[i] ] = data[i]\n",
    "    dataframe.to_csv(path)\n",
    "\n",
    "\n",
    "# 2, mean result for every n\n",
    "import pandas as pd\n",
    "optional = pd.read_csv(\"/home/cheng/桌面/data/A1_optional.csv\")\n",
    "n12 = pd.read_csv(\"/home/cheng/桌面/data/A4_n12.csv\")\n",
    "n14 = pd.read_csv(\"/home/cheng/桌面/data/A4_n14.csv\")\n",
    "n16 = pd.read_csv(\"/home/cheng/桌面/data/A4_n16.csv\")\n",
    "n18 = pd.read_csv(\"/home/cheng/桌面/data/A4_n18.csv\")\n",
    "\n",
    "ngroup =[]\n",
    "ngroup.extend([n12,n14,n16,n18])\n",
    "group = [12,14,16,18]\n",
    "inittrailnum = 4\n",
    "for k in range(0,4): # group n={12,14,16,18]\n",
    "    tmp = []\n",
    "    for i in [start*5 for start in range( inittrailnum )]: # interval starts at {0,5,10}\n",
    "        inter = ngroup[k].iloc[i:i+5,2:6]\n",
    "        proportion = ( optional.iloc[k,1:5] /inter).mean( axis = 0 ).values\n",
    "        timevalue = (ngroup[k].iloc[i:i+5, 6:10]).mean(axis= 0).values\n",
    "        tmp_lst = proportion.tolist()\n",
    "        tmp_lst.extend( timevalue.tolist() )\n",
    "        tmp.append(tmp_lst)\n",
    "    tmp_ = np.array( tmp )\n",
    "    tmp_ = np.around( tmp_, decimals=3)\n",
    "    df = pd.DataFrame( data=tmp_, columns=[\"p1_value\",\"p2_value\",\"p3_value\",\"p4_value\",\n",
    "                                           \"p1_time\",\"p2_tim\",\"p3_time\",\"p4_time\"])\n",
    "    df['inittrail']=[ngroup[k].iloc[x,1] for x in [start*5 for start in range(inittrailnum)] ]\n",
    "    df.to_csv(\"/home/cheng/桌面/data/A4_n%d_result.csv\" % group[k])\n",
    "print(\"done\")\n",
    "\n",
    "# 3, average proportion and time\n",
    "bottom = np.zeros((1,inittrailnum))\n",
    "df = pd.DataFrame()\n",
    "groupn = [12,14,16,18]\n",
    "inittrail = [1, 10,100,1000]\n",
    "for i in range(inittrailnum):\n",
    "    df['n%d'% groupn[i] ] = mp[i].iloc[:,1:5].mean( axis= 1).values\n",
    "    bottom = bottom + mp[i].iloc[:,1:5].mean( axis= 1).values\n",
    "    print( bottom)\n",
    "print( df )\n",
    "df['average'] = df.mean(axis = 1).values\n",
    "print(df['average'])\n",
    "df['inittrail']= inittrail\n",
    "df.to_csv(\"/home/cheng/桌面/data/A4_propotion_result.csv\")\n",
    "proportionA4 = bottom/inittrailnum\n",
    "\n",
    "bottom = np.zeros((1,inittrailnum))\n",
    "df = pd.DataFrame()\n",
    "for i in range(inittrailnum):\n",
    "    df['n%d'% groupn[i] ] = mp[i].iloc[:,5:9].mean( axis= 1).values\n",
    "    bottom = bottom + mp[i].iloc[:,5:9].mean( axis= 1).values\n",
    "df['average'] = df.mean(axis = 1).values\n",
    "df['inittrail']= inittrail\n",
    "df.to_csv(\"/home/cheng/桌面/data/A4_time_result.csv\")\n",
    "timeA4 = bottom /inittrailnum\n",
    "\n",
    "import matplotlib.pyplot as plt\n",
    "pro = proportionA4[0].tolist()\n",
    "tim = timeA4[0].tolist()\n",
    "print( pro)\n",
    "print( tim)\n",
    "\n",
    "index = [i for i in range( 1, len(pro) +1 )]\n",
    "# plt.figure( figsize=(10,10))\n",
    "plt.plot(index, pro, 'o-', label=\"Propotion\",  linewidth = 1)\n",
    "plt.plot(index, tim, \"*-\", label=\"Time\", linewidth=1)\n",
    "plt.legend(loc=\"center right\")\n",
    "plt.savefig(\"/home/cheng/桌面/data/A4_result.jpg\")\n",
    "plt.show()\n"
   ]
  },
  {
   "cell_type": "code",
   "execution_count": 31,
   "metadata": {},
   "outputs": [
    {
     "name": "stdout",
     "output_type": "stream",
     "text": [
      "12 0.1 1\n"
     ]
    },
    {
     "name": "stdout",
     "output_type": "stream",
     "text": [
      "12 0.1 2\n"
     ]
    },
    {
     "name": "stdout",
     "output_type": "stream",
     "text": [
      "12 0.1 3\n"
     ]
    },
    {
     "name": "stdout",
     "output_type": "stream",
     "text": [
      "12 0.1 4\n"
     ]
    },
    {
     "name": "stdout",
     "output_type": "stream",
     "text": [
      "12 0.2 1\n"
     ]
    },
    {
     "name": "stdout",
     "output_type": "stream",
     "text": [
      "12 0.2 2\n"
     ]
    },
    {
     "name": "stdout",
     "output_type": "stream",
     "text": [
      "12 0.2 3\n"
     ]
    },
    {
     "name": "stdout",
     "output_type": "stream",
     "text": [
      "12 0.2 4\n"
     ]
    },
    {
     "name": "stdout",
     "output_type": "stream",
     "text": [
      "12 0.30000000000000004 1\n"
     ]
    },
    {
     "name": "stdout",
     "output_type": "stream",
     "text": [
      "12 0.30000000000000004 2\n"
     ]
    },
    {
     "name": "stdout",
     "output_type": "stream",
     "text": [
      "12 0.30000000000000004 3\n"
     ]
    },
    {
     "name": "stdout",
     "output_type": "stream",
     "text": [
      "12 0.30000000000000004 4\n"
     ]
    },
    {
     "name": "stdout",
     "output_type": "stream",
     "text": [
      "12 0.4 1\n"
     ]
    },
    {
     "name": "stdout",
     "output_type": "stream",
     "text": [
      "12 0.4 2\n"
     ]
    },
    {
     "name": "stdout",
     "output_type": "stream",
     "text": [
      "12 0.4 3\n"
     ]
    },
    {
     "name": "stdout",
     "output_type": "stream",
     "text": [
      "12 0.4 4\n"
     ]
    },
    {
     "name": "stdout",
     "output_type": "stream",
     "text": [
      "12 0.5 1\n"
     ]
    },
    {
     "name": "stdout",
     "output_type": "stream",
     "text": [
      "12 0.5 2\n"
     ]
    },
    {
     "name": "stdout",
     "output_type": "stream",
     "text": [
      "12 0.5 3\n"
     ]
    },
    {
     "name": "stdout",
     "output_type": "stream",
     "text": [
      "12 0.5 4\n"
     ]
    },
    {
     "name": "stdout",
     "output_type": "stream",
     "text": [
      "12 0.6000000000000001 1\n"
     ]
    },
    {
     "name": "stdout",
     "output_type": "stream",
     "text": [
      "12 0.6000000000000001 2\n"
     ]
    },
    {
     "name": "stdout",
     "output_type": "stream",
     "text": [
      "12 0.6000000000000001 3\n"
     ]
    },
    {
     "name": "stdout",
     "output_type": "stream",
     "text": [
      "12 0.6000000000000001 4\n"
     ]
    },
    {
     "name": "stdout",
     "output_type": "stream",
     "text": [
      "12 0.7000000000000001 1\n"
     ]
    },
    {
     "name": "stdout",
     "output_type": "stream",
     "text": [
      "12 0.7000000000000001 2\n"
     ]
    },
    {
     "name": "stdout",
     "output_type": "stream",
     "text": [
      "12 0.7000000000000001 3\n"
     ]
    },
    {
     "name": "stdout",
     "output_type": "stream",
     "text": [
      "12 0.7000000000000001 4\n"
     ]
    },
    {
     "name": "stdout",
     "output_type": "stream",
     "text": [
      "12 0.8 1\n"
     ]
    },
    {
     "name": "stdout",
     "output_type": "stream",
     "text": [
      "12 0.8 2\n"
     ]
    },
    {
     "name": "stdout",
     "output_type": "stream",
     "text": [
      "12 0.8 3\n"
     ]
    },
    {
     "name": "stdout",
     "output_type": "stream",
     "text": [
      "12 0.8 4\n"
     ]
    },
    {
     "name": "stdout",
     "output_type": "stream",
     "text": [
      "12 0.9 1\n"
     ]
    },
    {
     "name": "stdout",
     "output_type": "stream",
     "text": [
      "12 0.9 2\n"
     ]
    },
    {
     "name": "stdout",
     "output_type": "stream",
     "text": [
      "12 0.9 3\n"
     ]
    },
    {
     "name": "stdout",
     "output_type": "stream",
     "text": [
      "12 0.9 4\n"
     ]
    },
    {
     "name": "stdout",
     "output_type": "stream",
     "text": [
      "14 0.1 1\n"
     ]
    },
    {
     "name": "stdout",
     "output_type": "stream",
     "text": [
      "14 0.1 2\n"
     ]
    },
    {
     "name": "stdout",
     "output_type": "stream",
     "text": [
      "14 0.1 3\n"
     ]
    },
    {
     "name": "stdout",
     "output_type": "stream",
     "text": [
      "14 0.1 4\n"
     ]
    },
    {
     "name": "stdout",
     "output_type": "stream",
     "text": [
      "14 0.2 1\n"
     ]
    },
    {
     "name": "stdout",
     "output_type": "stream",
     "text": [
      "14 0.2 2\n"
     ]
    },
    {
     "name": "stdout",
     "output_type": "stream",
     "text": [
      "14 0.2 3\n"
     ]
    },
    {
     "name": "stdout",
     "output_type": "stream",
     "text": [
      "14 0.2 4\n"
     ]
    },
    {
     "name": "stdout",
     "output_type": "stream",
     "text": [
      "14 0.30000000000000004 1\n"
     ]
    },
    {
     "name": "stdout",
     "output_type": "stream",
     "text": [
      "14 0.30000000000000004 2\n"
     ]
    },
    {
     "name": "stdout",
     "output_type": "stream",
     "text": [
      "14 0.30000000000000004 3\n"
     ]
    },
    {
     "name": "stdout",
     "output_type": "stream",
     "text": [
      "14 0.30000000000000004 4\n"
     ]
    },
    {
     "name": "stdout",
     "output_type": "stream",
     "text": [
      "14 0.4 1\n"
     ]
    },
    {
     "name": "stdout",
     "output_type": "stream",
     "text": [
      "14 0.4 2\n"
     ]
    },
    {
     "name": "stdout",
     "output_type": "stream",
     "text": [
      "14 0.4 3\n"
     ]
    },
    {
     "name": "stdout",
     "output_type": "stream",
     "text": [
      "14 0.4 4\n"
     ]
    },
    {
     "name": "stdout",
     "output_type": "stream",
     "text": [
      "14 0.5 1\n"
     ]
    },
    {
     "name": "stdout",
     "output_type": "stream",
     "text": [
      "14 0.5 2\n"
     ]
    },
    {
     "name": "stdout",
     "output_type": "stream",
     "text": [
      "14 0.5 3\n"
     ]
    },
    {
     "name": "stdout",
     "output_type": "stream",
     "text": [
      "14 0.5 4\n"
     ]
    },
    {
     "name": "stdout",
     "output_type": "stream",
     "text": [
      "14 0.6000000000000001 1\n"
     ]
    },
    {
     "name": "stdout",
     "output_type": "stream",
     "text": [
      "14 0.6000000000000001 2\n"
     ]
    },
    {
     "name": "stdout",
     "output_type": "stream",
     "text": [
      "14 0.6000000000000001 3\n"
     ]
    },
    {
     "name": "stdout",
     "output_type": "stream",
     "text": [
      "14 0.6000000000000001 4\n"
     ]
    },
    {
     "name": "stdout",
     "output_type": "stream",
     "text": [
      "14 0.7000000000000001 1\n"
     ]
    },
    {
     "name": "stdout",
     "output_type": "stream",
     "text": [
      "14 0.7000000000000001 2\n"
     ]
    },
    {
     "name": "stdout",
     "output_type": "stream",
     "text": [
      "14 0.7000000000000001 3\n"
     ]
    },
    {
     "name": "stdout",
     "output_type": "stream",
     "text": [
      "14 0.7000000000000001 4\n"
     ]
    },
    {
     "name": "stdout",
     "output_type": "stream",
     "text": [
      "14 0.8 1\n"
     ]
    },
    {
     "name": "stdout",
     "output_type": "stream",
     "text": [
      "14 0.8 2\n"
     ]
    },
    {
     "name": "stdout",
     "output_type": "stream",
     "text": [
      "14 0.8 3\n"
     ]
    },
    {
     "name": "stdout",
     "output_type": "stream",
     "text": [
      "14 0.8 4\n"
     ]
    },
    {
     "name": "stdout",
     "output_type": "stream",
     "text": [
      "14 0.9 1\n"
     ]
    },
    {
     "name": "stdout",
     "output_type": "stream",
     "text": [
      "14 0.9 2\n"
     ]
    },
    {
     "name": "stdout",
     "output_type": "stream",
     "text": [
      "14 0.9 3\n"
     ]
    },
    {
     "name": "stdout",
     "output_type": "stream",
     "text": [
      "14 0.9 4\n"
     ]
    },
    {
     "name": "stdout",
     "output_type": "stream",
     "text": [
      "16 0.1 1\n"
     ]
    },
    {
     "name": "stdout",
     "output_type": "stream",
     "text": [
      "16 0.1 2\n"
     ]
    },
    {
     "name": "stdout",
     "output_type": "stream",
     "text": [
      "16 0.1 3\n"
     ]
    },
    {
     "name": "stdout",
     "output_type": "stream",
     "text": [
      "16 0.1 4\n"
     ]
    },
    {
     "name": "stdout",
     "output_type": "stream",
     "text": [
      "16 0.2 1\n"
     ]
    },
    {
     "name": "stdout",
     "output_type": "stream",
     "text": [
      "16 0.2 2\n"
     ]
    },
    {
     "name": "stdout",
     "output_type": "stream",
     "text": [
      "16 0.2 3\n"
     ]
    },
    {
     "name": "stdout",
     "output_type": "stream",
     "text": [
      "16 0.2 4\n"
     ]
    },
    {
     "name": "stdout",
     "output_type": "stream",
     "text": [
      "16 0.30000000000000004 1\n"
     ]
    },
    {
     "name": "stdout",
     "output_type": "stream",
     "text": [
      "16 0.30000000000000004 2\n"
     ]
    },
    {
     "name": "stdout",
     "output_type": "stream",
     "text": [
      "16 0.30000000000000004 3\n"
     ]
    },
    {
     "name": "stdout",
     "output_type": "stream",
     "text": [
      "16 0.30000000000000004 4\n"
     ]
    },
    {
     "name": "stdout",
     "output_type": "stream",
     "text": [
      "16 0.4 1\n"
     ]
    },
    {
     "name": "stdout",
     "output_type": "stream",
     "text": [
      "16 0.4 2\n"
     ]
    },
    {
     "name": "stdout",
     "output_type": "stream",
     "text": [
      "16 0.4 3\n"
     ]
    },
    {
     "name": "stdout",
     "output_type": "stream",
     "text": [
      "16 0.4 4\n"
     ]
    },
    {
     "name": "stdout",
     "output_type": "stream",
     "text": [
      "16 0.5 1\n"
     ]
    },
    {
     "name": "stdout",
     "output_type": "stream",
     "text": [
      "16 0.5 2\n"
     ]
    },
    {
     "name": "stdout",
     "output_type": "stream",
     "text": [
      "16 0.5 3\n"
     ]
    },
    {
     "name": "stdout",
     "output_type": "stream",
     "text": [
      "16 0.5 4\n"
     ]
    },
    {
     "name": "stdout",
     "output_type": "stream",
     "text": [
      "16 0.6000000000000001 1\n"
     ]
    },
    {
     "name": "stdout",
     "output_type": "stream",
     "text": [
      "16 0.6000000000000001 2\n"
     ]
    },
    {
     "name": "stdout",
     "output_type": "stream",
     "text": [
      "16 0.6000000000000001 3\n"
     ]
    },
    {
     "name": "stdout",
     "output_type": "stream",
     "text": [
      "16 0.6000000000000001 4\n"
     ]
    },
    {
     "name": "stdout",
     "output_type": "stream",
     "text": [
      "16 0.7000000000000001 1\n"
     ]
    },
    {
     "name": "stdout",
     "output_type": "stream",
     "text": [
      "16 0.7000000000000001 2\n"
     ]
    },
    {
     "name": "stdout",
     "output_type": "stream",
     "text": [
      "16 0.7000000000000001 3\n"
     ]
    },
    {
     "name": "stdout",
     "output_type": "stream",
     "text": [
      "16 0.7000000000000001 4\n"
     ]
    },
    {
     "name": "stdout",
     "output_type": "stream",
     "text": [
      "16 0.8 1\n"
     ]
    },
    {
     "name": "stdout",
     "output_type": "stream",
     "text": [
      "16 0.8 2\n"
     ]
    },
    {
     "name": "stdout",
     "output_type": "stream",
     "text": [
      "16 0.8 3\n"
     ]
    },
    {
     "name": "stdout",
     "output_type": "stream",
     "text": [
      "16 0.8 4\n"
     ]
    },
    {
     "name": "stdout",
     "output_type": "stream",
     "text": [
      "16 0.9 1\n"
     ]
    },
    {
     "name": "stdout",
     "output_type": "stream",
     "text": [
      "16 0.9 2\n"
     ]
    },
    {
     "name": "stdout",
     "output_type": "stream",
     "text": [
      "16 0.9 3\n"
     ]
    },
    {
     "name": "stdout",
     "output_type": "stream",
     "text": [
      "16 0.9 4\n"
     ]
    },
    {
     "name": "stdout",
     "output_type": "stream",
     "text": [
      "18 0.1 1\n"
     ]
    },
    {
     "name": "stdout",
     "output_type": "stream",
     "text": [
      "18 0.1 2\n"
     ]
    },
    {
     "name": "stdout",
     "output_type": "stream",
     "text": [
      "18 0.1 3\n"
     ]
    },
    {
     "name": "stdout",
     "output_type": "stream",
     "text": [
      "18 0.1 4\n"
     ]
    },
    {
     "name": "stdout",
     "output_type": "stream",
     "text": [
      "18 0.2 1\n"
     ]
    },
    {
     "name": "stdout",
     "output_type": "stream",
     "text": [
      "18 0.2 2\n"
     ]
    },
    {
     "name": "stdout",
     "output_type": "stream",
     "text": [
      "18 0.2 3\n"
     ]
    },
    {
     "name": "stdout",
     "output_type": "stream",
     "text": [
      "18 0.2 4\n"
     ]
    },
    {
     "name": "stdout",
     "output_type": "stream",
     "text": [
      "18 0.30000000000000004 1\n"
     ]
    },
    {
     "name": "stdout",
     "output_type": "stream",
     "text": [
      "18 0.30000000000000004 2\n"
     ]
    },
    {
     "name": "stdout",
     "output_type": "stream",
     "text": [
      "18 0.30000000000000004 3\n"
     ]
    },
    {
     "name": "stdout",
     "output_type": "stream",
     "text": [
      "18 0.30000000000000004 4\n"
     ]
    },
    {
     "name": "stdout",
     "output_type": "stream",
     "text": [
      "18 0.4 1\n"
     ]
    },
    {
     "name": "stdout",
     "output_type": "stream",
     "text": [
      "18 0.4 2\n"
     ]
    },
    {
     "name": "stdout",
     "output_type": "stream",
     "text": [
      "18 0.4 3\n"
     ]
    },
    {
     "name": "stdout",
     "output_type": "stream",
     "text": [
      "18 0.4 4\n"
     ]
    },
    {
     "name": "stdout",
     "output_type": "stream",
     "text": [
      "18 0.5 1\n"
     ]
    },
    {
     "name": "stdout",
     "output_type": "stream",
     "text": [
      "18 0.5 2\n"
     ]
    },
    {
     "name": "stdout",
     "output_type": "stream",
     "text": [
      "18 0.5 3\n"
     ]
    },
    {
     "name": "stdout",
     "output_type": "stream",
     "text": [
      "18 0.5 4\n"
     ]
    },
    {
     "name": "stdout",
     "output_type": "stream",
     "text": [
      "18 0.6000000000000001 1\n"
     ]
    },
    {
     "name": "stdout",
     "output_type": "stream",
     "text": [
      "18 0.6000000000000001 2\n"
     ]
    },
    {
     "name": "stdout",
     "output_type": "stream",
     "text": [
      "18 0.6000000000000001 3\n"
     ]
    },
    {
     "name": "stdout",
     "output_type": "stream",
     "text": [
      "18 0.6000000000000001 4\n"
     ]
    },
    {
     "name": "stdout",
     "output_type": "stream",
     "text": [
      "18 0.7000000000000001 1\n"
     ]
    },
    {
     "name": "stdout",
     "output_type": "stream",
     "text": [
      "18 0.7000000000000001 2\n"
     ]
    },
    {
     "name": "stdout",
     "output_type": "stream",
     "text": [
      "18 0.7000000000000001 3\n"
     ]
    },
    {
     "name": "stdout",
     "output_type": "stream",
     "text": [
      "18 0.7000000000000001 4\n"
     ]
    },
    {
     "name": "stdout",
     "output_type": "stream",
     "text": [
      "18 0.8 1\n"
     ]
    },
    {
     "name": "stdout",
     "output_type": "stream",
     "text": [
      "18 0.8 2\n"
     ]
    },
    {
     "name": "stdout",
     "output_type": "stream",
     "text": [
      "18 0.8 3\n"
     ]
    },
    {
     "name": "stdout",
     "output_type": "stream",
     "text": [
      "18 0.8 4\n"
     ]
    },
    {
     "name": "stdout",
     "output_type": "stream",
     "text": [
      "18 0.9 1\n"
     ]
    },
    {
     "name": "stdout",
     "output_type": "stream",
     "text": [
      "18 0.9 2\n"
     ]
    },
    {
     "name": "stdout",
     "output_type": "stream",
     "text": [
      "18 0.9 3\n"
     ]
    },
    {
     "name": "stdout",
     "output_type": "stream",
     "text": [
      "18 0.9 4\n"
     ]
    },
    {
     "name": "stdout",
     "output_type": "stream",
     "text": [
      "done\n"
     ]
    },
    {
     "ename": "ValueError",
     "evalue": "operands could not be broadcast together with shapes (1,9) (4,) ",
     "traceback": [
      "\u001b[0;31m---------------------------------------------------------------------------\u001b[0m",
      "\u001b[0;31mValueError\u001b[0m                                Traceback (most recent call last)",
      "\u001b[0;32m<ipython-input-31-707b6a5238ed>\u001b[0m in \u001b[0;36m<module>\u001b[0;34m()\u001b[0m\n\u001b[1;32m    108\u001b[0m \u001b[0;32mfor\u001b[0m \u001b[0mi\u001b[0m \u001b[0;32min\u001b[0m \u001b[0mrange\u001b[0m\u001b[0;34m(\u001b[0m\u001b[0minittrailnum\u001b[0m\u001b[0;34m)\u001b[0m\u001b[0;34m:\u001b[0m\u001b[0;34m\u001b[0m\u001b[0m\n\u001b[1;32m    109\u001b[0m     \u001b[0mdf\u001b[0m\u001b[0;34m[\u001b[0m\u001b[0;34m'n%d'\u001b[0m\u001b[0;34m%\u001b[0m \u001b[0mgroupn\u001b[0m\u001b[0;34m[\u001b[0m\u001b[0mi\u001b[0m\u001b[0;34m]\u001b[0m \u001b[0;34m]\u001b[0m \u001b[0;34m=\u001b[0m \u001b[0mmp\u001b[0m\u001b[0;34m[\u001b[0m\u001b[0mi\u001b[0m\u001b[0;34m]\u001b[0m\u001b[0;34m.\u001b[0m\u001b[0miloc\u001b[0m\u001b[0;34m[\u001b[0m\u001b[0;34m:\u001b[0m\u001b[0;34m,\u001b[0m\u001b[0;36m1\u001b[0m\u001b[0;34m:\u001b[0m\u001b[0;36m5\u001b[0m\u001b[0;34m]\u001b[0m\u001b[0;34m.\u001b[0m\u001b[0mmean\u001b[0m\u001b[0;34m(\u001b[0m \u001b[0maxis\u001b[0m\u001b[0;34m=\u001b[0m \u001b[0;36m1\u001b[0m\u001b[0;34m)\u001b[0m\u001b[0;34m.\u001b[0m\u001b[0mvalues\u001b[0m\u001b[0;34m\u001b[0m\u001b[0m\n\u001b[0;32m--> 110\u001b[0;31m     \u001b[0mbottom\u001b[0m \u001b[0;34m=\u001b[0m \u001b[0mbottom\u001b[0m \u001b[0;34m+\u001b[0m \u001b[0mmp\u001b[0m\u001b[0;34m[\u001b[0m\u001b[0mi\u001b[0m\u001b[0;34m]\u001b[0m\u001b[0;34m.\u001b[0m\u001b[0miloc\u001b[0m\u001b[0;34m[\u001b[0m\u001b[0;34m:\u001b[0m\u001b[0;34m,\u001b[0m\u001b[0;36m1\u001b[0m\u001b[0;34m:\u001b[0m\u001b[0;36m5\u001b[0m\u001b[0;34m]\u001b[0m\u001b[0;34m.\u001b[0m\u001b[0mmean\u001b[0m\u001b[0;34m(\u001b[0m \u001b[0maxis\u001b[0m\u001b[0;34m=\u001b[0m \u001b[0;36m1\u001b[0m\u001b[0;34m)\u001b[0m\u001b[0;34m.\u001b[0m\u001b[0mvalues\u001b[0m\u001b[0;34m\u001b[0m\u001b[0m\n\u001b[0m\u001b[1;32m    111\u001b[0m     \u001b[0mprint\u001b[0m\u001b[0;34m(\u001b[0m \u001b[0mbottom\u001b[0m\u001b[0;34m)\u001b[0m\u001b[0;34m\u001b[0m\u001b[0m\n\u001b[1;32m    112\u001b[0m \u001b[0mprint\u001b[0m\u001b[0;34m(\u001b[0m \u001b[0mdf\u001b[0m \u001b[0;34m)\u001b[0m\u001b[0;34m\u001b[0m\u001b[0m\n",
      "\u001b[0;31mValueError\u001b[0m: operands could not be broadcast together with shapes (1,9) (4,) "
     ],
     "output_type": "error"
    }
   ],
   "source": [
    "# A5\n",
    "\n",
    "# 1, find best p\n",
    "import sys\n",
    "sys.path.append(\"/home/cheng/PycharmProjects/TSP/src/\")\n",
    "sys.path.append(\"/home/cheng/PycharmProjects/TSP/src/TravelingSalesmanProblem/\")\n",
    "sys.path.append(\"/home/cheng/PycharmProjects/TSP/\")\n",
    "import time\n",
    "import pandas as pd\n",
    "\n",
    "project_path = \"/home/cheng/PycharmProjects/TSP/\"\n",
    "\n",
    "from TravelingSalesmanProblem.AntColonyAlgorithmForMTSP import *\n",
    "\n",
    "best_interval = [(4,7),(6,7),(6,9),(8,9)]\n",
    "groupnum = [12, 14,16,18]\n",
    "antnum = 7\n",
    "for n in range(4): # n\n",
    "    col = 4\n",
    "    valuelst = [[] for i in range(col)]\n",
    "    timelst = [[] for i in range(col)]\n",
    "    interval = [] \n",
    "    row = 5\n",
    "    k_value = [ 0.1*i for i in range(1,10)]\n",
    "    m_value = [i for i in range(1, col + 1)]\n",
    "    for k in k_value: # antnum\n",
    "        lw = best_interval[n][0]\n",
    "        hg = best_interval[n][1]\n",
    "        interval.extend( [k for i in range(row)]) # 5 times for each problem\n",
    "        for m in m_value:  # the mth datasets of n\n",
    "            print( groupnum[n], k,m )\n",
    "            lst = []\n",
    "            for i in range( 10 ):\n",
    "                a = time.time()\n",
    "                mtsp = AntColonyAlgorithmForMTSP(iter_max= 20,alpha=1,beta=5, vol= k, num= 2, \n",
    "                                    K = lw, L = hg, m = antnum, inittrail=1,\n",
    "                    datasets= \"/home/cheng/PycharmProjects/TSP/datasets/dist%d_%d\" \n",
    "                              %(groupnum[n],m))\n",
    "                mtsp.excution()\n",
    "                b = time.time()\n",
    "                # print( \"time in second\", b - a )\n",
    "                lst.append( [ mtsp.return_best()[0], b-a])\n",
    "                # mtsp.print_information()\n",
    "                # mtsp.plot()\n",
    "            def custom_key(x ):\n",
    "                return x[0],x[1]\n",
    "            lst = sorted( lst, key= custom_key )\n",
    "            # print( lst )\n",
    "            \n",
    "            valuelst[m-1].extend( [lst[i][0] for i in range( row )] )\n",
    "            timelst[m-1].extend( [lst[i][1] for i in range( row )] )\n",
    "            # print(\"=== values\", valuelst)\n",
    "    data = []\n",
    "    data.append(interval)\n",
    "    data.extend(valuelst)\n",
    "    data.extend(timelst)\n",
    "    # print( data )\n",
    "    \n",
    "    label =[]\n",
    "    label.extend([\"pho\"])\n",
    "    label.extend([\"p%d_value\"%i for i in range(1,col+1)])\n",
    "    label.extend([\"p%d_time\"%i  for i in range(1,col+1)])\n",
    "    \n",
    "    path = \"/home/cheng/桌面/data/A5_n%d.csv\" % groupnum[n]\n",
    "    # pd.read_csv(path)\n",
    "    dataframe = pd.DataFrame()\n",
    "    # print( label )\n",
    "    # print( data )\n",
    "    for i in range( len( label)):\n",
    "        dataframe[ label[i] ] = data[i]\n",
    "    dataframe.to_csv(path)\n",
    "\n",
    "\n",
    "# 2, mean result for every n\n",
    "import pandas as pd\n",
    "optional = pd.read_csv(\"/home/cheng/桌面/data/A1_optional.csv\")\n",
    "n12 = pd.read_csv(\"/home/cheng/桌面/data/A5_n12.csv\")\n",
    "n14 = pd.read_csv(\"/home/cheng/桌面/data/A5_n14.csv\")\n",
    "n16 = pd.read_csv(\"/home/cheng/桌面/data/A5_n16.csv\")\n",
    "n18 = pd.read_csv(\"/home/cheng/桌面/data/A5_n18.csv\")\n",
    "\n",
    "ngroup =[]\n",
    "ngroup.extend([n12,n14,n16,n18])\n",
    "group = [12,14,16,18]\n",
    "inittrailnum = 9\n",
    "for k in range(0,4): # group n={12,14,16,18]\n",
    "    tmp = []\n",
    "    for i in [start*5 for start in range( inittrailnum )]: # interval starts at {0,5,10}\n",
    "        inter = ngroup[k].iloc[i:i+5,2:6]\n",
    "        proportion = ( optional.iloc[k,1:5] /inter).mean( axis = 0 ).values\n",
    "        timevalue = (ngroup[k].iloc[i:i+5, 6:10]).mean(axis= 0).values\n",
    "        tmp_lst = proportion.tolist()\n",
    "        tmp_lst.extend( timevalue.tolist() )\n",
    "        tmp.append(tmp_lst)\n",
    "    tmp_ = np.array( tmp )\n",
    "    tmp_ = np.around( tmp_, decimals=3)\n",
    "    df = pd.DataFrame( data=tmp_, columns=[\"p1_value\",\"p2_value\",\"p3_value\",\"p4_value\",\n",
    "                                           \"p1_time\",\"p2_tim\",\"p3_time\",\"p4_time\"])\n",
    "    df['pho']=[ngroup[k].iloc[x,1] for x in [start*5 for start in range(inittrailnum)] ]\n",
    "    df.to_csv(\"/home/cheng/桌面/data/A5_n%d_result.csv\" % group[k])\n",
    "print(\"done\")\n",
    "\n",
    "# 3, average proportion and time\n",
    "groupn = [12,14,16,18]\n",
    "mp = []\n",
    "for i in groupn:\n",
    "    tmp = pd.read_csv('/home/cheng/桌面/data/A5_n%d_result.csv' % i)\n",
    "    mp.append( tmp )\n",
    "    \n",
    "bottom = np.zeros((1,inittrailnum))\n",
    "df = pd.DataFrame()\n",
    "groupn = [12,14,16,18]\n",
    "inittrail = [0.1*i for i in range(inittrailnum)]\n",
    "for i in range( len( groupn ) ):\n",
    "    df['n%d'% groupn[i] ] = mp[i].iloc[:,1:5].mean( axis= 1).values\n",
    "    bottom = bottom + mp[i].iloc[:,1:5].mean( axis= 1).values\n",
    "    print( bottom)\n",
    "print( df )\n",
    "df['average'] = df.mean(axis = 1).values\n",
    "print(df['average'])\n",
    "df['pho']= inittrail\n",
    "df.to_csv(\"/home/cheng/桌面/data/A5_propotion_result.csv\")\n",
    "proportionA4 = bottom/len( groupn)\n",
    "\n",
    "bottom = np.zeros((1,inittrailnum))\n",
    "df = pd.DataFrame()\n",
    "for i in range(len( groupn )):\n",
    "    df['n%d'% groupn[i] ] = mp[i].iloc[:,5:9].mean( axis= 1).values\n",
    "    bottom = bottom + mp[i].iloc[:,5:9].mean( axis= 1).values\n",
    "df['average'] = df.mean(axis = 1).values\n",
    "df['pho']= inittrail\n",
    "df.to_csv(\"/home/cheng/桌面/data/A5_time_result.csv\")\n",
    "timeA4 = bottom /len( groupn )\n",
    "\n",
    "import matplotlib.pyplot as plt\n",
    "pro = proportionA4[0].tolist()\n",
    "tim = timeA4[0].tolist()\n",
    "print( pro)\n",
    "print( tim)\n",
    "\n",
    "index = [i for i in range( 1, len(pro) +1 )]\n",
    "# plt.figure( figsize=(10,10))\n",
    "plt.plot(index, pro, 'o-', label=\"Propotion\",  linewidth = 1)\n",
    "plt.plot(index, tim, \"*-\", label=\"Time\", linewidth=1)\n",
    "plt.legend(loc=\"center right\")\n",
    "plt.savefig(\"/home/cheng/桌面/data/A5_result.jpg\")\n",
    "plt.show()\n",
    "\n"
   ]
  },
  {
   "cell_type": "code",
   "execution_count": 41,
   "metadata": {
    "collapsed": true
   },
   "outputs": [
    {
     "name": "stdout",
     "output_type": "stream",
     "text": [
      "12 1 1\n"
     ]
    },
    {
     "name": "stdout",
     "output_type": "stream",
     "text": [
      "12 1 2\n"
     ]
    },
    {
     "name": "stdout",
     "output_type": "stream",
     "text": [
      "12 1 3\n12 1 "
     ]
    },
    {
     "name": "stdout",
     "output_type": "stream",
     "text": [
      "4\n12 2 1\n"
     ]
    },
    {
     "name": "stdout",
     "output_type": "stream",
     "text": [
      "12 2 2\n"
     ]
    },
    {
     "name": "stdout",
     "output_type": "stream",
     "text": [
      "12 2 3\n"
     ]
    },
    {
     "name": "stdout",
     "output_type": "stream",
     "text": [
      "12 2 4\n"
     ]
    },
    {
     "name": "stdout",
     "output_type": "stream",
     "text": [
      "12 3 1\n"
     ]
    },
    {
     "name": "stdout",
     "output_type": "stream",
     "text": [
      "12 3 2\n"
     ]
    },
    {
     "name": "stdout",
     "output_type": "stream",
     "text": [
      "12 3 3\n"
     ]
    },
    {
     "name": "stdout",
     "output_type": "stream",
     "text": [
      "12 3 4\n"
     ]
    },
    {
     "name": "stdout",
     "output_type": "stream",
     "text": [
      "12 4 1\n"
     ]
    },
    {
     "name": "stdout",
     "output_type": "stream",
     "text": [
      "12 4 2\n"
     ]
    },
    {
     "name": "stdout",
     "output_type": "stream",
     "text": [
      "12 4 3\n"
     ]
    },
    {
     "name": "stdout",
     "output_type": "stream",
     "text": [
      "12 4 4\n"
     ]
    },
    {
     "name": "stdout",
     "output_type": "stream",
     "text": [
      "12 5 1\n"
     ]
    },
    {
     "name": "stdout",
     "output_type": "stream",
     "text": [
      "12 5 2\n"
     ]
    },
    {
     "name": "stdout",
     "output_type": "stream",
     "text": [
      "12 5 3\n"
     ]
    },
    {
     "name": "stdout",
     "output_type": "stream",
     "text": [
      "12 5 4\n"
     ]
    },
    {
     "name": "stdout",
     "output_type": "stream",
     "text": [
      "12 6 1\n"
     ]
    },
    {
     "name": "stdout",
     "output_type": "stream",
     "text": [
      "12 6 2\n"
     ]
    },
    {
     "name": "stdout",
     "output_type": "stream",
     "text": [
      "12 6 3\n"
     ]
    },
    {
     "name": "stdout",
     "output_type": "stream",
     "text": [
      "12 6 4\n"
     ]
    },
    {
     "name": "stdout",
     "output_type": "stream",
     "text": [
      "12 7 1\n"
     ]
    },
    {
     "name": "stdout",
     "output_type": "stream",
     "text": [
      "12 7 2\n"
     ]
    },
    {
     "name": "stdout",
     "output_type": "stream",
     "text": [
      "12 7 3\n"
     ]
    },
    {
     "name": "stdout",
     "output_type": "stream",
     "text": [
      "12 7 4\n"
     ]
    },
    {
     "name": "stdout",
     "output_type": "stream",
     "text": [
      "12 8 1\n"
     ]
    },
    {
     "name": "stdout",
     "output_type": "stream",
     "text": [
      "12 8 2\n"
     ]
    },
    {
     "name": "stdout",
     "output_type": "stream",
     "text": [
      "12 8 3\n"
     ]
    },
    {
     "name": "stdout",
     "output_type": "stream",
     "text": [
      "12 8 4\n"
     ]
    },
    {
     "name": "stdout",
     "output_type": "stream",
     "text": [
      "12 9 1\n"
     ]
    },
    {
     "name": "stdout",
     "output_type": "stream",
     "text": [
      "12 9 2\n"
     ]
    },
    {
     "name": "stdout",
     "output_type": "stream",
     "text": [
      "12 9 3\n"
     ]
    },
    {
     "name": "stdout",
     "output_type": "stream",
     "text": [
      "12 9 4\n"
     ]
    },
    {
     "name": "stdout",
     "output_type": "stream",
     "text": [
      "12 10 1\n"
     ]
    },
    {
     "name": "stdout",
     "output_type": "stream",
     "text": [
      "12 10 2\n"
     ]
    },
    {
     "name": "stdout",
     "output_type": "stream",
     "text": [
      "12 10 3\n"
     ]
    },
    {
     "name": "stdout",
     "output_type": "stream",
     "text": [
      "12 10 4\n"
     ]
    },
    {
     "name": "stdout",
     "output_type": "stream",
     "text": [
      "12 11 1\n"
     ]
    },
    {
     "name": "stdout",
     "output_type": "stream",
     "text": [
      "12 11 2\n"
     ]
    },
    {
     "name": "stdout",
     "output_type": "stream",
     "text": [
      "12 11 3\n"
     ]
    },
    {
     "name": "stdout",
     "output_type": "stream",
     "text": [
      "12 11 4\n"
     ]
    },
    {
     "name": "stdout",
     "output_type": "stream",
     "text": [
      "12 12 1\n"
     ]
    },
    {
     "name": "stdout",
     "output_type": "stream",
     "text": [
      "12 12 2\n"
     ]
    },
    {
     "name": "stdout",
     "output_type": "stream",
     "text": [
      "12 12 3\n"
     ]
    },
    {
     "name": "stdout",
     "output_type": "stream",
     "text": [
      "12 12 4\n"
     ]
    },
    {
     "name": "stdout",
     "output_type": "stream",
     "text": [
      "12 13 1\n"
     ]
    },
    {
     "name": "stdout",
     "output_type": "stream",
     "text": [
      "12 13 2\n"
     ]
    },
    {
     "name": "stdout",
     "output_type": "stream",
     "text": [
      "12 13 3\n"
     ]
    },
    {
     "name": "stdout",
     "output_type": "stream",
     "text": [
      "12 13 4\n"
     ]
    },
    {
     "name": "stdout",
     "output_type": "stream",
     "text": [
      "12 14 1\n"
     ]
    },
    {
     "name": "stdout",
     "output_type": "stream",
     "text": [
      "12 14 2\n"
     ]
    },
    {
     "name": "stdout",
     "output_type": "stream",
     "text": [
      "12 14 3\n"
     ]
    },
    {
     "name": "stdout",
     "output_type": "stream",
     "text": [
      "12 14 4\n"
     ]
    },
    {
     "name": "stdout",
     "output_type": "stream",
     "text": [
      "12 15 1\n"
     ]
    },
    {
     "name": "stdout",
     "output_type": "stream",
     "text": [
      "12 15 2\n"
     ]
    },
    {
     "name": "stdout",
     "output_type": "stream",
     "text": [
      "12 15 3\n"
     ]
    },
    {
     "name": "stdout",
     "output_type": "stream",
     "text": [
      "12 15 4\n"
     ]
    },
    {
     "name": "stdout",
     "output_type": "stream",
     "text": [
      "12 16 1\n"
     ]
    },
    {
     "name": "stdout",
     "output_type": "stream",
     "text": [
      "12 16 2\n"
     ]
    },
    {
     "name": "stdout",
     "output_type": "stream",
     "text": [
      "12 16 3\n"
     ]
    },
    {
     "name": "stdout",
     "output_type": "stream",
     "text": [
      "12 16 4\n"
     ]
    },
    {
     "name": "stdout",
     "output_type": "stream",
     "text": [
      "12 17 1\n"
     ]
    },
    {
     "name": "stdout",
     "output_type": "stream",
     "text": [
      "12 17 2\n"
     ]
    },
    {
     "name": "stdout",
     "output_type": "stream",
     "text": [
      "12 17 3\n"
     ]
    },
    {
     "name": "stdout",
     "output_type": "stream",
     "text": [
      "12 17 4\n"
     ]
    },
    {
     "name": "stdout",
     "output_type": "stream",
     "text": [
      "12 18 1\n"
     ]
    },
    {
     "name": "stdout",
     "output_type": "stream",
     "text": [
      "12 18 2\n"
     ]
    },
    {
     "name": "stdout",
     "output_type": "stream",
     "text": [
      "12 18 3\n"
     ]
    },
    {
     "name": "stdout",
     "output_type": "stream",
     "text": [
      "12 18 4\n"
     ]
    },
    {
     "name": "stdout",
     "output_type": "stream",
     "text": [
      "12 19 1\n"
     ]
    },
    {
     "name": "stdout",
     "output_type": "stream",
     "text": [
      "12 19 2\n"
     ]
    },
    {
     "name": "stdout",
     "output_type": "stream",
     "text": [
      "12 19 3\n"
     ]
    },
    {
     "name": "stdout",
     "output_type": "stream",
     "text": [
      "12 19 4\n"
     ]
    },
    {
     "name": "stdout",
     "output_type": "stream",
     "text": [
      "12 20 1\n"
     ]
    },
    {
     "name": "stdout",
     "output_type": "stream",
     "text": [
      "12 20 2\n"
     ]
    },
    {
     "name": "stdout",
     "output_type": "stream",
     "text": [
      "12 20 3\n"
     ]
    },
    {
     "name": "stdout",
     "output_type": "stream",
     "text": [
      "12 20 4\n"
     ]
    },
    {
     "name": "stdout",
     "output_type": "stream",
     "text": [
      "12 21 1\n"
     ]
    },
    {
     "name": "stdout",
     "output_type": "stream",
     "text": [
      "12 21 2\n"
     ]
    },
    {
     "name": "stdout",
     "output_type": "stream",
     "text": [
      "12 21 3\n"
     ]
    },
    {
     "name": "stdout",
     "output_type": "stream",
     "text": [
      "12 21 4\n"
     ]
    },
    {
     "name": "stdout",
     "output_type": "stream",
     "text": [
      "12 22 1\n"
     ]
    },
    {
     "name": "stdout",
     "output_type": "stream",
     "text": [
      "12 22 2\n"
     ]
    },
    {
     "name": "stdout",
     "output_type": "stream",
     "text": [
      "12 22 3\n"
     ]
    },
    {
     "name": "stdout",
     "output_type": "stream",
     "text": [
      "12 22 4\n"
     ]
    },
    {
     "name": "stdout",
     "output_type": "stream",
     "text": [
      "12 23 1\n"
     ]
    },
    {
     "name": "stdout",
     "output_type": "stream",
     "text": [
      "12 23 2\n"
     ]
    },
    {
     "name": "stdout",
     "output_type": "stream",
     "text": [
      "12 23 3\n"
     ]
    },
    {
     "name": "stdout",
     "output_type": "stream",
     "text": [
      "12 23 4\n"
     ]
    },
    {
     "name": "stdout",
     "output_type": "stream",
     "text": [
      "12 24 1\n"
     ]
    },
    {
     "name": "stdout",
     "output_type": "stream",
     "text": [
      "12 24 2\n"
     ]
    },
    {
     "name": "stdout",
     "output_type": "stream",
     "text": [
      "12 24 3\n"
     ]
    },
    {
     "name": "stdout",
     "output_type": "stream",
     "text": [
      "12 24 4\n"
     ]
    },
    {
     "name": "stdout",
     "output_type": "stream",
     "text": [
      "12 25 1\n"
     ]
    },
    {
     "name": "stdout",
     "output_type": "stream",
     "text": [
      "12 25 2\n"
     ]
    },
    {
     "name": "stdout",
     "output_type": "stream",
     "text": [
      "12 25 3\n"
     ]
    },
    {
     "name": "stdout",
     "output_type": "stream",
     "text": [
      "12 25 4\n"
     ]
    },
    {
     "name": "stdout",
     "output_type": "stream",
     "text": [
      "14 1 1\n"
     ]
    },
    {
     "name": "stdout",
     "output_type": "stream",
     "text": [
      "14 1 2\n"
     ]
    },
    {
     "name": "stdout",
     "output_type": "stream",
     "text": [
      "14 1 3\n"
     ]
    },
    {
     "name": "stdout",
     "output_type": "stream",
     "text": [
      "14 1 4\n"
     ]
    },
    {
     "name": "stdout",
     "output_type": "stream",
     "text": [
      "14 2 1\n"
     ]
    },
    {
     "name": "stdout",
     "output_type": "stream",
     "text": [
      "14 2 2\n"
     ]
    },
    {
     "name": "stdout",
     "output_type": "stream",
     "text": [
      "14 2 3\n"
     ]
    },
    {
     "name": "stdout",
     "output_type": "stream",
     "text": [
      "14 2 4\n"
     ]
    },
    {
     "name": "stdout",
     "output_type": "stream",
     "text": [
      "14 3 1\n"
     ]
    },
    {
     "name": "stdout",
     "output_type": "stream",
     "text": [
      "14 3 2\n"
     ]
    },
    {
     "name": "stdout",
     "output_type": "stream",
     "text": [
      "14 3 3\n"
     ]
    },
    {
     "name": "stdout",
     "output_type": "stream",
     "text": [
      "14 3 4\n"
     ]
    },
    {
     "name": "stdout",
     "output_type": "stream",
     "text": [
      "14 4 1\n"
     ]
    },
    {
     "name": "stdout",
     "output_type": "stream",
     "text": [
      "14 4 2\n"
     ]
    },
    {
     "name": "stdout",
     "output_type": "stream",
     "text": [
      "14 4 3\n"
     ]
    },
    {
     "name": "stdout",
     "output_type": "stream",
     "text": [
      "14 4 4\n"
     ]
    },
    {
     "name": "stdout",
     "output_type": "stream",
     "text": [
      "14 5 1\n"
     ]
    },
    {
     "name": "stdout",
     "output_type": "stream",
     "text": [
      "14 5 2\n"
     ]
    },
    {
     "name": "stdout",
     "output_type": "stream",
     "text": [
      "14 5 3\n"
     ]
    },
    {
     "name": "stdout",
     "output_type": "stream",
     "text": [
      "14 5 4\n"
     ]
    },
    {
     "name": "stdout",
     "output_type": "stream",
     "text": [
      "14 6 1\n"
     ]
    },
    {
     "name": "stdout",
     "output_type": "stream",
     "text": [
      "14 6 2\n"
     ]
    },
    {
     "name": "stdout",
     "output_type": "stream",
     "text": [
      "14 6 3\n"
     ]
    },
    {
     "name": "stdout",
     "output_type": "stream",
     "text": [
      "14 6 4\n"
     ]
    },
    {
     "name": "stdout",
     "output_type": "stream",
     "text": [
      "14 7 1\n"
     ]
    },
    {
     "name": "stdout",
     "output_type": "stream",
     "text": [
      "14 7 2\n"
     ]
    },
    {
     "name": "stdout",
     "output_type": "stream",
     "text": [
      "14 7 3\n"
     ]
    },
    {
     "name": "stdout",
     "output_type": "stream",
     "text": [
      "14 7 4\n"
     ]
    },
    {
     "name": "stdout",
     "output_type": "stream",
     "text": [
      "14 8 1\n"
     ]
    },
    {
     "name": "stdout",
     "output_type": "stream",
     "text": [
      "14 8 2\n"
     ]
    },
    {
     "name": "stdout",
     "output_type": "stream",
     "text": [
      "14 8 3\n"
     ]
    },
    {
     "name": "stdout",
     "output_type": "stream",
     "text": [
      "14 8 4\n"
     ]
    },
    {
     "name": "stdout",
     "output_type": "stream",
     "text": [
      "14 9 1\n"
     ]
    },
    {
     "name": "stdout",
     "output_type": "stream",
     "text": [
      "14 9 2\n"
     ]
    },
    {
     "name": "stdout",
     "output_type": "stream",
     "text": [
      "14 9 3\n"
     ]
    },
    {
     "name": "stdout",
     "output_type": "stream",
     "text": [
      "14 9 4\n"
     ]
    },
    {
     "name": "stdout",
     "output_type": "stream",
     "text": [
      "14 10 1\n"
     ]
    },
    {
     "name": "stdout",
     "output_type": "stream",
     "text": [
      "14 10 2\n"
     ]
    },
    {
     "name": "stdout",
     "output_type": "stream",
     "text": [
      "14 10 3\n"
     ]
    },
    {
     "name": "stdout",
     "output_type": "stream",
     "text": [
      "14 10 4\n"
     ]
    },
    {
     "name": "stdout",
     "output_type": "stream",
     "text": [
      "14 11 1\n"
     ]
    },
    {
     "name": "stdout",
     "output_type": "stream",
     "text": [
      "14 11 2\n"
     ]
    },
    {
     "name": "stdout",
     "output_type": "stream",
     "text": [
      "14 11 3\n"
     ]
    },
    {
     "name": "stdout",
     "output_type": "stream",
     "text": [
      "14 11 4\n"
     ]
    },
    {
     "name": "stdout",
     "output_type": "stream",
     "text": [
      "14 12 1\n"
     ]
    },
    {
     "name": "stdout",
     "output_type": "stream",
     "text": [
      "14 12 2\n"
     ]
    },
    {
     "name": "stdout",
     "output_type": "stream",
     "text": [
      "14 12 3\n"
     ]
    },
    {
     "name": "stdout",
     "output_type": "stream",
     "text": [
      "14 12 4\n"
     ]
    },
    {
     "name": "stdout",
     "output_type": "stream",
     "text": [
      "14 13 1\n"
     ]
    },
    {
     "name": "stdout",
     "output_type": "stream",
     "text": [
      "14 13 2\n"
     ]
    },
    {
     "name": "stdout",
     "output_type": "stream",
     "text": [
      "14 13 3\n"
     ]
    },
    {
     "name": "stdout",
     "output_type": "stream",
     "text": [
      "14 13 4\n"
     ]
    },
    {
     "name": "stdout",
     "output_type": "stream",
     "text": [
      "14 14 1\n"
     ]
    },
    {
     "name": "stdout",
     "output_type": "stream",
     "text": [
      "14 14 2\n"
     ]
    },
    {
     "name": "stdout",
     "output_type": "stream",
     "text": [
      "14 14 3\n"
     ]
    },
    {
     "name": "stdout",
     "output_type": "stream",
     "text": [
      "14 14 4\n"
     ]
    },
    {
     "name": "stdout",
     "output_type": "stream",
     "text": [
      "14 15 1\n"
     ]
    },
    {
     "name": "stdout",
     "output_type": "stream",
     "text": [
      "14 15 2\n"
     ]
    },
    {
     "name": "stdout",
     "output_type": "stream",
     "text": [
      "14 15 3\n"
     ]
    },
    {
     "name": "stdout",
     "output_type": "stream",
     "text": [
      "14 15 4\n"
     ]
    },
    {
     "name": "stdout",
     "output_type": "stream",
     "text": [
      "14 16 1\n"
     ]
    },
    {
     "name": "stdout",
     "output_type": "stream",
     "text": [
      "14 16 2\n"
     ]
    },
    {
     "name": "stdout",
     "output_type": "stream",
     "text": [
      "14 16 3\n"
     ]
    },
    {
     "name": "stdout",
     "output_type": "stream",
     "text": [
      "14 16 4\n"
     ]
    },
    {
     "name": "stdout",
     "output_type": "stream",
     "text": [
      "14 17 1\n"
     ]
    },
    {
     "name": "stdout",
     "output_type": "stream",
     "text": [
      "14 17 2\n"
     ]
    },
    {
     "name": "stdout",
     "output_type": "stream",
     "text": [
      "14 17 3\n"
     ]
    },
    {
     "name": "stdout",
     "output_type": "stream",
     "text": [
      "14 17 4\n"
     ]
    },
    {
     "name": "stdout",
     "output_type": "stream",
     "text": [
      "14 18 1\n"
     ]
    },
    {
     "name": "stdout",
     "output_type": "stream",
     "text": [
      "14 18 2\n"
     ]
    },
    {
     "name": "stdout",
     "output_type": "stream",
     "text": [
      "14 18 3\n"
     ]
    },
    {
     "name": "stdout",
     "output_type": "stream",
     "text": [
      "14 18 4\n"
     ]
    },
    {
     "name": "stdout",
     "output_type": "stream",
     "text": [
      "14 19 1\n"
     ]
    },
    {
     "name": "stdout",
     "output_type": "stream",
     "text": [
      "14 19 2\n"
     ]
    },
    {
     "name": "stdout",
     "output_type": "stream",
     "text": [
      "14 19 3\n"
     ]
    },
    {
     "name": "stdout",
     "output_type": "stream",
     "text": [
      "14 19 4\n"
     ]
    },
    {
     "name": "stdout",
     "output_type": "stream",
     "text": [
      "14 20 1\n"
     ]
    },
    {
     "name": "stdout",
     "output_type": "stream",
     "text": [
      "14 20 2\n"
     ]
    },
    {
     "name": "stdout",
     "output_type": "stream",
     "text": [
      "14 20 3\n"
     ]
    },
    {
     "name": "stdout",
     "output_type": "stream",
     "text": [
      "14 20 4\n"
     ]
    },
    {
     "name": "stdout",
     "output_type": "stream",
     "text": [
      "14 21 1\n"
     ]
    },
    {
     "name": "stdout",
     "output_type": "stream",
     "text": [
      "14 21 2\n"
     ]
    },
    {
     "name": "stdout",
     "output_type": "stream",
     "text": [
      "14 21 3\n"
     ]
    },
    {
     "name": "stdout",
     "output_type": "stream",
     "text": [
      "14 21 4\n"
     ]
    },
    {
     "name": "stdout",
     "output_type": "stream",
     "text": [
      "14 22 1\n"
     ]
    },
    {
     "name": "stdout",
     "output_type": "stream",
     "text": [
      "14 22 2\n"
     ]
    },
    {
     "name": "stdout",
     "output_type": "stream",
     "text": [
      "14 22 3\n"
     ]
    },
    {
     "name": "stdout",
     "output_type": "stream",
     "text": [
      "14 22 4\n"
     ]
    },
    {
     "name": "stdout",
     "output_type": "stream",
     "text": [
      "14 23 1\n"
     ]
    },
    {
     "name": "stdout",
     "output_type": "stream",
     "text": [
      "14 23 2\n"
     ]
    },
    {
     "name": "stdout",
     "output_type": "stream",
     "text": [
      "14 23 3\n"
     ]
    },
    {
     "name": "stdout",
     "output_type": "stream",
     "text": [
      "14 23 4\n"
     ]
    },
    {
     "name": "stdout",
     "output_type": "stream",
     "text": [
      "14 24 1\n"
     ]
    },
    {
     "name": "stdout",
     "output_type": "stream",
     "text": [
      "14 24 2\n"
     ]
    },
    {
     "name": "stdout",
     "output_type": "stream",
     "text": [
      "14 24 3\n"
     ]
    },
    {
     "name": "stdout",
     "output_type": "stream",
     "text": [
      "14 24 4\n"
     ]
    },
    {
     "name": "stdout",
     "output_type": "stream",
     "text": [
      "14 25 1\n"
     ]
    },
    {
     "name": "stdout",
     "output_type": "stream",
     "text": [
      "14 25 2\n"
     ]
    },
    {
     "name": "stdout",
     "output_type": "stream",
     "text": [
      "14 25 3\n"
     ]
    },
    {
     "name": "stdout",
     "output_type": "stream",
     "text": [
      "14 25 4\n"
     ]
    },
    {
     "name": "stdout",
     "output_type": "stream",
     "text": [
      "16 1 1\n"
     ]
    },
    {
     "name": "stdout",
     "output_type": "stream",
     "text": [
      "16 1 2\n"
     ]
    },
    {
     "name": "stdout",
     "output_type": "stream",
     "text": [
      "16 1 3\n"
     ]
    },
    {
     "name": "stdout",
     "output_type": "stream",
     "text": [
      "16 1 4\n"
     ]
    },
    {
     "name": "stdout",
     "output_type": "stream",
     "text": [
      "16 2 1\n"
     ]
    },
    {
     "name": "stdout",
     "output_type": "stream",
     "text": [
      "16 2 2\n"
     ]
    },
    {
     "name": "stdout",
     "output_type": "stream",
     "text": [
      "16 2 3\n"
     ]
    },
    {
     "name": "stdout",
     "output_type": "stream",
     "text": [
      "16 2 4\n"
     ]
    },
    {
     "name": "stdout",
     "output_type": "stream",
     "text": [
      "16 3 1\n"
     ]
    },
    {
     "name": "stdout",
     "output_type": "stream",
     "text": [
      "16 3 2\n"
     ]
    },
    {
     "name": "stdout",
     "output_type": "stream",
     "text": [
      "16 3 3\n"
     ]
    },
    {
     "name": "stdout",
     "output_type": "stream",
     "text": [
      "16 3 4\n"
     ]
    },
    {
     "name": "stdout",
     "output_type": "stream",
     "text": [
      "16 4 1\n"
     ]
    },
    {
     "name": "stdout",
     "output_type": "stream",
     "text": [
      "16 4 2\n"
     ]
    },
    {
     "name": "stdout",
     "output_type": "stream",
     "text": [
      "16 4 3\n"
     ]
    },
    {
     "name": "stdout",
     "output_type": "stream",
     "text": [
      "16 4 4\n"
     ]
    },
    {
     "name": "stdout",
     "output_type": "stream",
     "text": [
      "16 5 1\n"
     ]
    },
    {
     "name": "stdout",
     "output_type": "stream",
     "text": [
      "16 5 2\n"
     ]
    },
    {
     "name": "stdout",
     "output_type": "stream",
     "text": [
      "16 5 3\n"
     ]
    },
    {
     "name": "stdout",
     "output_type": "stream",
     "text": [
      "16 5 4\n"
     ]
    },
    {
     "name": "stdout",
     "output_type": "stream",
     "text": [
      "16 6 1\n"
     ]
    },
    {
     "name": "stdout",
     "output_type": "stream",
     "text": [
      "16 6 2\n"
     ]
    },
    {
     "name": "stdout",
     "output_type": "stream",
     "text": [
      "16 6 3\n"
     ]
    },
    {
     "name": "stdout",
     "output_type": "stream",
     "text": [
      "16 6 4\n"
     ]
    },
    {
     "name": "stdout",
     "output_type": "stream",
     "text": [
      "16 7 1\n"
     ]
    },
    {
     "name": "stdout",
     "output_type": "stream",
     "text": [
      "16 7 2\n"
     ]
    },
    {
     "name": "stdout",
     "output_type": "stream",
     "text": [
      "16 7 3\n"
     ]
    },
    {
     "name": "stdout",
     "output_type": "stream",
     "text": [
      "16 7 4\n"
     ]
    },
    {
     "name": "stdout",
     "output_type": "stream",
     "text": [
      "16 8 1\n"
     ]
    },
    {
     "name": "stdout",
     "output_type": "stream",
     "text": [
      "16 8 2\n"
     ]
    },
    {
     "name": "stdout",
     "output_type": "stream",
     "text": [
      "16 8 3\n"
     ]
    },
    {
     "name": "stdout",
     "output_type": "stream",
     "text": [
      "16 8 4\n"
     ]
    },
    {
     "name": "stdout",
     "output_type": "stream",
     "text": [
      "16 9 1\n"
     ]
    },
    {
     "name": "stdout",
     "output_type": "stream",
     "text": [
      "16 9 2\n"
     ]
    },
    {
     "name": "stdout",
     "output_type": "stream",
     "text": [
      "16 9 3\n"
     ]
    },
    {
     "name": "stdout",
     "output_type": "stream",
     "text": [
      "16 9 4\n"
     ]
    },
    {
     "name": "stdout",
     "output_type": "stream",
     "text": [
      "16 10 1\n"
     ]
    },
    {
     "name": "stdout",
     "output_type": "stream",
     "text": [
      "16 10 2\n"
     ]
    },
    {
     "name": "stdout",
     "output_type": "stream",
     "text": [
      "16 10 3\n"
     ]
    },
    {
     "name": "stdout",
     "output_type": "stream",
     "text": [
      "16 10 4\n"
     ]
    },
    {
     "name": "stdout",
     "output_type": "stream",
     "text": [
      "16 11 1\n"
     ]
    },
    {
     "name": "stdout",
     "output_type": "stream",
     "text": [
      "16 11 2\n"
     ]
    },
    {
     "name": "stdout",
     "output_type": "stream",
     "text": [
      "16 11 3\n"
     ]
    },
    {
     "name": "stdout",
     "output_type": "stream",
     "text": [
      "16 11 4\n"
     ]
    },
    {
     "name": "stdout",
     "output_type": "stream",
     "text": [
      "16 12 1\n"
     ]
    },
    {
     "name": "stdout",
     "output_type": "stream",
     "text": [
      "16 12 2\n"
     ]
    },
    {
     "name": "stdout",
     "output_type": "stream",
     "text": [
      "16 12 3\n"
     ]
    },
    {
     "name": "stdout",
     "output_type": "stream",
     "text": [
      "16 12 4\n"
     ]
    },
    {
     "name": "stdout",
     "output_type": "stream",
     "text": [
      "16 13 1\n"
     ]
    },
    {
     "name": "stdout",
     "output_type": "stream",
     "text": [
      "16 13 2\n"
     ]
    },
    {
     "name": "stdout",
     "output_type": "stream",
     "text": [
      "16 13 3\n"
     ]
    },
    {
     "name": "stdout",
     "output_type": "stream",
     "text": [
      "16 13 4\n"
     ]
    },
    {
     "name": "stdout",
     "output_type": "stream",
     "text": [
      "16 14 1\n"
     ]
    },
    {
     "name": "stdout",
     "output_type": "stream",
     "text": [
      "16 14 2\n"
     ]
    },
    {
     "name": "stdout",
     "output_type": "stream",
     "text": [
      "16 14 3\n"
     ]
    },
    {
     "name": "stdout",
     "output_type": "stream",
     "text": [
      "16 14 4\n"
     ]
    },
    {
     "name": "stdout",
     "output_type": "stream",
     "text": [
      "16 15 1\n"
     ]
    },
    {
     "name": "stdout",
     "output_type": "stream",
     "text": [
      "16 15 2\n"
     ]
    },
    {
     "name": "stdout",
     "output_type": "stream",
     "text": [
      "16 15 3\n"
     ]
    },
    {
     "name": "stdout",
     "output_type": "stream",
     "text": [
      "16 15 4\n"
     ]
    },
    {
     "name": "stdout",
     "output_type": "stream",
     "text": [
      "16 16 1\n"
     ]
    },
    {
     "name": "stdout",
     "output_type": "stream",
     "text": [
      "16 16 2\n"
     ]
    },
    {
     "name": "stdout",
     "output_type": "stream",
     "text": [
      "16 16 3\n"
     ]
    },
    {
     "name": "stdout",
     "output_type": "stream",
     "text": [
      "16 16 4\n"
     ]
    },
    {
     "name": "stdout",
     "output_type": "stream",
     "text": [
      "16 17 1\n"
     ]
    },
    {
     "name": "stdout",
     "output_type": "stream",
     "text": [
      "16 17 2\n"
     ]
    },
    {
     "name": "stdout",
     "output_type": "stream",
     "text": [
      "16 17 3\n"
     ]
    },
    {
     "name": "stdout",
     "output_type": "stream",
     "text": [
      "16 17 4\n"
     ]
    },
    {
     "name": "stdout",
     "output_type": "stream",
     "text": [
      "16 18 1\n"
     ]
    },
    {
     "name": "stdout",
     "output_type": "stream",
     "text": [
      "16 18 2\n"
     ]
    },
    {
     "name": "stdout",
     "output_type": "stream",
     "text": [
      "16 18 3\n"
     ]
    },
    {
     "name": "stdout",
     "output_type": "stream",
     "text": [
      "16 18 4\n"
     ]
    },
    {
     "name": "stdout",
     "output_type": "stream",
     "text": [
      "16 19 1\n"
     ]
    },
    {
     "name": "stdout",
     "output_type": "stream",
     "text": [
      "16 19 2\n"
     ]
    },
    {
     "name": "stdout",
     "output_type": "stream",
     "text": [
      "16 19 3\n"
     ]
    },
    {
     "name": "stdout",
     "output_type": "stream",
     "text": [
      "16 19 4\n"
     ]
    },
    {
     "name": "stdout",
     "output_type": "stream",
     "text": [
      "16 20 1\n"
     ]
    },
    {
     "name": "stdout",
     "output_type": "stream",
     "text": [
      "16 20 2\n"
     ]
    },
    {
     "name": "stdout",
     "output_type": "stream",
     "text": [
      "16 20 3\n"
     ]
    },
    {
     "name": "stdout",
     "output_type": "stream",
     "text": [
      "16 20 4\n"
     ]
    },
    {
     "name": "stdout",
     "output_type": "stream",
     "text": [
      "16 21 1\n"
     ]
    },
    {
     "name": "stdout",
     "output_type": "stream",
     "text": [
      "16 21 2\n"
     ]
    },
    {
     "name": "stdout",
     "output_type": "stream",
     "text": [
      "16 21 3\n"
     ]
    },
    {
     "name": "stdout",
     "output_type": "stream",
     "text": [
      "16 21 4\n"
     ]
    },
    {
     "name": "stdout",
     "output_type": "stream",
     "text": [
      "16 22 1\n"
     ]
    },
    {
     "name": "stdout",
     "output_type": "stream",
     "text": [
      "16 22 2\n"
     ]
    },
    {
     "name": "stdout",
     "output_type": "stream",
     "text": [
      "16 22 3\n"
     ]
    },
    {
     "name": "stdout",
     "output_type": "stream",
     "text": [
      "16 22 4\n"
     ]
    },
    {
     "name": "stdout",
     "output_type": "stream",
     "text": [
      "16 23 1\n"
     ]
    },
    {
     "name": "stdout",
     "output_type": "stream",
     "text": [
      "16 23 2\n"
     ]
    },
    {
     "name": "stdout",
     "output_type": "stream",
     "text": [
      "16 23 3\n"
     ]
    },
    {
     "name": "stdout",
     "output_type": "stream",
     "text": [
      "16 23 4\n"
     ]
    },
    {
     "name": "stdout",
     "output_type": "stream",
     "text": [
      "16 24 1\n"
     ]
    },
    {
     "name": "stdout",
     "output_type": "stream",
     "text": [
      "16 24 2\n"
     ]
    },
    {
     "name": "stdout",
     "output_type": "stream",
     "text": [
      "16 24 3\n"
     ]
    },
    {
     "name": "stdout",
     "output_type": "stream",
     "text": [
      "16 24 4\n"
     ]
    },
    {
     "name": "stdout",
     "output_type": "stream",
     "text": [
      "16 25 1\n"
     ]
    },
    {
     "name": "stdout",
     "output_type": "stream",
     "text": [
      "16 25 2\n"
     ]
    },
    {
     "name": "stdout",
     "output_type": "stream",
     "text": [
      "16 25 3\n"
     ]
    },
    {
     "name": "stdout",
     "output_type": "stream",
     "text": [
      "16 25 4\n"
     ]
    },
    {
     "name": "stdout",
     "output_type": "stream",
     "text": [
      "18 1 1\n"
     ]
    },
    {
     "name": "stdout",
     "output_type": "stream",
     "text": [
      "18 1 2\n"
     ]
    },
    {
     "name": "stdout",
     "output_type": "stream",
     "text": [
      "18 1 3\n"
     ]
    },
    {
     "name": "stdout",
     "output_type": "stream",
     "text": [
      "18 1 4\n"
     ]
    },
    {
     "name": "stdout",
     "output_type": "stream",
     "text": [
      "18 2 1\n"
     ]
    },
    {
     "name": "stdout",
     "output_type": "stream",
     "text": [
      "18 2 2\n"
     ]
    },
    {
     "name": "stdout",
     "output_type": "stream",
     "text": [
      "18 2 3\n"
     ]
    },
    {
     "name": "stdout",
     "output_type": "stream",
     "text": [
      "18 2 4\n"
     ]
    },
    {
     "name": "stdout",
     "output_type": "stream",
     "text": [
      "18 3 1\n"
     ]
    },
    {
     "name": "stdout",
     "output_type": "stream",
     "text": [
      "18 3 2\n"
     ]
    },
    {
     "name": "stdout",
     "output_type": "stream",
     "text": [
      "18 3 3\n"
     ]
    },
    {
     "name": "stdout",
     "output_type": "stream",
     "text": [
      "18 3 4\n"
     ]
    },
    {
     "name": "stdout",
     "output_type": "stream",
     "text": [
      "18 4 1\n"
     ]
    },
    {
     "name": "stdout",
     "output_type": "stream",
     "text": [
      "18 4 2\n"
     ]
    },
    {
     "name": "stdout",
     "output_type": "stream",
     "text": [
      "18 4 3\n"
     ]
    },
    {
     "name": "stdout",
     "output_type": "stream",
     "text": [
      "18 4 4\n"
     ]
    },
    {
     "name": "stdout",
     "output_type": "stream",
     "text": [
      "18 5 1\n"
     ]
    },
    {
     "name": "stdout",
     "output_type": "stream",
     "text": [
      "18 5 2\n"
     ]
    },
    {
     "name": "stdout",
     "output_type": "stream",
     "text": [
      "18 5 3\n"
     ]
    },
    {
     "name": "stdout",
     "output_type": "stream",
     "text": [
      "18 5 4\n"
     ]
    },
    {
     "name": "stdout",
     "output_type": "stream",
     "text": [
      "18 6 1\n"
     ]
    },
    {
     "name": "stdout",
     "output_type": "stream",
     "text": [
      "18 6 2\n"
     ]
    },
    {
     "name": "stdout",
     "output_type": "stream",
     "text": [
      "18 6 3\n"
     ]
    },
    {
     "name": "stdout",
     "output_type": "stream",
     "text": [
      "18 6 4\n"
     ]
    },
    {
     "name": "stdout",
     "output_type": "stream",
     "text": [
      "18 7 1\n"
     ]
    },
    {
     "name": "stdout",
     "output_type": "stream",
     "text": [
      "18 7 2\n"
     ]
    },
    {
     "name": "stdout",
     "output_type": "stream",
     "text": [
      "18 7 3\n"
     ]
    },
    {
     "name": "stdout",
     "output_type": "stream",
     "text": [
      "18 7 4\n"
     ]
    },
    {
     "name": "stdout",
     "output_type": "stream",
     "text": [
      "18 8 1\n"
     ]
    },
    {
     "name": "stdout",
     "output_type": "stream",
     "text": [
      "18 8 2\n"
     ]
    },
    {
     "name": "stdout",
     "output_type": "stream",
     "text": [
      "18 8 3\n"
     ]
    },
    {
     "name": "stdout",
     "output_type": "stream",
     "text": [
      "18 8 4\n"
     ]
    },
    {
     "name": "stdout",
     "output_type": "stream",
     "text": [
      "18 9 1\n"
     ]
    },
    {
     "name": "stdout",
     "output_type": "stream",
     "text": [
      "18 9 2\n"
     ]
    },
    {
     "name": "stdout",
     "output_type": "stream",
     "text": [
      "18 9 3\n"
     ]
    },
    {
     "name": "stdout",
     "output_type": "stream",
     "text": [
      "18 9 4\n"
     ]
    },
    {
     "name": "stdout",
     "output_type": "stream",
     "text": [
      "18 10 1\n"
     ]
    },
    {
     "name": "stdout",
     "output_type": "stream",
     "text": [
      "18 10 2\n"
     ]
    },
    {
     "name": "stdout",
     "output_type": "stream",
     "text": [
      "18 10 3\n"
     ]
    },
    {
     "name": "stdout",
     "output_type": "stream",
     "text": [
      "18 10 4\n"
     ]
    },
    {
     "name": "stdout",
     "output_type": "stream",
     "text": [
      "18 11 1\n"
     ]
    },
    {
     "name": "stdout",
     "output_type": "stream",
     "text": [
      "18 11 2\n"
     ]
    },
    {
     "name": "stdout",
     "output_type": "stream",
     "text": [
      "18 11 3\n"
     ]
    },
    {
     "name": "stdout",
     "output_type": "stream",
     "text": [
      "18 11 4\n"
     ]
    },
    {
     "name": "stdout",
     "output_type": "stream",
     "text": [
      "18 12 1\n"
     ]
    },
    {
     "name": "stdout",
     "output_type": "stream",
     "text": [
      "18 12 2\n"
     ]
    },
    {
     "name": "stdout",
     "output_type": "stream",
     "text": [
      "18 12 3\n"
     ]
    },
    {
     "name": "stdout",
     "output_type": "stream",
     "text": [
      "18 12 4\n"
     ]
    },
    {
     "name": "stdout",
     "output_type": "stream",
     "text": [
      "18 13 1\n"
     ]
    },
    {
     "name": "stdout",
     "output_type": "stream",
     "text": [
      "18 13 2\n"
     ]
    },
    {
     "name": "stdout",
     "output_type": "stream",
     "text": [
      "18 13 3\n"
     ]
    },
    {
     "name": "stdout",
     "output_type": "stream",
     "text": [
      "18 13 4\n"
     ]
    },
    {
     "name": "stdout",
     "output_type": "stream",
     "text": [
      "18 14 1\n"
     ]
    },
    {
     "name": "stdout",
     "output_type": "stream",
     "text": [
      "18 14 2\n"
     ]
    },
    {
     "name": "stdout",
     "output_type": "stream",
     "text": [
      "18 14 3\n"
     ]
    },
    {
     "name": "stdout",
     "output_type": "stream",
     "text": [
      "18 14 4\n"
     ]
    },
    {
     "name": "stdout",
     "output_type": "stream",
     "text": [
      "18 15 1\n"
     ]
    },
    {
     "name": "stdout",
     "output_type": "stream",
     "text": [
      "18 15 2\n"
     ]
    },
    {
     "name": "stdout",
     "output_type": "stream",
     "text": [
      "18 15 3\n"
     ]
    },
    {
     "name": "stdout",
     "output_type": "stream",
     "text": [
      "18 15 4\n"
     ]
    },
    {
     "name": "stdout",
     "output_type": "stream",
     "text": [
      "18 16 1\n"
     ]
    },
    {
     "name": "stdout",
     "output_type": "stream",
     "text": [
      "18 16 2\n"
     ]
    },
    {
     "name": "stdout",
     "output_type": "stream",
     "text": [
      "18 16 3\n"
     ]
    },
    {
     "name": "stdout",
     "output_type": "stream",
     "text": [
      "18 16 4\n"
     ]
    },
    {
     "name": "stdout",
     "output_type": "stream",
     "text": [
      "18 17 1\n"
     ]
    },
    {
     "name": "stdout",
     "output_type": "stream",
     "text": [
      "18 17 2\n"
     ]
    },
    {
     "name": "stdout",
     "output_type": "stream",
     "text": [
      "18 17 3\n"
     ]
    },
    {
     "name": "stdout",
     "output_type": "stream",
     "text": [
      "18 17 4\n"
     ]
    },
    {
     "name": "stdout",
     "output_type": "stream",
     "text": [
      "18 18 1\n"
     ]
    },
    {
     "name": "stdout",
     "output_type": "stream",
     "text": [
      "18 18 2\n"
     ]
    },
    {
     "name": "stdout",
     "output_type": "stream",
     "text": [
      "18 18 3\n"
     ]
    },
    {
     "name": "stdout",
     "output_type": "stream",
     "text": [
      "18 18 4\n"
     ]
    },
    {
     "name": "stdout",
     "output_type": "stream",
     "text": [
      "18 19 1\n"
     ]
    },
    {
     "name": "stdout",
     "output_type": "stream",
     "text": [
      "18 19 2\n"
     ]
    },
    {
     "name": "stdout",
     "output_type": "stream",
     "text": [
      "18 19 3\n"
     ]
    },
    {
     "name": "stdout",
     "output_type": "stream",
     "text": [
      "18 19 4\n"
     ]
    },
    {
     "name": "stdout",
     "output_type": "stream",
     "text": [
      "18 20 1\n"
     ]
    },
    {
     "name": "stdout",
     "output_type": "stream",
     "text": [
      "18 20 2\n"
     ]
    },
    {
     "name": "stdout",
     "output_type": "stream",
     "text": [
      "18 20 3\n"
     ]
    },
    {
     "name": "stdout",
     "output_type": "stream",
     "text": [
      "18 20 4\n"
     ]
    },
    {
     "name": "stdout",
     "output_type": "stream",
     "text": [
      "18 21 1\n"
     ]
    },
    {
     "name": "stdout",
     "output_type": "stream",
     "text": [
      "18 21 2\n"
     ]
    },
    {
     "name": "stdout",
     "output_type": "stream",
     "text": [
      "18 21 3\n"
     ]
    },
    {
     "name": "stdout",
     "output_type": "stream",
     "text": [
      "18 21 4\n"
     ]
    },
    {
     "name": "stdout",
     "output_type": "stream",
     "text": [
      "18 22 1\n"
     ]
    },
    {
     "name": "stdout",
     "output_type": "stream",
     "text": [
      "18 22 2\n"
     ]
    },
    {
     "name": "stdout",
     "output_type": "stream",
     "text": [
      "18 22 3\n"
     ]
    },
    {
     "name": "stdout",
     "output_type": "stream",
     "text": [
      "18 22 4\n"
     ]
    },
    {
     "name": "stdout",
     "output_type": "stream",
     "text": [
      "18 23 1\n"
     ]
    },
    {
     "name": "stdout",
     "output_type": "stream",
     "text": [
      "18 23 2\n"
     ]
    },
    {
     "name": "stdout",
     "output_type": "stream",
     "text": [
      "18 23 3\n"
     ]
    },
    {
     "name": "stdout",
     "output_type": "stream",
     "text": [
      "18 23 4\n"
     ]
    },
    {
     "name": "stdout",
     "output_type": "stream",
     "text": [
      "18 24 1\n"
     ]
    },
    {
     "name": "stdout",
     "output_type": "stream",
     "text": [
      "18 24 2\n"
     ]
    },
    {
     "name": "stdout",
     "output_type": "stream",
     "text": [
      "18 24 3\n"
     ]
    },
    {
     "name": "stdout",
     "output_type": "stream",
     "text": [
      "18 24 4\n"
     ]
    },
    {
     "name": "stdout",
     "output_type": "stream",
     "text": [
      "18 25 1\n"
     ]
    },
    {
     "name": "stdout",
     "output_type": "stream",
     "text": [
      "18 25 2\n"
     ]
    },
    {
     "name": "stdout",
     "output_type": "stream",
     "text": [
      "18 25 3\n"
     ]
    },
    {
     "name": "stdout",
     "output_type": "stream",
     "text": [
      "18 25 4\n"
     ]
    },
    {
     "name": "stdout",
     "output_type": "stream",
     "text": [
      "done\n[[ 0.931    0.94975  0.9375   0.96225  0.955    0.96525  0.96175  0.96725\n   0.96725  0.968    0.9675   0.971    0.96775  0.97075  0.967    0.9745\n   0.981    0.97     0.9845   0.97525  0.97475  0.9725   0.9805   0.9815\n   0.98375]]\n[[ 1.86575  1.926    1.9205   1.94425  1.941    1.95375  1.94775  1.95275\n   1.9535   1.95525  1.9545   1.957    1.955    1.95775  1.953    1.9615\n   1.969    1.9585   1.97275  1.9625   1.963    1.96225  1.9685   1.9675\n   1.97325]]\n[[ 2.757    2.8565   2.86675  2.86825  2.8885   2.90075  2.894    2.90225\n   2.9045   2.8985   2.90625  2.90775  2.91     2.90325  2.9085   2.916\n   2.9295   2.91825  2.9395   2.92225  2.92825  2.929    2.93475  2.93425\n   2.93675]]\n[[ 3.64125  3.74425  3.7635   3.79525  3.804    3.8225   3.80625  3.8305\n   3.85225  3.8375   3.84125  3.839    3.857    3.8365   3.8685   3.87275\n   3.87425  3.87375  3.8965   3.87325  3.87225  3.8915   3.89375  3.89975\n   3.89825]]\n        n12      n14      n16      n18\n0   0.93100  0.93475  0.89125  0.88425\n1   0.94975  0.97625  0.93050  0.88775\n2   0.93750  0.98300  0.94625  0.89675\n3   0.96225  0.98200  0.92400  0.92700\n4   0.95500  0.98600  0.94750  0.91550\n5   0.96525  0.98850  0.94700  0.92175\n6   0.96175  0.98600  0.94625  0.91225\n7   0.96725  0.98550  0.94950  0.92825\n8   0.96725  0.98625  0.95100  0.94775\n9   0.96800  0.98725  0.94325  0.93900\n10  0.96750  0.98700  0.95175  0.93500\n11  0.97100  0.98600  0.95075  0.93125\n12  0.96775  0.98725  0.95500  0.94700\n13  0.97075  0.98700  0.94550  0.93325\n14  0.96700  0.98600  0.95550  0.96000\n15  0.97450  0.98700  0.95450  0.95675\n16  0.98100  0.98800  0.96050  0.94475\n17  0.97000  0.98850  0.95975  0.95550\n18  0.98450  0.98825  0.96675  0.95700\n19  0.97525  0.98725  0.95975  0.95100\n20  0.97475  0.98825  0.96525  0.94400\n21  0.97250  0.98975  0.96675  0.96250\n22  0.98050  0.98800  0.96625  0.95900\n23  0.98150  0.98600  0.96675  0.96550\n24  0.98375  0.98950  0.96350  0.96150\n0     0.910313\n1     0.936063\n2     0.940875\n3     0.948812\n4     0.951000\n5     0.955625\n6     0.951563\n7     0.957625\n8     0.963063\n9     0.959375\n10    0.960313\n11    0.959750\n12    0.964250\n13    0.959125\n14    0.967125\n15    0.968187\n16    0.968562\n17    0.968438\n18    0.974125\n19    0.968313\n20    0.968063\n21    0.972875\n22    0.973437\n23    0.974938\n24    0.974562\nName: average, dtype: float64\n[0.9103125000000001, 0.9360625, 0.940875, 0.9488125, 0.9509999999999998, 0.955625, 0.9515625000000001, 0.957625, 0.9630625, 0.959375, 0.9603125, 0.95975, 0.96425, 0.959125, 0.967125, 0.9681875, 0.9685625, 0.9684375000000001, 0.9741249999999999, 0.9683125, 0.9680625, 0.972875, 0.9734375, 0.9749375, 0.9745625]\n[0.0333125, 0.0543125, 0.0745625, 0.09943749999999998, 0.1196875, 0.145125, 0.16975, 0.19425, 0.2075, 0.229875, 0.25012500000000004, 0.2651875, 0.3104375, 0.32399999999999995, 0.34668750000000004, 0.37068749999999995, 0.4008125, 0.4045, 0.435875, 0.46787500000000004, 0.47731250000000003, 0.5091875, 0.542, 0.5646249999999999, 0.5683125]\n"
     ]
    },
    {
     "data": {
      "image/png": "[encoded data removed]",
      "text/plain": [
       "<matplotlib.figure.Figure at 0x7fbe9d2e4eb8>"
      ]
     },
     "metadata": {},
     "output_type": "display_data"
    }
   ],
   "source": [
    "# A6\n",
    "\n",
    "# 1, find cyclenum\n",
    "import sys\n",
    "sys.path.append(\"/home/cheng/PycharmProjects/TSP/src/\")\n",
    "sys.path.append(\"/home/cheng/PycharmProjects/TSP/src/TravelingSalesmanProblem/\")\n",
    "sys.path.append(\"/home/cheng/PycharmProjects/TSP/\")\n",
    "import time\n",
    "import pandas as pd\n",
    "\n",
    "project_path = \"/home/cheng/PycharmProjects/TSP/\"\n",
    "\n",
    "from TravelingSalesmanProblem.AntColonyAlgorithmForMTSP import *\n",
    "\n",
    "best_interval = [(4,7),(6,7),(6,9),(8,9)]\n",
    "groupnum = [12, 14,16,18]\n",
    "antnum = 7\n",
    "cyclenum = 25\n",
    "for n in range(4): # n\n",
    "    col = 4\n",
    "    valuelst = [[] for i in range(col)]\n",
    "    timelst = [[] for i in range(col)]\n",
    "    interval = [] \n",
    "    row = 5\n",
    "    k_value = [ i for i in range(1,cyclenum+1)]\n",
    "    m_value = [i for i in range(1, col + 1)]\n",
    "    for k in k_value: # antnum\n",
    "        lw = best_interval[n][0]\n",
    "        hg = best_interval[n][1]\n",
    "        interval.extend( [k for i in range(row)]) # 5 times for each problem\n",
    "        for m in m_value:  # the mth datasets of n\n",
    "            print( groupnum[n], k,m )\n",
    "            lst = []\n",
    "            for i in range( 10 ):\n",
    "                a = time.time()\n",
    "                mtsp = AntColonyAlgorithmForMTSP(iter_max= k,alpha=1,beta=5, vol=0.2, num= 2, \n",
    "                                    K = lw, L = hg, m = antnum, inittrail=1,\n",
    "                    datasets= \"/home/cheng/PycharmProjects/TSP/datasets/dist%d_%d\" \n",
    "                              %(groupnum[n],m))\n",
    "                mtsp.excution()\n",
    "                b = time.time()\n",
    "                # print( \"time in second\", b - a )\n",
    "                lst.append( [ mtsp.return_best()[0], b-a])\n",
    "                # mtsp.print_information()\n",
    "                # mtsp.plot()\n",
    "            def custom_key(x ):\n",
    "                return x[0],x[1]\n",
    "            lst = sorted( lst, key= custom_key )\n",
    "            # print( lst )\n",
    "            \n",
    "            valuelst[m-1].extend( [lst[i][0] for i in range( row )] )\n",
    "            timelst[m-1].extend( [lst[i][1] for i in range( row )] )\n",
    "            # print(\"=== values\", valuelst)\n",
    "    data = []\n",
    "    data.append(interval)\n",
    "    data.extend(valuelst)\n",
    "    data.extend(timelst)\n",
    "    # print( data )\n",
    "    \n",
    "    label =[]\n",
    "    label.extend([\"cyclenum\"])\n",
    "    label.extend([\"p%d_value\"%i for i in range(1,col+1)])\n",
    "    label.extend([\"p%d_time\"%i  for i in range(1,col+1)])\n",
    "    \n",
    "    path = \"/home/cheng/桌面/data/A6_n%d.csv\" % groupnum[n]\n",
    "    # pd.read_csv(path)\n",
    "    dataframe = pd.DataFrame()\n",
    "    # print( label )\n",
    "    # print( data )\n",
    "    for i in range( len( label)):\n",
    "        dataframe[ label[i] ] = data[i]\n",
    "    dataframe.to_csv(path)\n",
    "\n",
    "\n",
    "# 2, mean result for every n\n",
    "import pandas as pd\n",
    "optional = pd.read_csv(\"/home/cheng/桌面/data/A1_optional.csv\")\n",
    "n12 = pd.read_csv(\"/home/cheng/桌面/data/A6_n12.csv\")\n",
    "n14 = pd.read_csv(\"/home/cheng/桌面/data/A6_n14.csv\")\n",
    "n16 = pd.read_csv(\"/home/cheng/桌面/data/A6_n16.csv\")\n",
    "n18 = pd.read_csv(\"/home/cheng/桌面/data/A6_n18.csv\")\n",
    "\n",
    "ngroup =[]\n",
    "ngroup.extend([n12,n14,n16,n18])\n",
    "group = [12,14,16,18]\n",
    "inittrailnum = cyclenum\n",
    "for k in range(0,4): # group n={12,14,16,18]\n",
    "    tmp = []\n",
    "    for i in [start*5 for start in range( inittrailnum )]: # interval starts at {0,5,10}\n",
    "        inter = ngroup[k].iloc[i:i+5,2:6]\n",
    "        proportion = ( optional.iloc[k,1:5] /inter).mean( axis = 0 ).values\n",
    "        timevalue = (ngroup[k].iloc[i:i+5, 6:10]).mean(axis= 0).values\n",
    "        tmp_lst = proportion.tolist()\n",
    "        tmp_lst.extend( timevalue.tolist() )\n",
    "        tmp.append(tmp_lst)\n",
    "    tmp_ = np.array( tmp )\n",
    "    tmp_ = np.around( tmp_, decimals=3)\n",
    "    df = pd.DataFrame( data=tmp_, columns=[\"p1_value\",\"p2_value\",\"p3_value\",\"p4_value\",\n",
    "                                           \"p1_time\",\"p2_tim\",\"p3_time\",\"p4_time\"])\n",
    "    df['cyclenum']=[ngroup[k].iloc[x,1] for x in [start*5 for start in range(inittrailnum)] ]\n",
    "    df.to_csv(\"/home/cheng/桌面/data/A6_n%d_result.csv\" % group[k])\n",
    "print(\"done\")\n",
    "\n",
    "# 3, average proportion and time\n",
    "groupn = [12,14,16,18]\n",
    "mp = []\n",
    "for i in groupn:\n",
    "    tmp = pd.read_csv('/home/cheng/桌面/data/A6_n%d_result.csv' % i)\n",
    "    mp.append( tmp )\n",
    "    \n",
    "bottom = np.zeros((1,inittrailnum))\n",
    "df = pd.DataFrame()\n",
    "groupn = [12,14,16,18]\n",
    "inittrail = [i+1 for i in range(inittrailnum)]\n",
    "for i in range( len( groupn ) ):\n",
    "    df['n%d'% groupn[i] ] = mp[i].iloc[:,1:5].mean( axis= 1).values\n",
    "    bottom = bottom + mp[i].iloc[:,1:5].mean( axis= 1).values\n",
    "    print( bottom)\n",
    "print( df )\n",
    "df['average'] = df.mean(axis = 1).values\n",
    "print(df['average'])\n",
    "df['cyclenum']= inittrail\n",
    "df.to_csv(\"/home/cheng/桌面/data/A6_propotion_result.csv\")\n",
    "proportionA4 = bottom/len( groupn)\n",
    "\n",
    "bottom = np.zeros((1,inittrailnum))\n",
    "df = pd.DataFrame()\n",
    "for i in range(len( groupn )):\n",
    "    df['n%d'% groupn[i] ] = mp[i].iloc[:,5:9].mean( axis= 1).values\n",
    "    bottom = bottom + mp[i].iloc[:,5:9].mean( axis= 1).values\n",
    "df['average'] = df.mean(axis = 1).values\n",
    "df['cyclenum']= inittrail\n",
    "df.to_csv(\"/home/cheng/桌面/data/A6_time_result.csv\")\n",
    "timeA4 = bottom /len( groupn )\n",
    "\n",
    "# plot trend of time and proportion\n",
    "import matplotlib.pyplot as plt\n",
    "pro = proportionA4[0].tolist()\n",
    "tim = timeA4[0].tolist()\n",
    "print( pro)\n",
    "print( tim)\n",
    "\n",
    "index = [i for i in range( 1, len(pro) +1 )]\n",
    "# plt.figure( figsize=(10,10))\n",
    "plt.plot(index, pro, 'o-', label=\"Propotion\",  linewidth = 1)\n",
    "plt.plot(index, tim, \"*-\", label=\"Time\", linewidth=1)\n",
    "plt.legend(loc=\"lower right\")\n",
    "plt.savefig(\"/home/cheng/桌面/data/A6_result.jpg\")\n",
    "plt.show()\n",
    "\n"
   ]
  },
  {
   "cell_type": "code",
   "execution_count": 8,
   "metadata": {
    "collapsed": false
   },
   "outputs": [
    {
     "name": "stdout",
     "output_type": "stream",
     "text": [
      "18 18 1\n"
     ]
    },
    {
     "name": "stdout",
     "output_type": "stream",
     "text": [
      "18 18 2\n"
     ]
    },
    {
     "name": "stdout",
     "output_type": "stream",
     "text": [
      "18 18 3\n"
     ]
    },
    {
     "name": "stdout",
     "output_type": "stream",
     "text": [
      "18 18 4\n"
     ]
    },
    {
     "name": "stdout",
     "output_type": "stream",
     "text": [
      "done\n"
     ]
    }
   ],
   "source": [
    "# A7 comparision to Lingo 17\n",
    "\n",
    "# 1\n",
    "import sys\n",
    "sys.path.append(\"/home/cheng/PycharmProjects/TSP/src/\")\n",
    "sys.path.append(\"/home/cheng/PycharmProjects/TSP/src/TravelingSalesmanProblem/\")\n",
    "sys.path.append(\"/home/cheng/PycharmProjects/TSP/\")\n",
    "import time\n",
    "import pandas as pd\n",
    "\n",
    "project_path = \"/home/cheng/PycharmProjects/TSP/\"\n",
    "\n",
    "from TravelingSalesmanProblem.AntColonyAlgorithmForMTSP import *\n",
    "\n",
    "best_interval = [(4,7),(6,7),(6,9),(8,9)]\n",
    "groupnum = [12, 14,16,18]\n",
    "antnum = 7\n",
    "cyclenum = 18\n",
    "# for n in range(4): # n\n",
    "for n in [3]: # n\n",
    "    col = 4\n",
    "    valuelst = [[] for i in range(col)]\n",
    "    timelst = [[] for i in range(col)]\n",
    "    routelst=[ [] for i in range(col)]\n",
    "    interval = [] \n",
    "    row = 5\n",
    "    k_value = [ cyclenum ]\n",
    "    m_value = [i for i in range(1, col + 1)]\n",
    "    for k in k_value: # antnum\n",
    "        lw = best_interval[n][0]\n",
    "        hg = best_interval[n][1]\n",
    "        interval.extend( [k for i in range(row)]) # 5 times for each problem\n",
    "        for m in m_value:  # the mth datasets of n\n",
    "            print( groupnum[n], k,m )\n",
    "            lst = []\n",
    "            for i in range( 100 ):\n",
    "                a = time.time()\n",
    "                mtsp = AntColonyAlgorithmForMTSP(iter_max= k,alpha=1,beta=5, vol=0.2, num= 2, \n",
    "                                    K = lw, L = hg, m = antnum, inittrail=1,\n",
    "                    datasets= \"/home/cheng/PycharmProjects/TSP/datasets/dist%d_%d\" \n",
    "                              %(groupnum[n],m))\n",
    "                mtsp.excution()\n",
    "                b = time.time()\n",
    "                # print( \"time in second\", b - a )\n",
    "                # print(\"mtsp=====best==route\")\n",
    "                # print(mtsp.return_best_route())\n",
    "                lst.append( [ mtsp.return_best()[0], b-a, \n",
    "                              mtsp.return_best_route().tolist()] )\n",
    "                # mtsp.print_information()\n",
    "                # mtsp.plot()\n",
    "            def custom_key(x ):\n",
    "                return x[0],x[1]\n",
    "            # print(lst)\n",
    "            lst = sorted( lst, key= custom_key )\n",
    "            # print( lst )\n",
    "            \n",
    "            valuelst[m-1].extend( [lst[i][0] for i in range( row )] )\n",
    "            timelst[m-1].extend( [lst[i][1] for i in range( row )] )\n",
    "            routelst[m-1].extend( [lst[i][2] for i in range( row)])\n",
    "            # print(\"show========routelst\")\n",
    "            # print( routelst )\n",
    "            # print(\"=== values\", valuelst)\n",
    "    data = []\n",
    "    data.append(interval)\n",
    "    data.extend(valuelst)\n",
    "    data.extend(timelst)\n",
    "    data.extend(routelst)\n",
    "    # print( data )\n",
    "    \n",
    "    label =[]\n",
    "    label.extend([\"cyclenum\"])\n",
    "    label.extend([\"p%d_value\"%i for i in range(1,col+1)])\n",
    "    label.extend([\"p%d_time\"%i  for i in range(1,col+1)])\n",
    "    label.extend([\"p%d_route\"%i  for i in range(1,col+1)])\n",
    "    \n",
    "    path = \"/home/cheng/桌面/data/A7_n%d.csv\" % groupnum[n]\n",
    "    # pd.read_csv(path)\n",
    "    dataframe = pd.DataFrame()\n",
    "    # print( label )\n",
    "    # print( data )\n",
    "    for i in range( len( label)):\n",
    "        dataframe[ label[i] ] = data[i]\n",
    "    dataframe.to_csv(path)\n",
    "\n",
    "# 2, mean result for every n\n",
    "import pandas as pd\n",
    "optional = pd.read_csv(\"/home/cheng/桌面/data/A1_optional.csv\")\n",
    "n12 = pd.read_csv(\"/home/cheng/桌面/data/A7_n12.csv\")\n",
    "n14 = pd.read_csv(\"/home/cheng/桌面/data/A7_n14.csv\")\n",
    "n16 = pd.read_csv(\"/home/cheng/桌面/data/A7_n16.csv\")\n",
    "n18 = pd.read_csv(\"/home/cheng/桌面/data/A7_n18.csv\")\n",
    "\n",
    "ngroup =[]\n",
    "ngroup.extend([n12,n14,n16,n18])\n",
    "group = [12,14,16,18]\n",
    "inittrailnum = cyclenum\n",
    "for k in range(0,4): # group n={12,14,16,18]\n",
    "    tmp = []\n",
    "    for i in [0]: # interval starts at {0,5,10}\n",
    "        inter = ngroup[k].iloc[i,2:6]\n",
    "        proportion = ( optional.iloc[k,1:5] /inter)\n",
    "        timevalue = (ngroup[k].iloc[i, 6:10])\n",
    "        routevalue = (ngroup[k].iloc[i,10:14])\n",
    "        tmp_lst = proportion.tolist()\n",
    "        tmp_lst.extend( timevalue.tolist() )\n",
    "        tmp_lst.extend( routevalue.tolist() )\n",
    "        tmp.append(tmp_lst)\n",
    "        # print( tmp )\n",
    "    # print( tmp )\n",
    "    tmp_ = np.array( tmp )\n",
    "    # tmp_ = np.around( tmp_, decimals=3)\n",
    "    df = pd.DataFrame( data=tmp_, columns=[\"p1_value\",\"p2_value\",\"p3_value\",\"p4_value\",\n",
    "                                           \"p1_time\",\"p2_tim\",\"p3_time\",\"p4_time\",\n",
    "                                           \"p1_route\",\"p2_route\",\"p3_route\",\"p4_route\"])\n",
    "    df['cyclenum']=[ngroup[k].iloc[x,1] for x in [0] ]\n",
    "    df.to_csv(\"/home/cheng/桌面/data/A7_n%d_result.csv\" % group[k])\n",
    "print(\"done\")\n"
   ]
  },
  {
   "cell_type": "code",
   "execution_count": 3,
   "metadata": {},
   "outputs": [
    {
     "name": "stdout",
     "output_type": "stream",
     "text": [
      "[0, 12, 17, 14, 9, 2, 1, 0, 5, 11, 10, 8, 6, 7, 13, 3, 15, 4, 16]\n"
     ]
    },
    {
     "name": "stdout",
     "output_type": "stream",
     "text": [
      "<class 'numpy.ndarray'>\n"
     ]
    },
    {
     "data": {
      "image/png": "[encoded data removed]",
      "text/plain": [
       "<matplotlib.figure.Figure at 0x7faeecd107f0>"
      ]
     },
     "metadata": {},
     "output_type": "display_data"
    },
    {
     "name": "stdout",
     "output_type": "stream",
     "text": [
      "[163 163]\n"
     ]
    }
   ],
   "source": [
    "# Plot route of the optimal solution\n",
    "import pandas  as pd\n",
    "seq = 18\n",
    "dataset = 4\n",
    "length = 2\n",
    "mp = []\n",
    "for i in range( length ):\n",
    "    tmp = pd.read_excel('/home/cheng/桌面/dist.xlsx','dist%d_%d_%d' % (seq, dataset, i+1)).values\n",
    "    mp.append( tmp )\n",
    "\n",
    "route = []\n",
    "for k in range( length ):\n",
    "    tmp = [0]\n",
    "    i = mp[k][0].tolist().index(1) \n",
    "    while i != 0:\n",
    "        tmp.append( int(i) )\n",
    "        i = mp[k][i].tolist().index(1)\n",
    "    route.append( tmp )\n",
    "\n",
    "result = []\n",
    "for i in route:\n",
    "    result.extend( i )\n",
    "print( result )\n",
    "\n",
    "# solution = [0, 7, 6, 5, 11, 3, 0, 10, 4, 9, 8, 1, 2]\n",
    "# result = [0, 7, 6, 5, 3, 11, 0, 10, 4, 9, 8, 1, 2] \n",
    "\n",
    "# plot result \n",
    "import sys\n",
    "sys.path.append(\"/home/cheng/PycharmProjects/TSP/src/\")\n",
    "sys.path.append(\"/home/cheng/PycharmProjects/TSP/src/TravelingSalesmanProblem/\")\n",
    "sys.path.append(\"/home/cheng/PycharmProjects/TSP/\")\n",
    "\n",
    "project_path = \"/home/cheng/PycharmProjects/TSP/\"\n",
    "\n",
    "from TravelingSalesmanProblem.AntColonyAlgorithmForMTSP import *\n",
    "\n",
    "mtsp = AntColonyAlgorithmForMTSP(iter_max= 20, num= length, K = 3, L = 7,\n",
    "                datasets= \"/home/cheng/PycharmProjects/TSP/datasets/dist%d_%d\" % (seq, dataset) )\n",
    "import numpy as np\n",
    "result = np.array( result )\n",
    "mtsp.plot_route( result )\n",
    "mtsp.print_length(result)"
   ]
  },
  {
   "cell_type": "code",
   "execution_count": 1,
   "metadata": {},
   "outputs": [
    {
     "name": "stdout",
     "output_type": "stream",
     "text": [
      "=====\n<class 'numpy.ndarray'>\n"
     ]
    },
    {
     "data": {
      "image/png": "[encoded data removed]",
      "text/plain": [
       "<matplotlib.figure.Figure at 0x7fad38ea8f60>"
      ]
     },
     "metadata": {},
     "output_type": "display_data"
    }
   ],
   "source": [
    "# on my algorithm\n",
    "p1_route=[0.0, 7.0, 6.0, 5.0, 13.0, 17.0, 12.0, 3.0, 16.0, 11.0, 0.0, \n",
    "          10.0, 4.0, 14.0, 9.0, 8.0, 15.0, 1.0, 2.0]\n",
    "p2_route=[0.0, 15.0, 16.0, 6.0, 17.0, 10.0, 5.0, 11.0, 9.0, 4.0, 0.0, \n",
    "          14.0, 12.0, 13.0, 8.0, 1.0, 2.0, 7.0, 3.0]\n",
    "p3_route=[0.0, 1.0, 10.0, 5.0, 3.0, 12.0, 4.0, 17.0, 13.0, 16.0, 0.0, \n",
    "          2.0, 8.0, 7.0, 6.0, 9.0, 14.0, 11.0, 15.0]\n",
    "p4_route=[0.0, 16.0, 4.0, 12.0, 17.0, 14.0, 9.0, 2.0, 1.0, 0.0, 15.0, \n",
    "          13.0, 7.0, 6.0, 8.0, 10.0, 3.0, 11.0, 5.0]\n",
    "\n",
    "seq = 18\n",
    "dataset = 1\n",
    "result = [int(i) for i in p3_route]\n",
    "\n",
    "# plot result \n",
    "import sys\n",
    "sys.path.append(\"/home/cheng/PycharmProjects/TSP/src/\")\n",
    "sys.path.append(\"/home/cheng/PycharmProjects/TSP/src/TravelingSalesmanProblem/\")\n",
    "sys.path.append(\"/home/cheng/PycharmProjects/TSP/\")\n",
    "\n",
    "project_path = \"/home/cheng/PycharmProjects/TSP/\"\n",
    "\n",
    "from TravelingSalesmanProblem.AntColonyAlgorithmForMTSP import *\n",
    "\n",
    "mtsp = AntColonyAlgorithmForMTSP(iter_max= 20, num= 2, K = 6, L = 11,\n",
    "                datasets= \"/home/cheng/PycharmProjects/TSP/datasets/dist%d_%d\" % (seq, dataset) )\n",
    "# import numpy as np\n",
    "# result = np.array( result )\n",
    "# mtsp.plot_route( result )\n",
    "# mtsp.print_length(result)\n",
    "mtsp.excution()\n",
    "mtsp.plot()"
   ]
  },
  {
   "cell_type": "code",
   "execution_count": 2,
   "metadata": {
    "collapsed": true
   },
   "outputs": [
    {
     "name": "stdout",
     "output_type": "stream",
     "text": [
      "<class 'numpy.ndarray'>\n"
     ]
    },
    {
     "data": {
      "image/png": "[encoded data removed]",
      "text/plain": [
       "<matplotlib.figure.Figure at 0x7f54b13f8080>"
      ]
     },
     "metadata": {},
     "output_type": "display_data"
    },
    {
     "name": "stdout",
     "output_type": "stream",
     "text": [
      "[ 28 270]\n"
     ]
    }
   ],
   "source": [
    "# on my algorithm\n",
    "p1_route=[0.0, 7.0, 6.0, 5.0, 13.0, 17.0, 12.0, 3.0, 16.0, 11.0, 0.0, \n",
    "          10.0, 4.0, 14.0, 9.0, 8.0, 15.0, 1.0, 2.0]\n",
    "p2_route=[0.0, 15.0, 16.0, 6.0, 17.0, 10.0, 5.0, 11.0, 9.0, 4.0, 0.0, \n",
    "          14.0, 12.0, 13.0, 8.0, 1.0, 2.0, 7.0, 3.0]\n",
    "p3_route=[0.0, 1.0, 10.0, 5.0, 3.0, 12.0, 4.0, 17.0, 13.0, 16.0, 0.0, \n",
    "          2.0, 8.0, 7.0, 6.0, 9.0, 14.0, 11.0, 15.0]\n",
    "p4_route=[0.0, 16.0, 4.0, 12.0, 17.0, 14.0, 9.0, 2.0, 1.0, 0.0, 15.0, \n",
    "          13.0, 7.0, 6.0, 8.0, 10.0, 3.0, 11.0, 5.0]\n",
    "\n",
    "seq = 18\n",
    "dataset = 3\n",
    "\n",
    "p3_route=[0.0, 1.0, 0.0, 10.0, 5.0, 3.0, 12.0, 4.0, 17.0, 13.0, 16.0, \n",
    "          2.0, 8.0, 7.0, 6.0, 9.0, 14.0, 11.0, 15.0]\n",
    "result = [int(i) for i in p3_route]\n",
    "\n",
    "# plot result \n",
    "import sys\n",
    "sys.path.append(\"/home/cheng/PycharmProjects/TSP/src/\")\n",
    "sys.path.append(\"/home/cheng/PycharmProjects/TSP/src/TravelingSalesmanProblem/\")\n",
    "sys.path.append(\"/home/cheng/PycharmProjects/TSP/\")\n",
    "\n",
    "project_path = \"/home/cheng/PycharmProjects/TSP/\"\n",
    "\n",
    "from TravelingSalesmanProblem.AntColonyAlgorithmForMTSP import *\n",
    "\n",
    "mtsp = AntColonyAlgorithmForMTSP(iter_max= 20, num= 2, K = 1, L = 18,\n",
    "                datasets= \"/home/cheng/PycharmProjects/TSP/datasets/dist%d_%d\" % (seq, dataset) )\n",
    "import numpy as np\n",
    "result = np.array( result )\n",
    "mtsp.plot_route( result )\n",
    "mtsp.print_length(result)"
   ]
  },
  {
   "cell_type": "code",
   "execution_count": 30,
   "metadata": {},
   "outputs": [
    {
     "name": "stdout",
     "output_type": "stream",
     "text": [
      "[[0, 2, 1, 15, 8, 9, 14, 16, 4, 10, 0, 11, 3, 12, 17, 13, 5, 6, 7, 0], [0, 4, 9, 11, 5, 10, 17, 6, 16, 15, 0, 3, 7, 2, 1, 8, 13, 12, 14, 0], [0, 15, 5, 11, 3, 12, 4, 17, 13, 16, 0, 2, 1, 8, 7, 6, 9, 14, 10, 0], [0, 12, 17, 14, 9, 2, 1, 0, 5, 11, 10, 8, 6, 7, 13, 3, 15, 4, 16, 0]] [[0, 7, 6, 5, 13, 17, 12, 3, 16, 11, 0, 10, 4, 14, 9, 8, 15, 1, 2, 0], [0, 15, 16, 6, 17, 10, 5, 11, 9, 4, 0, 14, 12, 13, 8, 1, 2, 7, 3, 0], [0, 1, 10, 5, 3, 12, 4, 17, 13, 16, 0, 2, 8, 7, 6, 9, 14, 11, 15, 0], [0, 16, 4, 12, 17, 14, 9, 2, 1, 0, 15, 13, 7, 6, 8, 10, 3, 11, 5, 0]]\n[[[37.0, 52.0], [52.0, 64.0], [49.0, 49.0], [52.0, 41.0], [52.0, 33.0], [51.0, 21.0], [36.0, 16.0], [27.0, 23.0], [40.0, 30.0], [42.0, 41.0], [37.0, 52.0], [31.0, 32.0], [20.0, 26.0], [5.0, 25.0], [17.0, 33.0], [12.0, 42.0], [21.0, 47.0], [17.0, 63.0], [31.0, 62.0], [37.0, 52.0]], [[31.0, 62.0], [31.0, 32.0], [27.0, 23.0], [13.0, 13.0], [5.0, 25.0], [17.0, 33.0], [7.0, 38.0], [12.0, 42.0], [8.0, 52.0], [16.0, 57.0], [31.0, 62.0], [42.0, 41.0], [36.0, 16.0], [51.0, 21.0], [52.0, 33.0], [52.0, 41.0], [62.0, 42.0], [57.0, 58.0], [42.0, 57.0], [31.0, 62.0]], [[27.0, 23.0], [38.0, 46.0], [42.0, 57.0], [43.0, 67.0], [57.0, 58.0], [58.0, 48.0], [62.0, 42.0], [61.0, 33.0], [58.0, 27.0], [46.0, 10.0], [27.0, 23.0], [13.0, 13.0], [17.0, 33.0], [7.0, 38.0], [8.0, 52.0], [16.0, 57.0], [27.0, 68.0], [37.0, 69.0], [30.0, 48.0], [27.0, 23.0]], [[61.0, 33.0], [32.0, 39.0], [30.0, 40.0], [25.0, 55.0], [5.0, 64.0], [63.0, 69.0], [62.0, 63.0], [61.0, 33.0], [59.0, 15.0], [39.0, 10.0], [30.0, 15.0], [21.0, 10.0], [5.0, 6.0], [10.0, 17.0], [25.0, 32.0], [32.0, 22.0], [48.0, 28.0], [45.0, 35.0], [56.0, 37.0], [61.0, 33.0]]]\n[[[37.0, 52.0], [31.0, 62.0], [17.0, 63.0], [21.0, 47.0], [12.0, 42.0], [17.0, 33.0], [5.0, 25.0], [20.0, 26.0], [27.0, 23.0], [31.0, 32.0], [37.0, 52.0], [42.0, 41.0], [40.0, 30.0], [36.0, 16.0], [51.0, 21.0], [52.0, 33.0], [52.0, 41.0], [49.0, 49.0], [52.0, 64.0], [37.0, 52.0]], [[31.0, 62.0], [16.0, 57.0], [8.0, 52.0], [12.0, 42.0], [7.0, 38.0], [17.0, 33.0], [5.0, 25.0], [13.0, 13.0], [27.0, 23.0], [31.0, 32.0], [31.0, 62.0], [42.0, 57.0], [57.0, 58.0], [62.0, 42.0], [52.0, 41.0], [52.0, 33.0], [51.0, 21.0], [36.0, 16.0], [42.0, 41.0], [31.0, 62.0]], [[27.0, 23.0], [17.0, 33.0], [30.0, 48.0], [42.0, 57.0], [57.0, 58.0], [58.0, 48.0], [62.0, 42.0], [61.0, 33.0], [58.0, 27.0], [46.0, 10.0], [27.0, 23.0], [13.0, 13.0], [7.0, 38.0], [8.0, 52.0], [16.0, 57.0], [27.0, 68.0], [37.0, 69.0], [43.0, 67.0], [38.0, 46.0], [27.0, 23.0]], [[61.0, 33.0], [56.0, 37.0], [45.0, 35.0], [32.0, 39.0], [30.0, 40.0], [25.0, 55.0], [5.0, 64.0], [63.0, 69.0], [62.0, 63.0], [61.0, 33.0], [48.0, 28.0], [25.0, 32.0], [10.0, 17.0], [5.0, 6.0], [21.0, 10.0], [30.0, 15.0], [32.0, 22.0], [39.0, 10.0], [59.0, 15.0], [61.0, 33.0]]]\n"
     ]
    },
    {
     "data": {
      "image/png": "[encoded data removed]",
      "text/plain": [
       "<matplotlib.figure.Figure at 0x7faebd0ae710>"
      ]
     },
     "metadata": {},
     "output_type": "display_data"
    }
   ],
   "source": [
    "lingo18_1_route=[0, 2, 1, 15, 8, 9, 14, 16, 4, 10, 0, \n",
    "                 11, 3, 12, 17, 13, 5, 6, 7]\n",
    "lingo18_2_route=[0, 4, 9, 11, 5, 10, 17, 6, 16, 15, 0, \n",
    "                 3, 7, 2, 1, 8, 13, 12, 14]\n",
    "lingo18_3_route=[0, 15, 5, 11, 3, 12, 4, 17, 13, 16, 0, \n",
    "                 2, 1, 8, 7, 6, 9, 14, 10]\n",
    "lingo18_4_route=[0, 12, 17, 14, 9, 2, 1, 0, 5, 11, 10, \n",
    "                 8, 6, 7, 13, 3, 15, 4, 16]\n",
    "lingo=[lingo18_1_route,lingo18_2_route,lingo18_3_route,lingo18_4_route]\n",
    "\n",
    "ACO_1_route=[0.0, 7.0, 6.0, 5.0, 13.0, 17.0, 12.0, 3.0, 16.0, 11.0, 0.0, \n",
    "          10.0, 4.0, 14.0, 9.0, 8.0, 15.0, 1.0, 2.0]\n",
    "ACO_2_route=[0.0, 15.0, 16.0, 6.0, 17.0, 10.0, 5.0, 11.0, 9.0, 4.0, 0.0, \n",
    "          14.0, 12.0, 13.0, 8.0, 1.0, 2.0, 7.0, 3.0]\n",
    "ACO_3_route=[0.0, 1.0, 10.0, 5.0, 3.0, 12.0, 4.0, 17.0, 13.0, 16.0, 0.0, \n",
    "          2.0, 8.0, 7.0, 6.0, 9.0, 14.0, 11.0, 15.0]\n",
    "ACO_4_route=[0.0, 16.0, 4.0, 12.0, 17.0, 14.0, 9.0, 2.0, 1.0, 0.0, 15.0, \n",
    "          13.0, 7.0, 6.0, 8.0, 10.0, 3.0, 11.0, 5.0]\n",
    "ACO=[ACO_1_route,ACO_2_route,ACO_3_route,ACO_4_route]\n",
    "\n",
    "for i in range(4):\n",
    "    for j in range(len(lingo[0])):\n",
    "        lingo[i][j]=int(lingo[i][j])\n",
    "        ACO[i][j]=int(ACO[i][j])\n",
    "for i in range(4):\n",
    "    lingo[i].append(0)\n",
    "    ACO[i].append(0)\n",
    "print(lingo, ACO)\n",
    "\n",
    "lingo_result = []\n",
    "ACO_result =[]\n",
    "\n",
    "import numpy as np\n",
    "\n",
    "for i in range(4):\n",
    "    dataset = np.loadtxt( \"/home/cheng/PycharmProjects/TSP/datasets/dist18_%d\" %(i+1) )[:,1:]\n",
    "    # print(\"dataset====== \", dataset)\n",
    "    lingo_result.append( dataset[lingo[i]].tolist() )\n",
    "    ACO_result.append( dataset[ACO[i]].tolist() )\n",
    "print(lingo_result)\n",
    "print(ACO_result)\n",
    "\n",
    "fig = plt.figure(figsize=(15,15))\n",
    "plt.suptitle(\"Compare ACO results with Lingo consequences\")\n",
    "\n",
    "for i in range(4):\n",
    "    ax = fig.add_subplot(4, 2, i*2+1)\n",
    "    plt.axis('equal')\n",
    "    plt.plot( [ ACO_result[i][x][0] for x in range( len(ACO_result[0] ) )], \n",
    "              [ ACO_result[i][x][1] for x in range( len(ACO_result[0] ) )], 'o-')\n",
    "    for x in range( len(ACO_result[0]) ):\n",
    "        ax.annotate(\"  %s\" % ACO[i][x], xy = ACO_result[i][x], textcoords='data' )\n",
    "    plt.title(\"problem %d by ACO\" %(i+1) )\n",
    "    \n",
    "    ax = fig.add_subplot(4, 2, i*2+2)\n",
    "    plt.axis('equal')\n",
    "    plt.plot( [ lingo_result[i][x][0] for x in range( len(ACO_result[0] ) )], \n",
    "              [ lingo_result[i][x][1] for x in range( len(ACO_result[0] ) )], 'o-')\n",
    "    for x in range( len(ACO_result[0]) ):\n",
    "        ax.annotate(\"  %s\" % lingo[i][x], xy = lingo_result[i][x], textcoords='data' )\n",
    "    plt.title(\"problem %d by Lingo\"%(i+1))\n",
    "plt.savefig(\"/home/cheng/桌面/data/A7_compare_ACO_Lingo.jpg\")\n",
    "plt.show()"
   ]
  },
  {
   "cell_type": "code",
   "execution_count": null,
   "metadata": {},
   "outputs": [],
   "source": []
  }
 ],
 "metadata": {
  "kernelspec": {
   "display_name": "Python 2",
   "language": "python",
   "name": "python2"
  },
  "language_info": {
   "codemirror_mode": {
    "name": "ipython",
    "version": 2
   },
   "file_extension": ".py",
   "mimetype": "text/x-python",
   "name": "python",
   "nbconvert_exporter": "python",
   "pygments_lexer": "ipython2",
   "version": "2.7.6"
  }
 },
 "nbformat": 4,
 "nbformat_minor": 0
}
