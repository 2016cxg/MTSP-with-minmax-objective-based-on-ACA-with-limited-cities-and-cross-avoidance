{
 "cells": [
  {
   "cell_type": "code",
   "execution_count": 12,
   "metadata": {
    "collapsed": false
   },
   "outputs": [
    {
     "name": "stdout",
     "output_type": "stream",
     "text": [
      "14 1 1 6 7\n"
     ]
    },
    {
     "name": "stdout",
     "output_type": "stream",
     "text": [
      "[[116.96814710400773, 1.4847400188446045], [118.13520116738196, 1.4860515594482422], [119.31427507395236, 1.4668400287628174], [119.31427507395236, 1.4681589603424072], [119.31427507395236, 1.472452163696289], [119.31427507395236, 1.477095603942871], [119.31427507395236, 1.4850447177886963], [119.31427507395236, 1.4978363513946533], [119.31427507395236, 1.5761795043945312], [119.31427507395236, 1.6934499740600586]]\n=== values [[116.96814710400773, 118.13520116738196, 119.31427507395236, 119.31427507395236, 119.31427507395236]]\n[[(6, 7), (6, 7), (6, 7), (6, 7), (6, 7)], [116.96814710400773, 118.13520116738196, 119.31427507395236, 119.31427507395236, 119.31427507395236], [1.4847400188446045, 1.4860515594482422, 1.4668400287628174, 1.4681589603424072, 1.472452163696289]]\n['interval', 'p1_value', 'p1_time']\n[[(6, 7), (6, 7), (6, 7), (6, 7), (6, 7)], [116.96814710400773, 118.13520116738196, 119.31427507395236, 119.31427507395236, 119.31427507395236], [1.4847400188446045, 1.4860515594482422, 1.4668400287628174, 1.4681589603424072, 1.472452163696289]]\n16 1 1 7 8\n"
     ]
    },
    {
     "name": "stdout",
     "output_type": "stream",
     "text": [
      "[[124.72937843327773, 1.7333924770355225], [124.72937843327773, 1.7363941669464111], [124.72937843327773, 1.7597968578338623], [124.72937843327773, 1.8147614002227783], [129.21479515488522, 1.7362403869628906], [129.85680982459866, 1.7378301620483398], [129.85680982459866, 1.73930025100708], [129.85680982459866, 1.7412638664245605], [129.85680982459866, 1.7459208965301514], [129.85680982459866, 1.7602543830871582]]\n=== values [[124.72937843327773, 124.72937843327773, 124.72937843327773, 124.72937843327773, 129.21479515488522]]\n[[(7, 8), (7, 8), (7, 8), (7, 8), (7, 8)], [124.72937843327773, 124.72937843327773, 124.72937843327773, 124.72937843327773, 129.21479515488522], [1.7333924770355225, 1.7363941669464111, 1.7597968578338623, 1.8147614002227783, 1.7362403869628906]]\n['interval', 'p1_value', 'p1_time']\n[[(7, 8), (7, 8), (7, 8), (7, 8), (7, 8)], [124.72937843327773, 124.72937843327773, 124.72937843327773, 124.72937843327773, 129.21479515488522], [1.7333924770355225, 1.7363941669464111, 1.7597968578338623, 1.8147614002227783, 1.7362403869628906]]\n18 1 1 8 9\n"
     ]
    },
    {
     "name": "stdout",
     "output_type": "stream",
     "text": [
      "[[130.58200082746342, 2.018817901611328], [130.58200082746342, 2.026777744293213], [131.25362372481766, 2.1385223865509033], [131.57717769928351, 2.0625159740448], [139.69065189729648, 2.0621869564056396], [139.69065189729648, 2.071204423904419], [139.69065189729648, 2.076357126235962], [140.86037724872054, 2.0816266536712646], [145.16639907389057, 2.0328369140625], [146.24212379774599, 2.099066972732544]]\n=== values [[130.58200082746342, 130.58200082746342, 131.25362372481766, 131.57717769928351, 139.69065189729648]]\n[[(8, 9), (8, 9), (8, 9), (8, 9), (8, 9)], [130.58200082746342, 130.58200082746342, 131.25362372481766, 131.57717769928351, 139.69065189729648], [2.018817901611328, 2.026777744293213, 2.1385223865509033, 2.0625159740448, 2.0621869564056396]]\n['interval', 'p1_value', 'p1_time']\n[[(8, 9), (8, 9), (8, 9), (8, 9), (8, 9)], [130.58200082746342, 130.58200082746342, 131.25362372481766, 131.57717769928351, 139.69065189729648], [2.018817901611328, 2.026777744293213, 2.1385223865509033, 2.0625159740448, 2.0621869564056396]]\n"
     ]
    }
   ],
   "source": [
    "import sys\n",
    "sys.path.append(\"/home/cheng/PycharmProjects/TSP/src/\")\n",
    "sys.path.append(\"/home/cheng/PycharmProjects/TSP/src/TravelingSalesmanProblem/\")\n",
    "sys.path.append(\"/home/cheng/PycharmProjects/TSP/\")\n",
    "import time\n",
    "import pandas as pd\n",
    "\n",
    "project_path = \"/home/cheng/PycharmProjects/TSP/\"\n",
    "\n",
    "from TravelingSalesmanProblem.AntColonyAlgorithmForMTSP import *\n",
    "\n",
    "for n in [14,16,18]: # n\n",
    "    col = 1\n",
    "    valuelst = [[] for i in range(col)]\n",
    "    timelst = [[] for i in range(col)]\n",
    "    interval = []\n",
    "    row = 5\n",
    "    k_value = [1,2,3]\n",
    "    m_value = [i for i in range(1, col + 1)]\n",
    "    for k in [1]: # interval\n",
    "        for m in [1]:  # the mth datasets of n\n",
    "            lw = int((n-1)/2) - (k-1)\n",
    "            hg = int( (n-1)/2 ) + k\n",
    "            print( n, k,m, lw, hg)\n",
    "            lst = []\n",
    "            for i in range( 10 ):\n",
    "                a = time.time()\n",
    "                mtsp = AntColonyAlgorithmForMTSP(iter_max= 20,alpha=1,beta=5, vol= 0.9, num= 2, \n",
    "                                    K = lw, L = hg,\n",
    "                                datasets= \"/home/cheng/PycharmProjects/TSP/datasets/dist%d_%d\" %(n,m))\n",
    "                mtsp.excution()\n",
    "                b = time.time()\n",
    "                # print( \"time in second\", b - a )\n",
    "                lst.append( [ mtsp.return_best()[0], b-a])\n",
    "                # mtsp.print_information()\n",
    "                # mtsp.plot()\n",
    "            def custom_key(x ):\n",
    "                return x[0],x[1]\n",
    "            lst = sorted( lst, key= custom_key )\n",
    "            print( lst )\n",
    "            \n",
    "            valuelst[m-1].extend( [lst[i][0] for i in range( row )] )\n",
    "            timelst[m-1].extend( [lst[i][1] for i in range( row )] )\n",
    "            interval.extend( [(lw, hg) for i in range(row)])\n",
    "            print(\"=== values\", valuelst)\n",
    "    data = []\n",
    "    data.append(interval)\n",
    "    data.extend(valuelst)\n",
    "    data.extend(timelst)\n",
    "    print( data )\n",
    "    \n",
    "    label =[]\n",
    "    label.extend([\"interval\"])\n",
    "    label.extend([\"p%d_value\"%i for i in range(1,col+1)])\n",
    "    label.extend([\"p%d_time\"%i  for i in range(1,col+1)])\n",
    "    \n",
    "    path = \"/home/cheng/桌面/data/A2_n%d.csv\" %n\n",
    "    # pd.read_csv(path)\n",
    "    dataframe = pd.DataFrame()\n",
    "    print( label )\n",
    "    print( data )\n",
    "    for i in range( len( label)):\n",
    "        dataframe[ label[i] ] = data[i]\n",
    "    dataframe.to_csv(path)\n",
    "            \n",
    "# solution = [0, 7, 6, 5, 11, 3, 0, 10, 4, 9, 8, 1, 2]\n",
    "# mtsp = AntColonyAlgorithmForMTSP(iter_max= 20,alpha=1,beta=4, vol= 0.9, num= 2, \n",
    "#                                       K = 5, L = 6,datasets= \"/home/cheng/PycharmProjects/TSP/datasets/dist12_1\")\n",
    "# mtsp.test_eliminate_cross_in_MTSP( solution )"
   ]
  },
  {
   "cell_type": "code",
   "execution_count": 21,
   "metadata": {},
   "outputs": [
    {
     "name": "stdout",
     "output_type": "stream",
     "text": [
      "[0, 10, 6, 11, 9, 1, 0, 2, 8, 7, 5, 3, 4]\n1\n<class 'numpy.ndarray'>\n"
     ]
    },
    {
     "data": {
      "image/png": "[encoded data removed]",
      "text/plain": [
       "<matplotlib.figure.Figure at 0x7f405443e4a8>"
      ]
     },
     "metadata": {},
     "output_type": "display_data"
    },
    {
     "name": "stdout",
     "output_type": "stream",
     "text": [
      "[121 120]\n"
     ]
    }
   ],
   "source": [
    "# route\n",
    "import pandas  as pd\n",
    "seq = 12\n",
    "dataset = 4\n",
    "length = 2\n",
    "mp = []\n",
    "for i in range( length ):\n",
    "    tmp = pd.read_excel('/home/cheng/桌面/dist.xlsx','dist%d_%d_%d' % (seq, dataset, i+1)).values\n",
    "    mp.append( tmp )\n",
    "\n",
    "route = []\n",
    "for k in range( length ):\n",
    "    tmp = [0]\n",
    "    i = mp[k][0].tolist().index(1) \n",
    "    while i != 0:\n",
    "        tmp.append( int(i) )\n",
    "        i = mp[k][i].tolist().index(1)\n",
    "    route.append( tmp )\n",
    "\n",
    "result = []\n",
    "for i in route:\n",
    "    result.extend( i )\n",
    "print( result )\n",
    "\n",
    "# solution = [0, 7, 6, 5, 11, 3, 0, 10, 4, 9, 8, 1, 2]\n",
    "# result = [0, 7, 6, 5, 3, 11, 0, 10, 4, 9, 8, 1, 2] \n",
    "\n",
    "# plot result \n",
    "import sys\n",
    "sys.path.append(\"/home/cheng/PycharmProjects/TSP/src/\")\n",
    "sys.path.append(\"/home/cheng/PycharmProjects/TSP/src/TravelingSalesmanProblem/\")\n",
    "sys.path.append(\"/home/cheng/PycharmProjects/TSP/\")\n",
    "\n",
    "project_path = \"/home/cheng/PycharmProjects/TSP/\"\n",
    "\n",
    "from TravelingSalesmanProblem.AntColonyAlgorithmForMTSP import *\n",
    "\n",
    "mtsp = AntColonyAlgorithmForMTSP(iter_max= 20, num= length, K = 3, L = 7,\n",
    "                datasets= \"/home/cheng/PycharmProjects/TSP/datasets/dist%d_%d\" % (seq, dataset) )\n",
    "import numpy as np\n",
    "result = np.array( result )\n",
    "mtsp.plot_route( result )\n",
    "mtsp.print_length(result)"
   ]
  },
  {
   "cell_type": "code",
   "execution_count": null,
   "metadata": {},
   "outputs": [],
   "source": []
  }
 ],
 "metadata": {
  "kernelspec": {
   "display_name": "Python 2",
   "language": "python",
   "name": "python2"
  },
  "language_info": {
   "codemirror_mode": {
    "name": "ipython",
    "version": 2
   },
   "file_extension": ".py",
   "mimetype": "text/x-python",
   "name": "python",
   "nbconvert_exporter": "python",
   "pygments_lexer": "ipython2",
   "version": "2.7.6"
  }
 },
 "nbformat": 4,
 "nbformat_minor": 0
}
