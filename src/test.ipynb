{
 "cells": [
  {
   "cell_type": "code",
   "execution_count": 1,
   "metadata": {
    "collapsed": true
   },
   "outputs": [],
   "source": [
    "import sys\n",
    "sys.path.append(\"/home/cheng/PycharmProjects/TSP/src/\")\n",
    "sys.path.append(\"/home/cheng/PycharmProjects/TSP/src/TravelingSalesmanProblem/\")\n",
    "sys.path.append(\"/home/cheng/PycharmProjects/TSP/\")\n",
    "\n",
    "project_path = \"/home/cheng/PycharmProjects/TSP/\""
   ]
  },
  {
   "cell_type": "code",
   "execution_count": null,
   "metadata": {
    "collapsed": false
   },
   "outputs": [],
   "source": [
    "from TravelingSalesmanProblem.AntColonyAlgorithm import *\n",
    "from TravelingSalesmanProblem.AntColonyAlgorithmWithDiagnalCrossDetection import *"
   ]
  },
  {
   "cell_type": "code",
   "execution_count": 3,
   "metadata": {},
   "outputs": [
    {
     "name": "stdout",
     "output_type": "stream",
     "text": [
      "/home/cheng/PycharmProjects/TSP/datasets/berlin52\nin 1\n/home/cheng/PycharmProjects/TSP/datasets/berlin52\nin 2\n/home/cheng/PycharmProjects/TSP/datasets/berlin52\n"
     ]
    }
   ],
   "source": [
    "data_path = project_path + \"datasets/berlin52\"\n",
    "print( data_path )\n",
    "aca = AntColonyAlgorithmWithDiagnalCrossDetection( datasets= data_path )"
   ]
  },
  {
   "cell_type": "code",
   "execution_count": 7,
   "metadata": {},
   "outputs": [
    {
     "name": "stdout",
     "output_type": "stream",
     "text": [
      "coefficient\n[-0.5, 0.5, 0.0, -1, 0, -1]\nTrue\n(1.0, 1.0)\nFalse\n"
     ]
    }
   ],
   "source": [
    "a = [0, 0]\n",
    "b = [0.5, 0.5]\n",
    "c = [1, 0]\n",
    "d = [1, 1]\n",
    "\n",
    "result = aca._detect_cross_in_two_edges( a, b,c , d)\n",
    "print( result )"
   ]
  },
  {
   "cell_type": "code",
   "execution_count": null,
   "metadata": {},
   "outputs": [],
   "source": [
    "import numpy as np\n",
    "\n",
    "a = np.array([ 1, 2 , 3])"
   ]
  }
 ],
 "metadata": {
  "kernelspec": {
   "display_name": "Python 2",
   "language": "python",
   "name": "python2"
  },
  "language_info": {
   "codemirror_mode": {
    "name": "ipython",
    "version": 2
   },
   "file_extension": ".py",
   "mimetype": "text/x-python",
   "name": "python",
   "nbconvert_exporter": "python",
   "pygments_lexer": "ipython2",
   "version": "2.7.6"
  }
 },
 "nbformat": 4,
 "nbformat_minor": 0
}
